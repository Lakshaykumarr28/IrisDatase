{
  "nbformat": 4,
  "nbformat_minor": 0,
  "metadata": {
    "colab": {
      "provenance": []
    },
    "kernelspec": {
      "name": "python3",
      "display_name": "Python 3"
    },
    "language_info": {
      "name": "python"
    }
  },
  "cells": [
    {
      "cell_type": "markdown",
      "source": [
        "\n",
        "# **Day 2 :- Assignment On Functions, Conditions, Loops**\n",
        "\n",
        "**Save the File with Your Name_RollNumber and Upload on Classroom**"
      ],
      "metadata": {
        "id": "fSB3-fMiwEuV"
      }
    },
    {
      "cell_type": "markdown",
      "source": [],
      "metadata": {
        "id": "ArD5HScu_QKF"
      }
    },
    {
      "cell_type": "markdown",
      "source": [
        "Q1: Check number\n",
        "Given an integer n, find if n is positive, negative or 0.\n",
        "If n is positive, print \"Positive\"\n",
        "If n is negative, print \"Negative\"\n",
        "And if n is equal to 0, print \"Zero\"."
      ],
      "metadata": {
        "id": "LqFJE_gmwKGc"
      }
    },
    {
      "cell_type": "code",
      "source": [
        "#Solution\n",
        "n = int(input(\"enter your number: \"))\n",
        "if(n>0):\n",
        "  print(\"Positive\")\n",
        "elif(n==0):\n",
        "  print(\"Zero\")\n",
        "else:\n",
        "  print(\"Negative\")"
      ],
      "metadata": {
        "id": "uyEfs_DBwQT9",
        "colab": {
          "base_uri": "https://localhost:8080/"
        },
        "outputId": "8e2eee98-89fb-40b6-9118-f30c3c7f8083"
      },
      "execution_count": null,
      "outputs": [
        {
          "output_type": "stream",
          "name": "stdout",
          "text": [
            "enter your number: 5\n",
            "Positive\n"
          ]
        }
      ]
    },
    {
      "cell_type": "markdown",
      "source": [
        "Q2: Sum of n numbers\n",
        "Given an integer n, find and print the sum of numbers from 1 to n."
      ],
      "metadata": {
        "id": "FNl9k0lhwRx0"
      }
    },
    {
      "cell_type": "code",
      "source": [
        "#Solution\n",
        "n = int(input(\"give your number: \"))\n",
        "sum = 0\n",
        "for x in range(n+1):\n",
        "  sum = sum + x\n",
        "print(f\"sum of all numbers till {n} is: {sum}\")"
      ],
      "metadata": {
        "id": "eKwJHSJawU6j",
        "colab": {
          "base_uri": "https://localhost:8080/"
        },
        "outputId": "8f1b84f3-7d8e-430e-e2c6-e43e7db73595"
      },
      "execution_count": 1,
      "outputs": [
        {
          "output_type": "stream",
          "name": "stdout",
          "text": [
            "give your number: 3\n",
            "sum of all numbers till 3 is: 6\n"
          ]
        }
      ]
    },
    {
      "cell_type": "markdown",
      "source": [
        "Q3: Sum of Even Numbers\n",
        "Given a number N, print sum of all even numbers from 1 to N.\n"
      ],
      "metadata": {
        "id": "Z-q70uCtwWi7"
      }
    },
    {
      "cell_type": "code",
      "source": [
        "#Solution\n",
        "n = int(input(\"give your number: \"))\n",
        "sum = 0\n",
        "for x in range(n+1):\n",
        "  if(x%2 == 0):\n",
        "    sum += x\n",
        "print(f\"Sum of even numbers till {n} is {sum}\")"
      ],
      "metadata": {
        "id": "PB9fOChRwZ4U",
        "colab": {
          "base_uri": "https://localhost:8080/"
        },
        "outputId": "fe8ee688-d18b-44f7-9b62-0dacfdc3734b"
      },
      "execution_count": 2,
      "outputs": [
        {
          "output_type": "stream",
          "name": "stdout",
          "text": [
            "give your number: 3\n",
            "Sum of even numbers till 3 is 2\n"
          ]
        }
      ]
    },
    {
      "cell_type": "markdown",
      "source": [
        "Q4: Reverse of a number\n",
        "Write a program to generate the reverse of a given number N. Print the corresponding reverse number.\n",
        "Note : If a number has trailing zeros, then its reverse will not include them. For e.g., reverse of 10400 will be 401 instead of 00401."
      ],
      "metadata": {
        "id": "wSZKbsrgweT8"
      }
    },
    {
      "cell_type": "code",
      "source": [
        "#Solution\n",
        "n = int(input(\"enter number to be reversed: \"))\n",
        "x = str(n)\n",
        "x = x[::-1]\n",
        "x = int(x)\n",
        "print(x)\n"
      ],
      "metadata": {
        "id": "sJPCOSf7wg00",
        "colab": {
          "base_uri": "https://localhost:8080/"
        },
        "outputId": "090c7964-649b-4d18-a1a4-3de3c90e89e1"
      },
      "execution_count": null,
      "outputs": [
        {
          "output_type": "stream",
          "name": "stdout",
          "text": [
            "enter number to be reversed: 1200\n",
            "21\n"
          ]
        }
      ]
    },
    {
      "cell_type": "markdown",
      "source": [
        "Q5: Nth Fibonacci Number\n",
        "Provided 'n' you have to find out the n-th Fibonacci Number. Example: Input: 6\n",
        "\n",
        "Output: 8"
      ],
      "metadata": {
        "id": "KmZCRg2swq_c"
      }
    },
    {
      "cell_type": "code",
      "source": [
        "#Solution\n",
        "lis = [0,1]\n",
        "n = int(input(\"give your number: \"))\n",
        "fib = 0\n",
        "for i in range(2,n+1):\n",
        "  lis.append(lis[i-1] + lis[i-2])\n",
        "  if i == n:\n",
        "    fib = lis[i]\n",
        "print(f\"the {n}th fibonacci number is: {fib}\")"
      ],
      "metadata": {
        "id": "kcvNaHDnwwpU",
        "colab": {
          "base_uri": "https://localhost:8080/"
        },
        "outputId": "c5c3097d-2db5-4398-9b6c-684531417185"
      },
      "execution_count": 9,
      "outputs": [
        {
          "output_type": "stream",
          "name": "stdout",
          "text": [
            "give your number: 6\n",
            "the 6th fibonacci number is: 8\n"
          ]
        }
      ]
    },
    {
      "cell_type": "markdown",
      "source": [
        "Q6: Fibonacci Member\n",
        "Given a number N, figure out if it is a member of fibonacci series or not. Return true if the number is member of fibonacci series else false."
      ],
      "metadata": {
        "id": "baBwwSCpxFUM"
      }
    },
    {
      "cell_type": "code",
      "source": [
        "#Solution\n",
        "n = int(input(\"enter your number: \"))\n",
        "lis = [0,1]\n",
        "ans = False\n",
        "\n",
        "while lis[len(lis)-1]<=n:\n",
        "  lis.append( lis[len(lis)-1] + lis[len(lis)-2] )\n",
        "  if (lis[len(lis)-1] == n):\n",
        "    ans = True\n",
        "\n",
        "print(f\"Is this number a part of fibonacci series: {ans}\")"
      ],
      "metadata": {
        "id": "gW0tfYQ8xM1U",
        "colab": {
          "base_uri": "https://localhost:8080/"
        },
        "outputId": "c9b6cdc7-d83e-4306-b40b-c0e0a284d41e"
      },
      "execution_count": 22,
      "outputs": [
        {
          "output_type": "stream",
          "name": "stdout",
          "text": [
            "enter your number: 13\n",
            "Is this number a part of fibonacci series: True\n"
          ]
        }
      ]
    },
    {
      "cell_type": "markdown",
      "source": [
        "Q7: Write a Python function to find the maximum of three numbers.\n"
      ],
      "metadata": {
        "id": "TdPUC4oAxf88"
      }
    },
    {
      "cell_type": "code",
      "source": [
        "#Solution\n",
        "def maximum(a,b,c):\n",
        "  if (a>b) and (a>c):\n",
        "    return a\n",
        "  elif (b>a) and (b>c):\n",
        "    return b\n",
        "  else:\n",
        "    return c\n",
        "\n",
        "print(\"enter three numbers\")\n",
        "a = int(input(\"enter number: \"))\n",
        "b = int(input(\"enter number: \"))\n",
        "c = int(input(\"enter number: \"))\n",
        "\n",
        "print(f\"the largest number is: {maximum(a,b,c)}\")"
      ],
      "metadata": {
        "id": "-OIQcFrNxhJz",
        "colab": {
          "base_uri": "https://localhost:8080/"
        },
        "outputId": "a1e5019d-724b-43f4-cacd-41ffa31be07b"
      },
      "execution_count": null,
      "outputs": [
        {
          "output_type": "stream",
          "name": "stdout",
          "text": [
            "enter three numbers\n",
            "enter number: 9\n",
            "enter number: 5\n",
            "enter number: 4\n",
            "the largest number is: 9\n"
          ]
        }
      ]
    },
    {
      "cell_type": "markdown",
      "source": [
        "Q8: Write a Program to calculate simple interest using function interest() that received principal amount, time and rate and returns calculated simple interest."
      ],
      "metadata": {
        "id": "nwBrpmOTxiYz"
      }
    },
    {
      "cell_type": "code",
      "source": [
        "def interest(p,r,t):\n",
        "  return p*r*t / 100\n",
        "\n",
        "p = int(input(\"enter principal value: \"))\n",
        "r = int(input(\"enter rate: \"))\n",
        "t = int(input(\"enter time: \"))\n",
        "\n",
        "ans = interest(p,r,t)\n",
        "print(f\"the simple interest is {ans}\")"
      ],
      "metadata": {
        "colab": {
          "base_uri": "https://localhost:8080/"
        },
        "id": "RibNmG6w5_uQ",
        "outputId": "5589ae4b-a562-42a0-886f-dde0257f6517"
      },
      "execution_count": null,
      "outputs": [
        {
          "output_type": "stream",
          "name": "stdout",
          "text": [
            "enter principal value: 10\n",
            "enter rate: 10\n",
            "enter time: 10\n",
            "the simple interest is 10.0\n"
          ]
        }
      ]
    },
    {
      "cell_type": "markdown",
      "source": [
        "Q9: WAP to accept three integers and print the largest of the three\n"
      ],
      "metadata": {
        "id": "H9E-PjlF_Ta1"
      }
    },
    {
      "cell_type": "code",
      "source": [
        "#Solution\n",
        "lis = []\n",
        "print(\"enter three numbers\")\n",
        "for i in range(3):\n",
        "  n = int(input(f\"enter {i+1}th number: \"))\n",
        "  lis.append(n)\n",
        "\n",
        "ans = 0\n",
        "if (lis[0]>lis[1] and lis[0]>lis[2]):\n",
        "  ans = lis[0]\n",
        "elif (lis[1]>lis[0] and lis[1]>lis[2]):\n",
        "  ans = lis[1]\n",
        "else:\n",
        "  ans = lis[2]\n",
        "print(\"largest number is:\", ans)"
      ],
      "metadata": {
        "id": "9b4nvmdR_WQz",
        "colab": {
          "base_uri": "https://localhost:8080/"
        },
        "outputId": "961797d6-4220-46e6-a25e-3ff0eea8e957"
      },
      "execution_count": null,
      "outputs": [
        {
          "output_type": "stream",
          "name": "stdout",
          "text": [
            "enter three numbers\n",
            "enter 1th number: 2\n",
            "enter 2th number: 4\n",
            "enter 3th number: 7\n",
            "largest number is: 7\n"
          ]
        }
      ]
    },
    {
      "cell_type": "markdown",
      "source": [
        "Q10: WAP that inputs three numbers and print sum of non-duplicate numbers. Duplicate numbers are ignored\n"
      ],
      "metadata": {
        "id": "nEYD_ia7_X7p"
      }
    },
    {
      "cell_type": "code",
      "source": [
        "#Solution\n",
        "lis = []\n",
        "for i in range(3):\n",
        "  lis.append(int(input(f\"enter {i}th num: \")))\n",
        "\n",
        "new = []\n",
        "for i in range(3):\n",
        "  if(lis[i] not in new):\n",
        "    new.append(lis[i])\n",
        "\n",
        "sum = 0\n",
        "for i in new:\n",
        "  sum = sum+i\n",
        "\n",
        "print(f\"sum of the numbers without duplicates is: {sum}\")"
      ],
      "metadata": {
        "id": "WmSSqqiF_aE8",
        "colab": {
          "base_uri": "https://localhost:8080/"
        },
        "outputId": "27ce64f9-05bd-45a6-e721-b18076d4f778"
      },
      "execution_count": null,
      "outputs": [
        {
          "output_type": "stream",
          "name": "stdout",
          "text": [
            "enter 0th num: 2\n",
            "enter 1th num: 2\n",
            "enter 2th num: 2\n",
            "sum of the numbers without duplicates is: 2\n"
          ]
        }
      ]
    },
    {
      "cell_type": "markdown",
      "source": [
        "Q11: WAP to display a menu for calculating area of circle or perimeter of circle\n"
      ],
      "metadata": {
        "id": "vQ4afYX5_bPe"
      }
    },
    {
      "cell_type": "code",
      "source": [
        "#Solution\n",
        "r = int(input(\"enter radius: \"))\n",
        "a = True\n",
        "while(a):\n",
        "  n = int(input(\"what do you want to calculate? press 1. area 2. perimeter 3.exit\\n\"))\n",
        "  if (n==1):\n",
        "    print(f\"area of the circle is: {3.14*r*r}\")\n",
        "  elif(n==2):\n",
        "    print(f\"perimeter of the circle is {2*3.14*r}\")\n",
        "  elif(n==3):\n",
        "    a = False\n",
        "    print(f\"exited the menu\")\n",
        "  else:\n",
        "    print(\"not a valid choice\")"
      ],
      "metadata": {
        "id": "633csjYR_e3C",
        "colab": {
          "base_uri": "https://localhost:8080/"
        },
        "outputId": "9ff090b4-49f6-4d5a-ee68-7fb5a1206664"
      },
      "execution_count": null,
      "outputs": [
        {
          "output_type": "stream",
          "name": "stdout",
          "text": [
            "enter radius: 2\n",
            "what do you want to calculate? press 1. area 2. perimeter 3.exit\n",
            "1\n",
            "area of the circle is: 12.56\n",
            "what do you want to calculate? press 1. area 2. perimeter 3.exit\n",
            "2\n",
            "perimeter of the circle is 12.56\n",
            "what do you want to calculate? press 1. area 2. perimeter 3.exit\n",
            "7\n",
            "no a valid choice\n",
            "what do you want to calculate? press 1. area 2. perimeter 3.exit\n",
            "3\n",
            "exited the menu\n"
          ]
        }
      ]
    },
    {
      "cell_type": "markdown",
      "source": [
        "Q12: WAP that reads three numbers and prints them in ascending order\n"
      ],
      "metadata": {
        "id": "n2R_58zW_gDI"
      }
    },
    {
      "cell_type": "code",
      "source": [
        "#Solution\n",
        "lis = [0,0,0]\n",
        "for i in range(3):\n",
        "  lis[i] = int(input(f\"enter {i}th number: \"))\n",
        "\n",
        "lis.sort()\n",
        "print(f\"the numbers in ascending order are: {lis}\")"
      ],
      "metadata": {
        "id": "xd6AFrLW_h54",
        "colab": {
          "base_uri": "https://localhost:8080/"
        },
        "outputId": "1e8a8a51-e78f-45d6-a367-870c1a1812ff"
      },
      "execution_count": 17,
      "outputs": [
        {
          "output_type": "stream",
          "name": "stdout",
          "text": [
            "enter 0th number: 3\n",
            "enter 1th number: 2\n",
            "enter 2th number: 8\n",
            "the numbers in ascending order are: [2, 3, 8]\n"
          ]
        }
      ]
    },
    {
      "cell_type": "markdown",
      "source": [
        "Q13: WAP that prints sum of natural numbers between two numbers taken as input\n"
      ],
      "metadata": {
        "id": "i99AuRvF_jEI"
      }
    },
    {
      "cell_type": "code",
      "source": [
        "#Solution\n",
        "n = int(input(\"enter 1st number: \"))\n",
        "r = int(input(\"enter 2nd number: \"))\n",
        "sum = 0\n",
        "for i in range(n, r+1):\n",
        "  sum += i\n",
        "\n",
        "print(f\"the sum of natural numbers between the no.s {n} and {r} is {sum}\")"
      ],
      "metadata": {
        "id": "2Y3kB4Bb_lH8",
        "colab": {
          "base_uri": "https://localhost:8080/"
        },
        "outputId": "0c90672f-6b11-4590-96e0-d975a5d848f2"
      },
      "execution_count": null,
      "outputs": [
        {
          "output_type": "stream",
          "name": "stdout",
          "text": [
            "enter 1st number: 2\n",
            "enter 2nd number: 4\n",
            "the sum of natural numbers between the no.s 2 and 4 is 9\n"
          ]
        }
      ]
    },
    {
      "cell_type": "markdown",
      "source": [
        "Q14: WAP to calculate factorial of a number\n"
      ],
      "metadata": {
        "id": "FvN9LR0G_mde"
      }
    },
    {
      "cell_type": "code",
      "source": [
        "#Solution\n",
        "n = int(input(\"enter number to calculate factorial: \"))\n",
        "fact = 1\n",
        "for i in range(1,n+1):\n",
        "  fact = fact*i\n",
        "\n",
        "print(f\"factorial of the number {n} is: {fact}\")"
      ],
      "metadata": {
        "id": "5k5F9LZL_pSu",
        "colab": {
          "base_uri": "https://localhost:8080/"
        },
        "outputId": "6745f541-2b5b-4922-9e7e-853bcd927e31"
      },
      "execution_count": null,
      "outputs": [
        {
          "output_type": "stream",
          "name": "stdout",
          "text": [
            "enter number to calculate factorial: 4\n",
            "factorial of the number 4 is: 24\n"
          ]
        }
      ]
    },
    {
      "cell_type": "markdown",
      "source": [
        "Q15: WAP to input a number and test if it is a prime number or not\n"
      ],
      "metadata": {
        "id": "aqNJbzTi_skj"
      }
    },
    {
      "cell_type": "code",
      "source": [
        "#Solution\n",
        "n = int(input(\"enter number: \"))\n",
        "x = n//2\n",
        "count = 0\n",
        "\n",
        "for i in range(1,x+1):\n",
        "  if(n%i == 0):\n",
        "    count += 1\n",
        "    if(count>=2):\n",
        "      break\n",
        "\n",
        "if(count>=2):\n",
        "  print(\"it is not a prime number\")\n",
        "else:\n",
        "  print(\"it is a prime number\")\n"
      ],
      "metadata": {
        "id": "hTlXyB-x_uiw",
        "colab": {
          "base_uri": "https://localhost:8080/"
        },
        "outputId": "49a64624-9718-4203-bf6a-4f7eb649856e"
      },
      "execution_count": null,
      "outputs": [
        {
          "output_type": "stream",
          "name": "stdout",
          "text": [
            "enter number: 73\n",
            "it is a prime number\n"
          ]
        }
      ]
    },
    {
      "cell_type": "markdown",
      "source": [
        "Q16: WAP to take String line as input and display following stats: Number of uppercase letters, Number of lowercase letters, Number of alphabets and Number of Digits\n"
      ],
      "metadata": {
        "id": "lYniPkQY_vpe"
      }
    },
    {
      "cell_type": "code",
      "source": [
        "#Solution\n",
        "str = input(\"string input: \")\n",
        "upper = 0\n",
        "lower = 0\n",
        "alpha = 0\n",
        "digits = 0\n",
        "\n",
        "for i in range(len(str)):\n",
        "  if(str[i].isupper()):\n",
        "    upper += 1\n",
        "  if(str[i].islower()):\n",
        "    lower += 1\n",
        "  if(str[i].isalpha()):\n",
        "    alpha += 1\n",
        "  if(str[i].isdigit()):\n",
        "    digits += 1\n",
        "\n",
        "print(f\"number of upper case letters are: {upper}\")\n",
        "print(f\"number of lower case letters are: {lower}\")\n",
        "print(f\"number of alphabets are: {alpha}\")\n",
        "print(f\"number of digits are: {digits}\")"
      ],
      "metadata": {
        "id": "KF8BBSGe_yOZ",
        "colab": {
          "base_uri": "https://localhost:8080/"
        },
        "outputId": "66ee86df-8f47-425b-b6b8-14d33b2a30bb"
      },
      "execution_count": 23,
      "outputs": [
        {
          "output_type": "stream",
          "name": "stdout",
          "text": [
            "string input: This is Earth-616\n",
            "number of upper case letters are: 2\n",
            "number of lower case letters are: 9\n",
            "number of alphabets are: 11\n",
            "number of digits are: 3\n"
          ]
        }
      ]
    },
    {
      "cell_type": "markdown",
      "source": [
        "Q17: WAP to reads a line and a substring and display number of occurences of the given substring  in the line\n"
      ],
      "metadata": {
        "id": "NHWzqFyZ_0MP"
      }
    },
    {
      "cell_type": "code",
      "source": [
        "#Solution\n",
        "n = input(\"enter your string: \")\n",
        "x = input(\"enter your substring: \")\n",
        "\n",
        "print(f\"number of occurences of {x} in {n} is {n.count(x)}\")"
      ],
      "metadata": {
        "id": "0ucvjBMz_1lz",
        "colab": {
          "base_uri": "https://localhost:8080/"
        },
        "outputId": "22c2f2db-269d-4b21-e617-52c3f31b0253"
      },
      "execution_count": 21,
      "outputs": [
        {
          "output_type": "stream",
          "name": "stdout",
          "text": [
            "enter your string: hello world hello python\n",
            "enter your substring: hello\n",
            "number of occurences of hello in hello world hello python is 2\n"
          ]
        }
      ]
    },
    {
      "cell_type": "markdown",
      "source": [
        "Q18: WAP that takes a string with multiple words and then capitalize the first letter of each word and forms a new string out of it\n"
      ],
      "metadata": {
        "id": "XxdkeTkc_2hq"
      }
    },
    {
      "cell_type": "code",
      "source": [
        "#Solution\n",
        "n = input(\"enter your string: \")\n",
        "a = n.title()\n",
        "print(a)"
      ],
      "metadata": {
        "id": "0tZzA6c__4qk",
        "colab": {
          "base_uri": "https://localhost:8080/"
        },
        "outputId": "b19e0968-5013-4e74-8359-34b23055fefe"
      },
      "execution_count": null,
      "outputs": [
        {
          "output_type": "stream",
          "name": "stdout",
          "text": [
            "enter your string: the good greedy\n",
            "The Good Greedy\n"
          ]
        }
      ]
    },
    {
      "cell_type": "markdown",
      "source": [
        "### Practice Problems"
      ],
      "metadata": {
        "id": "bTHQXGKmr6ZS"
      }
    },
    {
      "cell_type": "markdown",
      "source": [
        "Ques. enter a string and append it to string bvcoe"
      ],
      "metadata": {
        "id": "226APqFPsAa5"
      }
    },
    {
      "cell_type": "code",
      "source": [
        "a1 =\"bvcoe \"\n",
        "a2 = input()\n",
        "a1 += a2\n",
        "print(a1)"
      ],
      "metadata": {
        "colab": {
          "base_uri": "https://localhost:8080/"
        },
        "id": "20BSs-ASr_Ww",
        "outputId": "d5ffdd96-25a3-4d01-ceda-8fe80045db4a"
      },
      "execution_count": null,
      "outputs": [
        {
          "output_type": "stream",
          "name": "stdout",
          "text": [
            "college\n",
            "bvcoe college\n"
          ]
        }
      ]
    },
    {
      "cell_type": "markdown",
      "source": [
        "Ques. print prime numbers from 1 to 20"
      ],
      "metadata": {
        "id": "by8uQGliumaz"
      }
    },
    {
      "cell_type": "code",
      "source": [
        "for i in range(2, 20):\n",
        "  count = 0\n",
        "\n",
        "  for j in range(1, i):\n",
        "\n",
        "    if(i%j == 0):\n",
        "      count += 1\n",
        "  if(count < 2):\n",
        "    print(i)\n",
        ""
      ],
      "metadata": {
        "id": "iu-aVcpburS4",
        "colab": {
          "base_uri": "https://localhost:8080/"
        },
        "outputId": "488b0dae-6b64-40cf-8d52-ee96c385836d"
      },
      "execution_count": 36,
      "outputs": [
        {
          "output_type": "stream",
          "name": "stdout",
          "text": [
            "2\n",
            "3\n",
            "5\n",
            "7\n",
            "11\n",
            "13\n",
            "17\n",
            "19\n"
          ]
        }
      ]
    },
    {
      "cell_type": "markdown",
      "source": [
        "Ques. use string functions\n",
        "\n",
        "isalpha()\n",
        "\n",
        "isdigit()\n",
        "\n",
        "islower()\n",
        "\n",
        "isupper()\n",
        "\n",
        "len(string)\n",
        "\n",
        "lower()\n",
        "\n",
        "upper()\n",
        "\n",
        "max()\n",
        "\n",
        "min()\n",
        "\n",
        "replace()\n",
        "\n",
        "swapcase()\n",
        "\n",
        "split()\n",
        "\n"
      ],
      "metadata": {
        "id": "sPmwrBYCvd90"
      }
    },
    {
      "cell_type": "code",
      "source": [
        "a = \"hello\"\n",
        "\n",
        "print(f\"is a alphabetic: {a.isalpha()}\")\n",
        "print(f\"length of string a is: {len(a)}\")\n",
        "print(f\"is a alphanumeric: {a.isalnum()}\")\n",
        "print(f\"converting a to lower case: {a.lower()}\")\n",
        "print(f\"converting a to upper case: {a.upper()}\")\n",
        "print(f\"replacing h with b in string a: {a.replace('h','b')}\")\n",
        "print(f\"swapping case in string a: {a.swapcase()}\")"
      ],
      "metadata": {
        "id": "XOhzRR7qvdPq",
        "colab": {
          "base_uri": "https://localhost:8080/"
        },
        "outputId": "566bf88a-776f-458b-840c-84370839f3f5"
      },
      "execution_count": 53,
      "outputs": [
        {
          "output_type": "stream",
          "name": "stdout",
          "text": [
            "is a alphabetic: True\n",
            "length of string a is: 5\n",
            "is a alphanumeric: True\n",
            "converting a to lower case: hello\n",
            "converting a to upper case: HELLO\n",
            "replacing h with b in string a: bello\n",
            "swapping case in string a: HELLO\n"
          ]
        }
      ]
    },
    {
      "cell_type": "markdown",
      "source": [
        "Ques. Function calling and printing values"
      ],
      "metadata": {
        "id": "8IqVO6Mf71od"
      }
    },
    {
      "cell_type": "code",
      "source": [
        "def a():\n",
        "  b()\n",
        "  print(\"a\")\n",
        "\n",
        "a()"
      ],
      "metadata": {
        "colab": {
          "base_uri": "https://localhost:8080/"
        },
        "id": "MKGhpDT971-F",
        "outputId": "7216c313-5d18-4dbf-9cc0-5dc81636aab5"
      },
      "execution_count": 47,
      "outputs": [
        {
          "output_type": "stream",
          "name": "stdout",
          "text": [
            "b\n",
            "a\n"
          ]
        }
      ]
    },
    {
      "cell_type": "code",
      "source": [
        "def b():\n",
        "  print(\"b\")\n",
        "\n",
        "b()"
      ],
      "metadata": {
        "colab": {
          "base_uri": "https://localhost:8080/"
        },
        "id": "DIfkKoI68C1W",
        "outputId": "ec29ec77-7d0c-4f04-ab7c-75fb6e96ccb3"
      },
      "execution_count": 46,
      "outputs": [
        {
          "output_type": "stream",
          "name": "stdout",
          "text": [
            "b\n"
          ]
        }
      ]
    },
    {
      "cell_type": "markdown",
      "source": [
        "Ques. Find combinations, nCr taking n,r as input from the user"
      ],
      "metadata": {
        "id": "5nlUbO6SIIR-"
      }
    },
    {
      "cell_type": "code",
      "source": [
        "n = int(input(\"enter n: \"))\n",
        "r = int(input(\"enter r: \"))\n",
        "\n",
        "def factorial(a):\n",
        "  if(a==1 or a==0):\n",
        "    return 1\n",
        "  else:\n",
        "    return a*factorial(a-1)\n",
        "\n",
        "\n",
        "ans = factorial(n) / (factorial(r) * factorial(n-r))\n",
        "\n",
        "print(f\"value of nCr is: {ans}\")"
      ],
      "metadata": {
        "id": "3jemcmNqIPEW",
        "colab": {
          "base_uri": "https://localhost:8080/"
        },
        "outputId": "b60550d4-d600-4011-d9c7-278174d6f681"
      },
      "execution_count": 38,
      "outputs": [
        {
          "output_type": "stream",
          "name": "stdout",
          "text": [
            "enter n: 4\n",
            "enter r: 2\n",
            "value of nCr is: 6.0\n"
          ]
        }
      ]
    },
    {
      "cell_type": "markdown",
      "source": [
        "Ques. Find permutations, nPr taking input n and r from the user"
      ],
      "metadata": {
        "id": "CyIgDw_PAEJT"
      }
    },
    {
      "cell_type": "code",
      "source": [
        "n = int(input(\"enter n: \"))\n",
        "r = int(input(\"enter r: \"))\n",
        "\n",
        "def factorial(a):\n",
        "  if(a==1 or a==0):\n",
        "    return 1\n",
        "  else:\n",
        "    return a*factorial(a-1)\n",
        "\n",
        "\n",
        "ans = factorial(n) / factorial(n-r)\n",
        "\n",
        "print(f\"value of nPr is: {ans}\")"
      ],
      "metadata": {
        "colab": {
          "base_uri": "https://localhost:8080/"
        },
        "id": "s1_ARXMQAKRu",
        "outputId": "9626258d-e2db-491b-94dc-b600def023e9"
      },
      "execution_count": 54,
      "outputs": [
        {
          "output_type": "stream",
          "name": "stdout",
          "text": [
            "enter n: 4\n",
            "enter r: 2\n",
            "value of nPr is: 12.0\n"
          ]
        }
      ]
    },
    {
      "cell_type": "markdown",
      "source": [
        "Ques. Print factorial of a number using recursion"
      ],
      "metadata": {
        "id": "tH0p3K7hMBeT"
      }
    },
    {
      "cell_type": "code",
      "source": [
        "n = int(input(\"enter your number: \"))\n",
        "\n",
        "def factorial(a):\n",
        "  if(a==1 or a==0):\n",
        "    return 1\n",
        "  else:\n",
        "    return a*factorial(a-1)\n",
        "\n",
        "print(f\"factorial of {n} is {factorial(n)}\")"
      ],
      "metadata": {
        "colab": {
          "base_uri": "https://localhost:8080/"
        },
        "id": "TU9TlsgqMFVi",
        "outputId": "b616119d-704b-4062-e73e-a3377ed7c9b6"
      },
      "execution_count": 37,
      "outputs": [
        {
          "output_type": "stream",
          "name": "stdout",
          "text": [
            "enter your number: 6\n",
            "factorial of 6 is 720\n"
          ]
        }
      ]
    },
    {
      "cell_type": "markdown",
      "source": [
        "Ques. Function to add numbers also giving default values to parameters"
      ],
      "metadata": {
        "id": "wFsSM0Ek66oA"
      }
    },
    {
      "cell_type": "code",
      "source": [
        "def add(a=4, b=5, c=2):\n",
        "  return a+b+c\n",
        "\n",
        "add(2,4)"
      ],
      "metadata": {
        "colab": {
          "base_uri": "https://localhost:8080/"
        },
        "id": "P7g9g0fa7C9h",
        "outputId": "7590a695-c0a8-4555-d466-af1beb91790d"
      },
      "execution_count": 39,
      "outputs": [
        {
          "output_type": "execute_result",
          "data": {
            "text/plain": [
              "8"
            ]
          },
          "metadata": {},
          "execution_count": 39
        }
      ]
    },
    {
      "cell_type": "markdown",
      "source": [
        "Ques. Make a function accepting parameters and print the argument passed to it"
      ],
      "metadata": {
        "id": "KRJAMZz7Asbd"
      }
    },
    {
      "cell_type": "code",
      "source": [
        "def fun(parameter):\n",
        "  print(parameter)\n",
        "\n",
        "fun(\"argument\")"
      ],
      "metadata": {
        "colab": {
          "base_uri": "https://localhost:8080/"
        },
        "id": "DCqGo1dgA99L",
        "outputId": "b7ecd159-0564-4f4c-9160-6eeea321a9dd"
      },
      "execution_count": 55,
      "outputs": [
        {
          "output_type": "stream",
          "name": "stdout",
          "text": [
            "argument\n"
          ]
        }
      ]
    }
  ]
}