{
  "nbformat": 4,
  "nbformat_minor": 0,
  "metadata": {
    "colab": {
      "provenance": []
    },
    "kernelspec": {
      "name": "python3",
      "display_name": "Python 3"
    },
    "language_info": {
      "name": "python"
    }
  },
  "cells": [
    {
      "cell_type": "markdown",
      "source": [
        "Manually coding the kNN algorithm."
      ],
      "metadata": {
        "id": "m37QGGs7HGZL"
      }
    },
    {
      "cell_type": "code",
      "source": [
        "import numpy as np\n",
        "from collections import Counter\n",
        "\n",
        "def euclidean_distance(x1, x2):\n",
        "    distance = np.sqrt(np.sum((x1-x2)**2))\n",
        "    return distance\n",
        "\n",
        "class KNN:\n",
        "    def __init__(self, k=3):\n",
        "        self.k = k\n",
        "\n",
        "    def fit(self, X, y):\n",
        "        self.X_train = X\n",
        "        self.y_train = y\n",
        "\n",
        "    def predict(self, X):\n",
        "        predictions = [self._predict(x) for x in X]\n",
        "        return predictions\n",
        "\n",
        "    def _predict(self, x):\n",
        "        # compute the distance\n",
        "        distances = [euclidean_distance(x, x_train) for x_train in self.X_train]\n",
        "\n",
        "        # get the closest k\n",
        "        k_indices = np.argsort(distances)[:self.k]\n",
        "        k_nearest_labels = [self.y_train[i] for i in k_indices]\n",
        "\n",
        "        # majority voye\n",
        "        most_common = Counter(k_nearest_labels).most_common()\n",
        "        return most_common[0][0]"
      ],
      "metadata": {
        "id": "3m5xGcamG49l"
      },
      "execution_count": 21,
      "outputs": []
    },
    {
      "cell_type": "markdown",
      "source": [
        "Importing necessary libraries and making a euclidean distance function for calculating distances."
      ],
      "metadata": {
        "id": "Q6mDcwm5I84e"
      }
    },
    {
      "cell_type": "code",
      "source": [
        "from sklearn.metrics import *\n",
        "from numpy.linalg import norm\n",
        "\n",
        "\n",
        "def euclidean(a, b):\n",
        "    \"\"\"Compute and return the euclidean distance between a and b.\"\"\"\n",
        "    return norm(a-b)"
      ],
      "metadata": {
        "id": "Z3zAEcKbIaKH"
      },
      "execution_count": 22,
      "outputs": []
    },
    {
      "cell_type": "markdown",
      "source": [
        "Creating a test and train dataset and implementing the model."
      ],
      "metadata": {
        "id": "DxWChUgIHMzl"
      }
    },
    {
      "cell_type": "code",
      "source": [
        "# testing the kNN model\n",
        "\n",
        "raw_data = np.array([[1, 2, 1], [3, 2, 1], [2, 4, 1],\n",
        "                     [3, 3, 1], [2, 5, 1], [-1, -2, 0],\n",
        "                     [-3, -2, 0], [-2, -4, 0], [-3, -3, 0],\n",
        "                     [-2, -5, 0]], dtype=float)\n",
        "\n",
        "X = raw_data[:, :2]\n",
        "y = raw_data[:, -1]\n",
        "\n",
        "\n",
        "model = KNearestNeighbors(k=3, distance_metric=euclidean)\n",
        "model.train(X, y)\n",
        "\n",
        "print(\"Value: {},\\tPrediction: {}\".format([1, 0], model.predict(np.array([1, 0]))))\n",
        "print(\"Value: {},\\tPrediction: {}\".format([0, 1], model.predict(np.array([0, 1]))))\n",
        "print(\"Value: {},\\tPrediction: {}\".format([0, 0], model.predict(np.array([0, 0]))))\n",
        "print(\"Value: {},\\tPrediction: {}\".format([-1, 0], model.predict(np.array([-1, 0]))))\n",
        "print(\"Value: {},\\tPrediction: {}\".format([0, -1], model.predict(np.array([0, -1]))))"
      ],
      "metadata": {
        "colab": {
          "base_uri": "https://localhost:8080/"
        },
        "id": "_r5IzK-YIut8",
        "outputId": "f2d61645-b811-458a-cda4-019f0dcf16f0"
      },
      "execution_count": 23,
      "outputs": [
        {
          "output_type": "stream",
          "name": "stdout",
          "text": [
            "Value: [1, 0],\tPrediction: 1.0\n",
            "Value: [0, 1],\tPrediction: 1.0\n",
            "Value: [0, 0],\tPrediction: 0.0\n",
            "Value: [-1, 0],\tPrediction: 0.0\n",
            "Value: [0, -1],\tPrediction: 0.0\n"
          ]
        }
      ]
    }
  ]
}