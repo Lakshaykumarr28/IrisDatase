{
  "nbformat": 4,
  "nbformat_minor": 0,
  "metadata": {
    "colab": {
      "provenance": []
    },
    "kernelspec": {
      "name": "python3",
      "display_name": "Python 3"
    },
    "language_info": {
      "name": "python"
    }
  },
  "cells": [
    {
      "cell_type": "markdown",
      "source": [
        "Importing necessary libraries."
      ],
      "metadata": {
        "id": "RuEPqrysVaK6"
      }
    },
    {
      "cell_type": "code",
      "execution_count": null,
      "metadata": {
        "id": "cTa4MkVEU2HB"
      },
      "outputs": [],
      "source": [
        "import pandas as pd\n",
        "import numpy as np\n",
        "from sklearn.model_selection import train_test_split\n",
        "from sklearn.metrics import classification_report\n",
        "from sklearn.svm import SVC"
      ]
    },
    {
      "cell_type": "markdown",
      "source": [
        "importing and creating dataframe for banana dataset."
      ],
      "metadata": {
        "id": "uvC-veKRVgU_"
      }
    },
    {
      "cell_type": "code",
      "source": [
        "url = 'https://raw.githubusercontent.com/Lakshaykumarr28/Machine-Learning-using-Python/main/ML/csv%20files/banana_dataset.csv'\n",
        "df = pd.read_csv(url)\n",
        "\n",
        "X = df[['At1','At2']].to_numpy()\n",
        "y = df['Class'].to_numpy()"
      ],
      "metadata": {
        "id": "jkp2NcI6Vh5E"
      },
      "execution_count": null,
      "outputs": []
    },
    {
      "cell_type": "markdown",
      "source": [
        "Splitting the dataset for training and testing"
      ],
      "metadata": {
        "id": "JSLzQVqjWHvI"
      }
    },
    {
      "cell_type": "code",
      "source": [
        "X_train, X_test, y_train, y_test = train_test_split(X,y,test_size = 0.30, random_state = 1)"
      ],
      "metadata": {
        "id": "gUWeBwOXWPXO"
      },
      "execution_count": null,
      "outputs": []
    },
    {
      "cell_type": "markdown",
      "source": [
        "Creating Linear SVM kernel."
      ],
      "metadata": {
        "id": "V-aV3aU3XLZM"
      }
    },
    {
      "cell_type": "code",
      "source": [
        "linear_svc = SVC(kernel='linear')\n",
        "linear_svc = linear_svc.fit(X_train, y_train)\n",
        "\n",
        "y_pred = linear_svc.predict(X_test)\n",
        "\n",
        "print(classification_report(y_test, y_pred))"
      ],
      "metadata": {
        "colab": {
          "base_uri": "https://localhost:8080/"
        },
        "id": "TEiJTxv1XWnd",
        "outputId": "1512030f-d7d0-472d-d671-d43132eaa16c"
      },
      "execution_count": null,
      "outputs": [
        {
          "output_type": "stream",
          "name": "stdout",
          "text": [
            "              precision    recall  f1-score   support\n",
            "\n",
            "          -1       0.55      1.00      0.71       869\n",
            "           1       0.00      0.00      0.00       721\n",
            "\n",
            "    accuracy                           0.55      1590\n",
            "   macro avg       0.27      0.50      0.35      1590\n",
            "weighted avg       0.30      0.55      0.39      1590\n",
            "\n"
          ]
        },
        {
          "output_type": "stream",
          "name": "stderr",
          "text": [
            "/usr/local/lib/python3.10/dist-packages/sklearn/metrics/_classification.py:1344: UndefinedMetricWarning: Precision and F-score are ill-defined and being set to 0.0 in labels with no predicted samples. Use `zero_division` parameter to control this behavior.\n",
            "  _warn_prf(average, modifier, msg_start, len(result))\n",
            "/usr/local/lib/python3.10/dist-packages/sklearn/metrics/_classification.py:1344: UndefinedMetricWarning: Precision and F-score are ill-defined and being set to 0.0 in labels with no predicted samples. Use `zero_division` parameter to control this behavior.\n",
            "  _warn_prf(average, modifier, msg_start, len(result))\n",
            "/usr/local/lib/python3.10/dist-packages/sklearn/metrics/_classification.py:1344: UndefinedMetricWarning: Precision and F-score are ill-defined and being set to 0.0 in labels with no predicted samples. Use `zero_division` parameter to control this behavior.\n",
            "  _warn_prf(average, modifier, msg_start, len(result))\n"
          ]
        }
      ]
    },
    {
      "cell_type": "markdown",
      "source": [
        "Creating Sigmoid svm model"
      ],
      "metadata": {
        "id": "TrY_C-MyYCxs"
      }
    },
    {
      "cell_type": "code",
      "source": [
        "sigmoid_svc = SVC(kernel ='sigmoid')\n",
        "sigmoid_svc = sigmoid_svc.fit(X_train, y_train)\n",
        "\n",
        "y_pred = sigmoid_svc.predict(X_test)\n",
        "\n",
        "print(classification_report(y_test, y_pred))"
      ],
      "metadata": {
        "colab": {
          "base_uri": "https://localhost:8080/"
        },
        "id": "-62DX3CqYHJW",
        "outputId": "1bd6c782-a2ee-4750-a70d-92d0c1a68da6"
      },
      "execution_count": null,
      "outputs": [
        {
          "output_type": "stream",
          "name": "stdout",
          "text": [
            "              precision    recall  f1-score   support\n",
            "\n",
            "          -1       0.36      0.38      0.37       869\n",
            "           1       0.21      0.20      0.21       721\n",
            "\n",
            "    accuracy                           0.30      1590\n",
            "   macro avg       0.29      0.29      0.29      1590\n",
            "weighted avg       0.29      0.30      0.30      1590\n",
            "\n"
          ]
        }
      ]
    },
    {
      "cell_type": "markdown",
      "source": [
        "Creating a Polynomial svm model."
      ],
      "metadata": {
        "id": "YTZMNPQ7YYVY"
      }
    },
    {
      "cell_type": "code",
      "source": [
        "poly_svc = SVC(kernel ='poly')\n",
        "poly_svc = poly_svc.fit(X_train, y_train)\n",
        "\n",
        "y_pred = poly_svc.predict(X_test)\n",
        "\n",
        "print(classification_report(y_test, y_pred))"
      ],
      "metadata": {
        "colab": {
          "base_uri": "https://localhost:8080/"
        },
        "id": "1GpebnebYc8A",
        "outputId": "b0bbf0c1-1a81-4fd8-bea2-b31471e5cf36"
      },
      "execution_count": null,
      "outputs": [
        {
          "output_type": "stream",
          "name": "stdout",
          "text": [
            "              precision    recall  f1-score   support\n",
            "\n",
            "          -1       0.61      0.87      0.72       869\n",
            "           1       0.69      0.34      0.45       721\n",
            "\n",
            "    accuracy                           0.63      1590\n",
            "   macro avg       0.65      0.60      0.59      1590\n",
            "weighted avg       0.65      0.63      0.60      1590\n",
            "\n"
          ]
        }
      ]
    },
    {
      "cell_type": "markdown",
      "source": [
        "Creating a RBF svm model."
      ],
      "metadata": {
        "id": "SEzQXvj1ZDsR"
      }
    },
    {
      "cell_type": "code",
      "source": [
        "rbf_svc = SVC(kernel ='poly')\n",
        "rbf_svc = rbf_svc.fit(X_train, y_train)\n",
        "\n",
        "y_pred_rbf = rbf_svc.predict(X_test)\n",
        "\n",
        "print(classification_report(y_test, y_pred_rbf))"
      ],
      "metadata": {
        "colab": {
          "base_uri": "https://localhost:8080/"
        },
        "id": "tYpT2lt3ZIRl",
        "outputId": "62a2a6a2-e842-49f5-b41a-75eb9b72ece3"
      },
      "execution_count": null,
      "outputs": [
        {
          "output_type": "stream",
          "name": "stdout",
          "text": [
            "              precision    recall  f1-score   support\n",
            "\n",
            "          -1       0.61      0.87      0.72       869\n",
            "           1       0.69      0.34      0.45       721\n",
            "\n",
            "    accuracy                           0.63      1590\n",
            "   macro avg       0.65      0.60      0.59      1590\n",
            "weighted avg       0.65      0.63      0.60      1590\n",
            "\n"
          ]
        }
      ]
    },
    {
      "cell_type": "markdown",
      "source": [
        "`***Polynomial and RBF SVM have the best accuracy.***`"
      ],
      "metadata": {
        "id": "qKuBs9KoZtW8"
      }
    }
  ]
}