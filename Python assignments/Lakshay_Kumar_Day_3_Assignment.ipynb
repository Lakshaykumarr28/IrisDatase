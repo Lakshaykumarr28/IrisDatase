{
  "nbformat": 4,
  "nbformat_minor": 0,
  "metadata": {
    "colab": {
      "provenance": []
    },
    "kernelspec": {
      "name": "python3",
      "display_name": "Python 3"
    },
    "language_info": {
      "name": "python"
    }
  },
  "cells": [
    {
      "cell_type": "markdown",
      "source": [
        "\n",
        "# **Day 3 :- Assignment On Lists, Tuples**\n",
        "\n",
        "**Save the File with Your Name_RollNumber and Upload on Classroom**"
      ],
      "metadata": {
        "id": "70mar2CGgEj2"
      }
    },
    {
      "cell_type": "markdown",
      "source": [
        "q1: WAP to find minimum element from a list of elements along with its index in the list\n"
      ],
      "metadata": {
        "id": "TW1n7bXT5Uiq"
      }
    },
    {
      "cell_type": "code",
      "source": [
        "#Solution\n",
        "l = [24, 23, 10, 2, 1, 56, 14, 34]\n",
        "min = l[0]\n",
        "idx = 0\n",
        "\n",
        "for i in range(len(l)):\n",
        "  if(min>l[i]):\n",
        "    min = l[i]\n",
        "    idx = i\n",
        "\n",
        "print(f\"minimum element is: {min} and its index is: {idx}\")"
      ],
      "metadata": {
        "id": "WR-Gu2KE5W2Z",
        "colab": {
          "base_uri": "https://localhost:8080/"
        },
        "outputId": "1a843553-def5-419c-f32b-371d52186f9f"
      },
      "execution_count": null,
      "outputs": [
        {
          "output_type": "stream",
          "name": "stdout",
          "text": [
            "minimum element is: 1 and its index is: 4\n"
          ]
        }
      ]
    },
    {
      "cell_type": "markdown",
      "source": [
        "q2: WAP to calculate mean of a given list of numbers\n"
      ],
      "metadata": {
        "id": "euBvksXo5Ymp"
      }
    },
    {
      "cell_type": "code",
      "source": [
        "#Solution\n",
        "l = [1, 25, 32, 16, 54, 23, 62, 10]\n",
        "len = len(l)\n",
        "sum = 0\n",
        "\n",
        "for i in l:\n",
        "  sum += i\n",
        "\n",
        "print(f\"the mean of values in the list is: {sum/len}\")"
      ],
      "metadata": {
        "id": "o_LXBkLI5akx",
        "colab": {
          "base_uri": "https://localhost:8080/"
        },
        "outputId": "3486fdf9-792c-4cc4-82f8-d389f5ac9b7b"
      },
      "execution_count": null,
      "outputs": [
        {
          "output_type": "stream",
          "name": "stdout",
          "text": [
            "the mean of values in the list is: 27.875\n"
          ]
        }
      ]
    },
    {
      "cell_type": "markdown",
      "source": [
        "q3: WAP to search for an element in a given list of numbers\n"
      ],
      "metadata": {
        "id": "58wnq5x45cbh"
      }
    },
    {
      "cell_type": "code",
      "source": [
        "#Solution\n",
        "l = [21, 26, 32, 15, 74, 65, 42, 49,2, 13]\n",
        "n = int(input(\"enter the number to search in the list: \"))\n",
        "s = 0\n",
        "e = len(l)-1\n",
        "\n",
        "def binsearch(l, s, e, n):\n",
        "  mid = (s+e)//2\n",
        "\n",
        "  if( s <= e):\n",
        "    if( l[mid] == n):\n",
        "      print(f\"number found, its index is {mid}\")\n",
        "    elif( l[mid] > n):\n",
        "      binsearch(l, 0, mid-1, n)\n",
        "    elif( l[mid] < n):\n",
        "      binsearch(l, mid+1, e, n)\n",
        "  else:\n",
        "    print(\"not found\")\n",
        "\n",
        "\n",
        "\n",
        "binsearch(l, s, e , n)"
      ],
      "metadata": {
        "id": "JFAsSFJL5eZ4",
        "colab": {
          "base_uri": "https://localhost:8080/"
        },
        "outputId": "5170e6db-30aa-4c82-9b64-ea87d814289c"
      },
      "execution_count": null,
      "outputs": [
        {
          "output_type": "stream",
          "name": "stdout",
          "text": [
            "enter the number to search in the list: 32\n",
            "number found, its index is 2\n"
          ]
        }
      ]
    },
    {
      "cell_type": "markdown",
      "source": [
        "q4: WAP to count frequency of given elements in a list of numbers\n"
      ],
      "metadata": {
        "id": "avu7uWYK5ffQ"
      }
    },
    {
      "cell_type": "code",
      "source": [
        "#Solution\n",
        "lis = [1, 2, 2, 3, 4, 5, 9, 12, 32, 54, 62, 13, 2, 12]\n",
        "count = 0\n",
        "n = int(input(\"enter element whose frequency is to be calculated: \"))\n",
        "\n",
        "for i in lis:\n",
        "  if(i==n):\n",
        "    count += 1\n",
        "\n",
        "print(f\"frequency of {n} is {count}\")"
      ],
      "metadata": {
        "id": "P5gFEM_W5hSo",
        "colab": {
          "base_uri": "https://localhost:8080/"
        },
        "outputId": "c6647961-217d-4abb-f6fe-0207cb4e385c"
      },
      "execution_count": null,
      "outputs": [
        {
          "output_type": "stream",
          "name": "stdout",
          "text": [
            "enter element whose frequency is to be calculated: 12\n",
            "frequency of 12 is 2\n"
          ]
        }
      ]
    },
    {
      "cell_type": "markdown",
      "source": [
        "q5: WAP to find frequencies of all elements of a list. Also print the list of unique elements in the list and duplicate elements in the list\n"
      ],
      "metadata": {
        "id": "4CWqs2Mb5imQ"
      }
    },
    {
      "cell_type": "code",
      "source": [
        "#Solution\n",
        "l = [1, 2, 3, 4, 5, 2, 4, 13, 15]\n",
        "du = []\n",
        "l2 = []\n",
        "l1 = []\n",
        "for i in l:\n",
        "  if(i not in l1):\n",
        "    l1.append(i)\n",
        "\n",
        "for i in l1:\n",
        "  count = 0\n",
        "  for j in l:\n",
        "    if (i==j):\n",
        "      count += 1\n",
        "  print(f\"frequency of {i} in the list is {count}\")\n",
        "  if(count >= 2) and (i not in du):\n",
        "    du.append(i)\n",
        "  else:\n",
        "    l2.append(i)\n",
        "\n",
        "print(f\"\\nunique elements are: {l2}\")\n",
        "print(f\"duplicate elements are: {du}\")"
      ],
      "metadata": {
        "id": "aY7SqM4o5kSg",
        "colab": {
          "base_uri": "https://localhost:8080/"
        },
        "outputId": "a1c84c2a-516f-4863-d840-350ee52f02ea"
      },
      "execution_count": 8,
      "outputs": [
        {
          "output_type": "stream",
          "name": "stdout",
          "text": [
            "frequency of 1 in the list is 1\n",
            "frequency of 2 in the list is 2\n",
            "frequency of 3 in the list is 1\n",
            "frequency of 4 in the list is 2\n",
            "frequency of 5 in the list is 1\n",
            "frequency of 13 in the list is 1\n",
            "frequency of 15 in the list is 1\n",
            "\n",
            "unique elements are: [1, 3, 5, 13, 15]\n",
            "duplicate elements are: [2, 4]\n"
          ]
        }
      ]
    },
    {
      "cell_type": "markdown",
      "source": [
        "q6: WAP to calculate and display sum of all odd numbers in the list\n"
      ],
      "metadata": {
        "id": "mMDttxqp5mCI"
      }
    },
    {
      "cell_type": "code",
      "source": [
        "#Solution\n",
        "l = [1, 5, 3, 9, 6, 8, 14, 15, 23, 40]\n",
        "sum = 0\n",
        "\n",
        "for i in l:\n",
        "  if(i%2 != 0):\n",
        "    sum += i\n",
        "\n",
        "print(f\"sum of all odd numbers in the list is: {sum}\")"
      ],
      "metadata": {
        "id": "YXQLZfyx5nq5",
        "colab": {
          "base_uri": "https://localhost:8080/"
        },
        "outputId": "87bc9fa7-fa20-4e65-9a5d-c949c8bdef86"
      },
      "execution_count": 11,
      "outputs": [
        {
          "output_type": "stream",
          "name": "stdout",
          "text": [
            "sum of all odd numbers in the list is: 56\n"
          ]
        }
      ]
    },
    {
      "cell_type": "markdown",
      "source": [
        "q7: WAP to find second largest number of a tuples of numbers\n"
      ],
      "metadata": {
        "id": "h1UyV1-35o6I"
      }
    },
    {
      "cell_type": "code",
      "source": [
        "#Solution\n",
        "t = (1, 5, 3, 9, 8, 12, 19, 42, 51, 36)\n",
        "l = list(t)\n",
        "l.sort()\n",
        "print(f\"the second largest number in the tuple is: {l[len(l)-2]}\")"
      ],
      "metadata": {
        "id": "790b7HBK5qbA",
        "colab": {
          "base_uri": "https://localhost:8080/"
        },
        "outputId": "af71b41a-93d4-4165-84b8-fa86e972d05e"
      },
      "execution_count": 13,
      "outputs": [
        {
          "output_type": "stream",
          "name": "stdout",
          "text": [
            "the second largest number in the tuple is: 42\n"
          ]
        }
      ]
    },
    {
      "cell_type": "markdown",
      "source": [
        "q8: Given a list in Python and provided the positions of the elements, write a program to swap the two elements in the list.\n"
      ],
      "metadata": {
        "id": "v5eUzOfV5rco"
      }
    },
    {
      "cell_type": "code",
      "source": [
        "#Solution\n",
        "l = [1, 5, 3, 9, 25, 35, 14, 72, 62, 53]\n",
        "print(l)\n",
        "print(\"enter index of numbers to swap: \")\n",
        "\n",
        "n = int(input(\"enter first index: \"))\n",
        "x = int(input(\"enter second index: \"))\n",
        "\n",
        "temp = l[n]\n",
        "l[n] = l[x]\n",
        "l[x] = temp\n",
        "\n",
        "print(f\"list after swapping the elements is: {l}\")"
      ],
      "metadata": {
        "id": "2LGzLU7W5tG4",
        "colab": {
          "base_uri": "https://localhost:8080/"
        },
        "outputId": "9810721a-38ec-451a-bfe6-c1dfff16eef6"
      },
      "execution_count": 15,
      "outputs": [
        {
          "output_type": "stream",
          "name": "stdout",
          "text": [
            "[1, 5, 3, 9, 25, 35, 14, 72, 62, 53]\n",
            "enter index of numbers to swap: \n",
            "enter first index: 2\n",
            "enter second index: 5\n",
            "list after swapping the elements is: [1, 5, 35, 9, 25, 3, 14, 72, 62, 53]\n"
          ]
        }
      ]
    },
    {
      "cell_type": "markdown",
      "source": [
        "q9: WAP to reverse All Strings in String List\n"
      ],
      "metadata": {
        "id": "IDt7TJ4t5uaJ"
      }
    },
    {
      "cell_type": "code",
      "source": [
        "#Solution\n",
        "def reverse(str):\n",
        "  str2 = str[::-1]\n",
        "  return str2\n",
        "\n",
        "l = [\"string\", \"rahul\", \"karam\", \"raghav\", \"jayesh\"]\n",
        "l2 = []\n",
        "print(f\"original list: {l}\")\n",
        "\n",
        "for i in l:\n",
        "  i = reverse(i)\n",
        "  l2.append(i)\n",
        "\n",
        "print(f\"list after reversing is: {l2}\")\n"
      ],
      "metadata": {
        "id": "FKta90Fy5wHo",
        "colab": {
          "base_uri": "https://localhost:8080/"
        },
        "outputId": "b4c03a96-2d37-4ab1-ca9c-d15ab7ba3ac0"
      },
      "execution_count": 22,
      "outputs": [
        {
          "output_type": "stream",
          "name": "stdout",
          "text": [
            "original list: ['string', 'rahul', 'karam', 'raghav', 'jayesh']\n",
            "list after reversing is: ['gnirts', 'luhar', 'marak', 'vahgar', 'hseyaj']\n"
          ]
        }
      ]
    },
    {
      "cell_type": "markdown",
      "source": [
        "q10: WAP to  find the maximum frequency element in the tuple"
      ],
      "metadata": {
        "id": "sjkgZduM5xDA"
      }
    },
    {
      "cell_type": "code",
      "source": [
        "#Solution\n",
        "t = (2, 5, 4, 9, 14, 52, 3, 2 , 5, 14, 3, 52, 2)\n",
        "max = 0\n",
        "max_ele = 0\n",
        "l = []\n",
        "\n",
        "for i in t:\n",
        "  if i not in l:\n",
        "    l.append(i)\n",
        "\n",
        "for i in l:\n",
        "  count = 0\n",
        "  for j in t:\n",
        "    if (i == j):\n",
        "      count += 1\n",
        "      if ( max < count ):\n",
        "        max = count\n",
        "        max_ele = i\n",
        "\n",
        "print(f\"highest frequency element in the tuple is: {max_ele}\")\n",
        ""
      ],
      "metadata": {
        "id": "xn0VH-aF511A",
        "colab": {
          "base_uri": "https://localhost:8080/"
        },
        "outputId": "1865b3a5-5866-4237-f927-c4afa38bfdae"
      },
      "execution_count": 23,
      "outputs": [
        {
          "output_type": "stream",
          "name": "stdout",
          "text": [
            "highest frequency element in the tuple is: 2\n"
          ]
        }
      ]
    },
    {
      "cell_type": "markdown",
      "source": [
        "q11. WAP to illustrate Stack Operations using List\n",
        "\n",
        "\n",
        "\n",
        "\n",
        "\n"
      ],
      "metadata": {
        "id": "uh7KSqa6akNx"
      }
    },
    {
      "cell_type": "code",
      "source": [
        "#Solution\n",
        "l = [1, 5, 3, 9, 14, 25, 36, 74, 85, 96, 25, 35, 15, 26, 24]\n",
        "\n",
        "def push(i):\n",
        "  l.append(i)\n",
        "\n",
        "def pop():\n",
        "  del l[len(l)-1]\n",
        "\n",
        "def top():\n",
        "  return l[len(l)-1]\n",
        "\n",
        "while 1:\n",
        "  print(\"Enter the operation on stack: \\n1. push \\n2. pop \\n3. top\\n4. exit\")\n",
        "  n = int(input())\n",
        "\n",
        "  if(n==1):\n",
        "    a = int(input(\"enter element: \"))\n",
        "    push(a)\n",
        "    print(f\"the stack is: {l}\")\n",
        "  elif(n==2):\n",
        "    pop()\n",
        "    print(f\"the stack is: {l}\")\n",
        "  elif(n==3):\n",
        "    print(f\"element on top of stack is: {top()}\")\n",
        "  elif(n==4):\n",
        "    print(f\"exited\")\n",
        "    break\n",
        "  else:\n",
        "    print(\"not a valid choice\")\n"
      ],
      "metadata": {
        "id": "PMklGolqapwA",
        "colab": {
          "base_uri": "https://localhost:8080/"
        },
        "outputId": "e199384b-a179-4cbc-b5a7-0dcd7aca21d5"
      },
      "execution_count": 25,
      "outputs": [
        {
          "output_type": "stream",
          "name": "stdout",
          "text": [
            "Enter the operation on stack: \n",
            "1. push \n",
            "2. pop \n",
            "3. top\n",
            "4. exit\n",
            "1\n",
            "enter element: 14\n",
            "the stack is: [1, 5, 3, 9, 14, 25, 36, 74, 85, 96, 25, 35, 15, 26, 24, 14]\n",
            "Enter the operation on stack: \n",
            "1. push \n",
            "2. pop \n",
            "3. top\n",
            "4. exit\n",
            "2\n",
            "the stack is: [1, 5, 3, 9, 14, 25, 36, 74, 85, 96, 25, 35, 15, 26, 24]\n",
            "Enter the operation on stack: \n",
            "1. push \n",
            "2. pop \n",
            "3. top\n",
            "4. exit\n",
            "3\n",
            "element on top of stack is: 24\n",
            "Enter the operation on stack: \n",
            "1. push \n",
            "2. pop \n",
            "3. top\n",
            "4. exit\n",
            "4\n",
            "exited\n"
          ]
        }
      ]
    },
    {
      "cell_type": "markdown",
      "source": [
        "q12. WAP to illustrate Queue Operations using List"
      ],
      "metadata": {
        "id": "gdyLEz_Zayqg"
      }
    },
    {
      "cell_type": "code",
      "source": [
        "#Solution\n",
        "l = [1, 5, 3, 9, 14, 25, 36, 74, 85, 96, 25, 35, 15, 26, 24]\n",
        "\n",
        "def push(i):\n",
        "  l.append(i)\n",
        "\n",
        "def pop():\n",
        "  del l[0]\n",
        "\n",
        "def front():\n",
        "  return l[0]\n",
        "\n",
        "while 1:\n",
        "  print(\"Enter the operation on queue: \\n1. push \\n2. pop \\n3. front\\n4. exit\")\n",
        "  n = int(input())\n",
        "\n",
        "  if(n==1):\n",
        "    a = int(input(\"enter element: \"))\n",
        "    push(a)\n",
        "    print(f\"the queue is: {l}\")\n",
        "  elif(n==2):\n",
        "    pop()\n",
        "    print(f\"the queue is: {l}\")\n",
        "  elif(n==3):\n",
        "    print(f\"element on front of queue is: {front()}\")\n",
        "  elif(n==4):\n",
        "    print(f\"exited\")\n",
        "    break\n",
        "  else:\n",
        "    print(\"not a valid choice\")"
      ],
      "metadata": {
        "id": "U8Ak67_ja5I4",
        "colab": {
          "base_uri": "https://localhost:8080/"
        },
        "outputId": "0cb15c9c-8216-43e3-c34c-bc1faffd6a6b"
      },
      "execution_count": 26,
      "outputs": [
        {
          "output_type": "stream",
          "name": "stdout",
          "text": [
            "Enter the operation on queue: \n",
            "1. push \n",
            "2. pop \n",
            "3. front\n",
            "4. exit\n",
            "1\n",
            "enter element: 14\n",
            "the queue is: [1, 5, 3, 9, 14, 25, 36, 74, 85, 96, 25, 35, 15, 26, 24, 14]\n",
            "Enter the operation on queue: \n",
            "1. push \n",
            "2. pop \n",
            "3. front\n",
            "4. exit\n",
            "2\n",
            "the queue is: [5, 3, 9, 14, 25, 36, 74, 85, 96, 25, 35, 15, 26, 24, 14]\n",
            "Enter the operation on queue: \n",
            "1. push \n",
            "2. pop \n",
            "3. front\n",
            "4. exit\n",
            "3\n",
            "element on front of queue is: 5\n",
            "Enter the operation on queue: \n",
            "1. push \n",
            "2. pop \n",
            "3. front\n",
            "4. exit\n",
            "4\n",
            "exited\n"
          ]
        }
      ]
    },
    {
      "cell_type": "markdown",
      "source": [
        "q13. WAP that scans an email address and forms a tuple of user name and domain"
      ],
      "metadata": {
        "id": "JZwz6aT4bapY"
      }
    },
    {
      "cell_type": "code",
      "source": [
        "#Solution\n",
        "n = input(\"enter your email address: \")\n",
        "\n",
        "def scan(n):\n",
        "  a = n.split(\"@\")\n",
        "  print(f\"the username is: {a[0]}\")\n",
        "  print(f\"the domain is: {a[1]}\")\n",
        "\n",
        "scan(n)"
      ],
      "metadata": {
        "id": "EfrXogkeh2qF",
        "colab": {
          "base_uri": "https://localhost:8080/"
        },
        "outputId": "0463feb4-0efa-4e16-f371-11d367ab27ba"
      },
      "execution_count": 28,
      "outputs": [
        {
          "output_type": "stream",
          "name": "stdout",
          "text": [
            "enter your email address: lakshay@gmail.com\n",
            "the username is: lakshay\n",
            "the domain is: gmail.com\n"
          ]
        }
      ]
    },
    {
      "cell_type": "markdown",
      "source": [
        "q14. WAP that accepts different number of arguments and return sum of only the positive values passed to it."
      ],
      "metadata": {
        "id": "rlh3PxQGh691"
      }
    },
    {
      "cell_type": "code",
      "source": [
        "#Solution\n",
        "l = []\n",
        "n = int(input(\"enter number of elements to enter: \"))\n",
        "\n",
        "for i in range(n):\n",
        "  l.append(int(input(f\"enter {i}th number: \")))\n",
        "\n",
        "def sum(l):\n",
        "  count = 0\n",
        "  for i in l:\n",
        "    if( i > 0):\n",
        "      count += i\n",
        "  return count\n",
        "\n",
        "print(f\"sum of all positive elements is: {sum(l)}\")"
      ],
      "metadata": {
        "id": "6oMp_aPOiC5t",
        "colab": {
          "base_uri": "https://localhost:8080/"
        },
        "outputId": "b83c39b3-b595-474b-c09b-507edbe4c575"
      },
      "execution_count": 31,
      "outputs": [
        {
          "output_type": "stream",
          "name": "stdout",
          "text": [
            "enter number of elements to enter: 5\n",
            "enter 0th number: -2\n",
            "enter 1th number: 5\n",
            "enter 2th number: -3\n",
            "enter 3th number: 4\n",
            "enter 4th number: -1\n",
            "sum of all positive elements is: 9\n"
          ]
        }
      ]
    },
    {
      "cell_type": "markdown",
      "source": [
        "q15. WAP to swap two values using tuple assignment"
      ],
      "metadata": {
        "id": "dboS7aqOiY3d"
      }
    },
    {
      "cell_type": "code",
      "source": [
        "#Solution\n",
        "a = [1, 2, 4, 3, 6, 5]\n",
        "\n",
        "print(\"choose two elements to swap their values\")\n",
        "n = int(input(\"enter first index: \"))\n",
        "x = int(input(\"enter index to swap it with: \"))\n",
        "\n",
        "def swap(a, n,x):\n",
        "  print(f\"list values before swapping: {a} \")\n",
        "  (a[n],a[x]) = (a[x],a[n])\n",
        "  print(f\"list values after swapping: {a} \")\n",
        "\n",
        "swap(a,n,x)"
      ],
      "metadata": {
        "id": "d-kza-Cpiejl",
        "colab": {
          "base_uri": "https://localhost:8080/"
        },
        "outputId": "e6012888-f49c-4fb5-c2cd-e0757993b3ae"
      },
      "execution_count": 37,
      "outputs": [
        {
          "output_type": "stream",
          "name": "stdout",
          "text": [
            "choose two elements to swap their values\n",
            "enter first index: 1\n",
            "enter index to swap it with: 3\n",
            "list values before swapping: [1, 2, 4, 3, 6, 5] \n",
            "list values after swapping: [1, 3, 4, 2, 6, 5] \n"
          ]
        }
      ]
    },
    {
      "cell_type": "markdown",
      "source": [
        "## Practice Questions."
      ],
      "metadata": {
        "id": "J-6c-tTcNbnS"
      }
    },
    {
      "cell_type": "markdown",
      "source": [
        "Ques. Print the different elements in the list with their type"
      ],
      "metadata": {
        "id": "_GGsW1DuNfgo"
      }
    },
    {
      "cell_type": "code",
      "execution_count": null,
      "metadata": {
        "colab": {
          "base_uri": "https://localhost:8080/"
        },
        "id": "QWTKpT5DhXTP",
        "outputId": "97ac7d32-23da-4413-a2cb-8337ff70c77b"
      },
      "outputs": [
        {
          "output_type": "stream",
          "name": "stdout",
          "text": [
            "['hello', 12, 12.354, 'a']\n",
            "hello and its type is: <class 'str'>\n",
            "12 and its type is: <class 'int'>\n",
            "12.354 and its type is: <class 'float'>\n",
            "a and its type is: <class 'str'>\n",
            "hello\n"
          ]
        },
        {
          "output_type": "execute_result",
          "data": {
            "text/plain": [
              "NoneType"
            ]
          },
          "metadata": {},
          "execution_count": 6
        }
      ],
      "source": [
        "lis = [\"hello\", 12, 12.354, 'a']\n",
        "print(lis)\n",
        "\n",
        "for i in lis:\n",
        "  print(f\"{i} and its type is: {type(i)}\")\n",
        "\n",
        "type(print(lis[0]))"
      ]
    },
    {
      "cell_type": "markdown",
      "source": [
        "Ques. Print list using for loop"
      ],
      "metadata": {
        "id": "he9XJxWUjQ_b"
      }
    },
    {
      "cell_type": "code",
      "source": [
        "lis = [\"hello\", \"chinki\", \"minki\", \"googly\", \"doo\"]\n",
        "\n",
        "for i in lis:\n",
        "  print(i)"
      ],
      "metadata": {
        "colab": {
          "base_uri": "https://localhost:8080/"
        },
        "id": "_zWNBkUUkACR",
        "outputId": "1149320b-0d3a-46a8-9790-86b291bff162"
      },
      "execution_count": null,
      "outputs": [
        {
          "output_type": "stream",
          "name": "stdout",
          "text": [
            "hello\n",
            "chinki\n",
            "minki\n",
            "googly\n",
            "doo\n"
          ]
        }
      ]
    },
    {
      "cell_type": "markdown",
      "source": [
        "Ques. Find sum of n numbers in list"
      ],
      "metadata": {
        "id": "p86O08_Dlin_"
      }
    },
    {
      "cell_type": "code",
      "source": [
        "lis = []\n",
        "n = int(input(\"enter number of elements: \"))\n",
        "\n",
        "for i in range(n):\n",
        "  lis.append(int(input(f\"enter {i}th number: \")))\n",
        "\n",
        "count = 0\n",
        "for i in lis:\n",
        "  count += i\n",
        "\n",
        "print(f\"sum of all numbers is: {count}\")"
      ],
      "metadata": {
        "colab": {
          "base_uri": "https://localhost:8080/"
        },
        "id": "30JWSHAQlmBF",
        "outputId": "c1f429eb-74b0-4691-e9a7-aec5e7470ffa"
      },
      "execution_count": null,
      "outputs": [
        {
          "output_type": "stream",
          "name": "stdout",
          "text": [
            "enter number of elements: 3\n",
            "enter 0th number: 12\n",
            "enter 1th number: 11\n",
            "enter 2th number: 10\n",
            "sum of all numbers is: 33\n"
          ]
        }
      ]
    },
    {
      "cell_type": "markdown",
      "source": [
        "Ques. Make a 2D list and print its elements. LIST WITHIN LIST"
      ],
      "metadata": {
        "id": "4bBC6vsRmRdq"
      }
    },
    {
      "cell_type": "code",
      "source": [
        "lis = [ [12, 13, 14], [10, 9, 8], [4,2,3] ]\n",
        "row = 0\n",
        "for i in lis:\n",
        "\n",
        "  print(f\"\\n{row}th row in the list is: {i}\")\n",
        "  row += 1\n",
        "  print(\"individual elements in the list are: \")\n",
        "  for j in i:\n",
        "    print(j)"
      ],
      "metadata": {
        "colab": {
          "base_uri": "https://localhost:8080/"
        },
        "id": "IOP0y2AsmZij",
        "outputId": "fb27b9d3-d2c2-4c7d-9439-25dc582683f9"
      },
      "execution_count": null,
      "outputs": [
        {
          "output_type": "stream",
          "name": "stdout",
          "text": [
            "\n",
            "0th row in the list is: [12, 13, 14]\n",
            "individual elements in the list are: \n",
            "12\n",
            "13\n",
            "14\n",
            "\n",
            "1th row in the list is: [10, 9, 8]\n",
            "individual elements in the list are: \n",
            "10\n",
            "9\n",
            "8\n",
            "\n",
            "2th row in the list is: [4, 2, 3]\n",
            "individual elements in the list are: \n",
            "4\n",
            "2\n",
            "3\n"
          ]
        }
      ]
    },
    {
      "cell_type": "markdown",
      "source": [
        "Ques. Find largest and smallest element in the list"
      ],
      "metadata": {
        "id": "-tVMkaY6osCa"
      }
    },
    {
      "cell_type": "code",
      "source": [
        "lis = [1, 54, 24, 11, 98, 52, 2, 36, 9]\n",
        "l = len(lis)\n",
        "\n",
        "for i in range(l):\n",
        "  for j in range(0, l-i-1):\n",
        "    if(lis[j]> lis[j+1]):\n",
        "      temp = lis[j]\n",
        "      lis[j] = lis[j+1]\n",
        "      lis[j+1] = temp\n",
        "\n",
        "max = lis[len(lis)-1]\n",
        "min = lis[0]\n",
        "\n",
        "print(f\"max element is: {max}\")\n",
        "print(f\"min element is: {min}\")"
      ],
      "metadata": {
        "colab": {
          "base_uri": "https://localhost:8080/"
        },
        "id": "zLEH97SsozWv",
        "outputId": "e75a1e84-6d9a-4d49-ee7a-22e45a53ab58"
      },
      "execution_count": null,
      "outputs": [
        {
          "output_type": "stream",
          "name": "stdout",
          "text": [
            "max element is: 98\n",
            "min element is: 1\n"
          ]
        }
      ]
    },
    {
      "cell_type": "markdown",
      "source": [
        "Ques. Find max and min element in 2D list"
      ],
      "metadata": {
        "id": "YitIJ5NiyXgw"
      }
    },
    {
      "cell_type": "code",
      "source": [
        "lis = [ [1,2,3] , [24, 25, 36], [20, 6, 48] ]\n",
        "\n",
        "min = lis[0][0]\n",
        "max = 0\n",
        "\n",
        "for i in lis:\n",
        "  for j in i:\n",
        "    if(min>j):\n",
        "      min = j\n",
        "    if(max<j):\n",
        "      max = j\n",
        "\n",
        "print(f\"minimum value in 2D list is: {min}\")\n",
        "print(f\"maximum value in 2D list is: {max}\")"
      ],
      "metadata": {
        "id": "DDH6DI28ydw7",
        "colab": {
          "base_uri": "https://localhost:8080/"
        },
        "outputId": "03eb431a-090f-4b10-e50f-0dc8dfe22e2d"
      },
      "execution_count": null,
      "outputs": [
        {
          "output_type": "stream",
          "name": "stdout",
          "text": [
            "minimum value in 2D list is: 1\n",
            "maximum value in 2D list is: 48\n"
          ]
        }
      ]
    },
    {
      "cell_type": "markdown",
      "source": [
        "Ques. WAP multiply all items in the list"
      ],
      "metadata": {
        "id": "Vl7Iq3DZpITE"
      }
    },
    {
      "cell_type": "code",
      "source": [
        "lis = [1, 21 , 32, 12, 14]\n",
        "mul = 1\n",
        "for i in lis:\n",
        "  mul *= i\n",
        "\n",
        "print(f\"product of all elements in the list: {mul}\")"
      ],
      "metadata": {
        "colab": {
          "base_uri": "https://localhost:8080/"
        },
        "id": "UELsRbPFpNtw",
        "outputId": "69620ead-afe2-4564-a861-3d9cfe078557"
      },
      "execution_count": null,
      "outputs": [
        {
          "output_type": "stream",
          "name": "stdout",
          "text": [
            "product of all elements in the list: 112896\n"
          ]
        }
      ]
    },
    {
      "cell_type": "markdown",
      "source": [
        "Ques. WAP take input from user to create a list that should have dat type string, int, float, boolean."
      ],
      "metadata": {
        "id": "N5d8vvMrpOau"
      }
    },
    {
      "cell_type": "code",
      "source": [
        "lis = []\n",
        "n = int(input(\"enter number of elements to be inserted: \"))\n",
        "\n",
        "for i in range(n):\n",
        "  lis.append(input(f\"enter {i}th element: \"))\n",
        "\n",
        "print(lis)"
      ],
      "metadata": {
        "colab": {
          "base_uri": "https://localhost:8080/"
        },
        "id": "sOT_NRqcpYtI",
        "outputId": "f375ee0f-6c30-4201-b0c9-6d27814d08d8"
      },
      "execution_count": null,
      "outputs": [
        {
          "output_type": "stream",
          "name": "stdout",
          "text": [
            "enter number of elements to be inserted: 3\n",
            "enter 0th element: 1\n",
            "enter 1th element: 2\n",
            "enter 2th element: 3\n",
            "['1', '2', '3']\n"
          ]
        }
      ]
    },
    {
      "cell_type": "markdown",
      "source": [
        "Ques. Inserting elements in list using insert method"
      ],
      "metadata": {
        "id": "RLZ2HKz0yeYd"
      }
    },
    {
      "cell_type": "code",
      "source": [
        "list1 = [1,2,3,4,5,6]\n",
        "list1.insert(1, 2)\n",
        "print(list1)"
      ],
      "metadata": {
        "colab": {
          "base_uri": "https://localhost:8080/"
        },
        "id": "xkJpK7Vdyi6k",
        "outputId": "d23ebedc-d268-4880-8e79-c3bcb9843286"
      },
      "execution_count": null,
      "outputs": [
        {
          "output_type": "stream",
          "name": "stdout",
          "text": [
            "[1, 2, 2, 3, 4, 5, 6]\n"
          ]
        }
      ]
    },
    {
      "cell_type": "markdown",
      "source": [
        "Ques. Create a list of string and count the number of palindrome in the list."
      ],
      "metadata": {
        "id": "WTjd1Ot-ytTR"
      }
    },
    {
      "cell_type": "code",
      "source": [
        "lis = []\n",
        "n = int(input(\"enter number of input strings: \"))\n",
        "\n",
        "for i in range(n):\n",
        "  lis.append(input(f\"enter {i}th string: \"))\n",
        "\n",
        "def palindrome(str):\n",
        "  str2 = str[::-1]\n",
        "  if (str2 == str):\n",
        "    return 1\n",
        "\n",
        "  return 0\n",
        "\n",
        "count = 0\n",
        "\n",
        "for i in range(len(lis)):\n",
        "  if palindrome(lis[i]):\n",
        "    count += 1\n",
        "\n",
        "print(f\"number of palindromes in list are {count}\")"
      ],
      "metadata": {
        "colab": {
          "base_uri": "https://localhost:8080/"
        },
        "id": "s3yZad69yywL",
        "outputId": "7d713be3-78aa-4c78-e2b7-913221a9f83d"
      },
      "execution_count": null,
      "outputs": [
        {
          "output_type": "stream",
          "name": "stdout",
          "text": [
            "enter number of input strings: 3\n",
            "enter 0th string: hello\n",
            "enter 1th string: kanak\n",
            "enter 2th string: rahul\n",
            "number of palindromes in list are 1\n"
          ]
        }
      ]
    },
    {
      "cell_type": "markdown",
      "source": [
        "Ques. Delete methods in lists:\n",
        "\n",
        "1. del()\n",
        "2. pop()\n",
        "3. remove()\n",
        "4. clear()"
      ],
      "metadata": {
        "id": "7K8XgSixzHnQ"
      }
    },
    {
      "cell_type": "code",
      "source": [
        "l = [1, 2, 3, 4, 5, 6]\n",
        "\n",
        "#using del method\n",
        "del l[0]\n",
        "print(f\"using delete method to delete first element, list is: {l}\")\n",
        "\n",
        "#using pop method\n",
        "ele = l.pop(0)\n",
        "print(f\"popped element: {ele} and the list is: {l}\")\n",
        "\n",
        "#using remove method\n",
        "l.remove(6)\n",
        "print(f\"using remove method to remove 6, list is: {l}\")\n",
        "\n",
        "#using clear method\n",
        "l.clear()\n",
        "print(f\"after using clear method, list is: {l}\")"
      ],
      "metadata": {
        "id": "1tjc6UddRKZ3",
        "colab": {
          "base_uri": "https://localhost:8080/"
        },
        "outputId": "3e6e024f-63f1-41dc-e610-450667b051d3"
      },
      "execution_count": null,
      "outputs": [
        {
          "output_type": "stream",
          "name": "stdout",
          "text": [
            "using delete method to delete first element, list is: [2, 3, 4, 5, 6]\n",
            "popped element: 2 and the list is: [3, 4, 5, 6]\n",
            "using remove method to remove 6, list is: [3, 4, 5]\n",
            "after using clear method, list is: []\n"
          ]
        }
      ]
    },
    {
      "cell_type": "markdown",
      "source": [
        "Ques. Copy a list using .copy() function"
      ],
      "metadata": {
        "id": "la3s7zzgRKqu"
      }
    },
    {
      "cell_type": "code",
      "source": [
        "list1 = [45, 67.8, \"e\", 78]\n",
        "list2 = list1.copy()\n",
        "print(list1)\n",
        "print(list2)"
      ],
      "metadata": {
        "colab": {
          "base_uri": "https://localhost:8080/"
        },
        "id": "WoB4gUIhRQjX",
        "outputId": "6e29efa6-0bb6-4869-a472-cfac7cf62138"
      },
      "execution_count": null,
      "outputs": [
        {
          "output_type": "stream",
          "name": "stdout",
          "text": [
            "[45, 67.8, 'e', 78]\n",
            "[45, 67.8, 'e', 78]\n"
          ]
        }
      ]
    },
    {
      "cell_type": "code",
      "source": [
        "list1[1] = 54\n",
        "print(list1)\n",
        "print(list2)\n",
        "#now both lists are different so no changes in list2"
      ],
      "metadata": {
        "colab": {
          "base_uri": "https://localhost:8080/"
        },
        "id": "yhQYPEB2Rn4U",
        "outputId": "bbfab66a-d0af-4b83-9270-fe46622ce254"
      },
      "execution_count": null,
      "outputs": [
        {
          "output_type": "stream",
          "name": "stdout",
          "text": [
            "[45, 54, 'e', 78]\n",
            "[45, 67.8, 'e', 78]\n"
          ]
        }
      ]
    },
    {
      "cell_type": "code",
      "source": [
        "list3 = list1\n",
        "list1[0] = 98\n",
        "print(list1)\n",
        "print(list3)\n",
        "#now list3 is reference list to list1 so changes to list1 will also occur on list3"
      ],
      "metadata": {
        "colab": {
          "base_uri": "https://localhost:8080/"
        },
        "id": "Ecq_x7_mSDoH",
        "outputId": "16f24c94-59bd-4117-da26-b45a5c22e956"
      },
      "execution_count": null,
      "outputs": [
        {
          "output_type": "stream",
          "name": "stdout",
          "text": [
            "[98, 54, 'e', 78]\n",
            "[98, 54, 'e', 78]\n"
          ]
        }
      ]
    },
    {
      "cell_type": "markdown",
      "source": [
        "Ques. List Comprehension"
      ],
      "metadata": {
        "id": "BzoQl2Q0TNeu"
      }
    },
    {
      "cell_type": "code",
      "source": [
        "b = [5 for i in range(10)]\n",
        "print(b)"
      ],
      "metadata": {
        "colab": {
          "base_uri": "https://localhost:8080/"
        },
        "id": "UzANqa_3TSrp",
        "outputId": "bd7c7d05-af40-43ce-8ac4-3d1eb51a2eca"
      },
      "execution_count": null,
      "outputs": [
        {
          "output_type": "stream",
          "name": "stdout",
          "text": [
            "[5, 5, 5, 5, 5, 5, 5, 5, 5, 5]\n"
          ]
        }
      ]
    },
    {
      "cell_type": "markdown",
      "source": [
        "Ques. Create a new list using list comprehension replacing a string from the old list"
      ],
      "metadata": {
        "id": "vonxF77SUfzo"
      }
    },
    {
      "cell_type": "code",
      "source": [
        "list1 = [\"rahul\", \"ramu\", \"raghav\", \"shweta\"]\n",
        "list2 = [\"sehgal\" for i in list1]\n",
        "print(list2)"
      ],
      "metadata": {
        "colab": {
          "base_uri": "https://localhost:8080/"
        },
        "id": "pC6cz8nTUoFn",
        "outputId": "3d921ff8-121a-49d5-e67f-3aba4658a84c"
      },
      "execution_count": null,
      "outputs": [
        {
          "output_type": "stream",
          "name": "stdout",
          "text": [
            "['sehgal', 'sehgal', 'sehgal', 'sehgal']\n"
          ]
        }
      ]
    },
    {
      "cell_type": "markdown",
      "source": [
        "Ques. Find kth largest and kth smallest element in the list"
      ],
      "metadata": {
        "id": "QhijsR_KVcFA"
      }
    },
    {
      "cell_type": "code",
      "source": [
        "list1 = [12, 23, 86, 9, 2, 69, 5]\n",
        "list1.sort()\n",
        "list2 = []\n",
        "for i in list1:\n",
        "  if (i not in list2):\n",
        "    list2.append(i)\n",
        "\n",
        "n = int(input(\"enter kth no of largest and smallest value: \"))\n",
        "print(f\"the {n}th largest number is: {list2[-n]} and {n}th smallest number is: {list2[n-1]}\")"
      ],
      "metadata": {
        "colab": {
          "base_uri": "https://localhost:8080/"
        },
        "id": "XOdUA3sUVmrX",
        "outputId": "d2935a12-421d-4d39-dd04-cf4a25b57558"
      },
      "execution_count": null,
      "outputs": [
        {
          "output_type": "stream",
          "name": "stdout",
          "text": [
            "enter kth no of largest and smallest value: 2\n",
            "the 2th largest number is: 69 and 2th smallest number is: 5\n"
          ]
        }
      ]
    },
    {
      "cell_type": "markdown",
      "source": [
        "Ques.access tuple items using square brackets"
      ],
      "metadata": {
        "id": "YwAG0Dnxr4k1"
      }
    },
    {
      "cell_type": "code",
      "source": [
        "t = (1, 2, 3, 4, 5)\n",
        "print(t[0])\n",
        "print(t[-4:-1])"
      ],
      "metadata": {
        "colab": {
          "base_uri": "https://localhost:8080/"
        },
        "id": "N_pvTrK9sGGn",
        "outputId": "617be838-5fb1-4c1b-8add-9b0bf328d112"
      },
      "execution_count": null,
      "outputs": [
        {
          "output_type": "stream",
          "name": "stdout",
          "text": [
            "1\n",
            "(2, 3, 4)\n"
          ]
        }
      ]
    },
    {
      "cell_type": "markdown",
      "source": [
        "Ques. Make a tuple that has elements of all data types"
      ],
      "metadata": {
        "id": "ajYt_JJmsja-"
      }
    },
    {
      "cell_type": "code",
      "source": [
        "t = (1, 2, \"hello\", 2.36, True)\n",
        "\n",
        "for i in range(len(t)):\n",
        "  print(f\"{i}th element is: {t[i]} and its type is: {type(t[i])}\")"
      ],
      "metadata": {
        "colab": {
          "base_uri": "https://localhost:8080/"
        },
        "id": "RbwCJv0Rswbj",
        "outputId": "52180fe5-b1aa-4d84-c7eb-3880d6377d3d"
      },
      "execution_count": null,
      "outputs": [
        {
          "output_type": "stream",
          "name": "stdout",
          "text": [
            "0th element is: 1 and its type is: <class 'int'>\n",
            "1th element is: 2 and its type is: <class 'int'>\n",
            "2th element is: hello and its type is: <class 'str'>\n",
            "3th element is: 2.36 and its type is: <class 'float'>\n",
            "4th element is: True and its type is: <class 'bool'>\n"
          ]
        }
      ]
    },
    {
      "cell_type": "markdown",
      "source": [
        "Ques. Make a list in tuple and verify if the list is still mutable"
      ],
      "metadata": {
        "id": "dhj_VseGtL0c"
      }
    },
    {
      "cell_type": "code",
      "source": [
        "t = ([1, 2, 3], \"hello\", 45)\n",
        "t[0][0] = 0\n",
        "print(f\"after changing element of list within a tuple, the final list is: {t[0]}\")"
      ],
      "metadata": {
        "colab": {
          "base_uri": "https://localhost:8080/"
        },
        "id": "I85aDmo4tUp8",
        "outputId": "cb2fc456-ad56-4165-994f-923b4e297088"
      },
      "execution_count": null,
      "outputs": [
        {
          "output_type": "stream",
          "name": "stdout",
          "text": [
            "after changing element of list within a tuple, the final list is: [0, 2, 3]\n"
          ]
        }
      ]
    },
    {
      "cell_type": "markdown",
      "source": [
        "Ques. Make a program using tuple and count how many elements of the tuple are unique."
      ],
      "metadata": {
        "id": "1LoPwsYttVAR"
      }
    },
    {
      "cell_type": "code",
      "source": [
        "t = (1, 2, 2, 4, 4, 5, 3, 14, 3, 5, 1)\n",
        "l = []\n",
        "\n",
        "for i in t:\n",
        "  if i not in l:\n",
        "    l.append(i)\n",
        "\n",
        "print(f\"number of unique elements in tuple are {len(l)}\")\n",
        "\n",
        "for i in l:\n",
        "  j = 0\n",
        "  for k in t:\n",
        "    if( i == k):\n",
        "      j += 1\n",
        "  print(f\"frequency of {i} in tuple is: {j}\")"
      ],
      "metadata": {
        "colab": {
          "base_uri": "https://localhost:8080/"
        },
        "id": "DiOIcMTDuZRV",
        "outputId": "0dd9097c-d232-47a9-d87c-cb6ce64a619b"
      },
      "execution_count": null,
      "outputs": [
        {
          "output_type": "stream",
          "name": "stdout",
          "text": [
            "number of unique elements in tuple are 6\n",
            "frequency of 1 in tuple is: 2\n",
            "frequency of 2 in tuple is: 2\n",
            "frequency of 4 in tuple is: 2\n",
            "frequency of 5 in tuple is: 2\n",
            "frequency of 3 in tuple is: 2\n",
            "frequency of 14 in tuple is: 1\n"
          ]
        }
      ]
    },
    {
      "cell_type": "markdown",
      "source": [
        "Ques. WAP to print only duplicate elements in a tuple"
      ],
      "metadata": {
        "id": "YA3bTypnwzgV"
      }
    },
    {
      "cell_type": "code",
      "source": [
        "t = (1, 2, 3, 4, 2, 3, 5, 6, 7)\n",
        "l = []\n",
        "\n",
        "for i in t:\n",
        "  if i not in l:\n",
        "    l.append(i)\n",
        "\n",
        "for i in l:\n",
        "  j = 0\n",
        "  for k in t:\n",
        "    if( i == k):\n",
        "      j += 1\n",
        "  if(j>1):\n",
        "    print(f\"Duplicate element: {i}, frequency is: {j}\")"
      ],
      "metadata": {
        "colab": {
          "base_uri": "https://localhost:8080/"
        },
        "id": "_FvorTXEw5l1",
        "outputId": "867c1e5f-fa5c-4789-8162-f06e28c0d59b"
      },
      "execution_count": null,
      "outputs": [
        {
          "output_type": "stream",
          "name": "stdout",
          "text": [
            "Duplicate element: 2, frequency is: 2\n",
            "Duplicate element: 3, frequency is: 2\n"
          ]
        }
      ]
    },
    {
      "cell_type": "markdown",
      "source": [
        "Ques. print the palindrome string in a tuple"
      ],
      "metadata": {
        "id": "cZftW13zxG-Y"
      }
    },
    {
      "cell_type": "code",
      "source": [
        "t = (\"raghav\", \"kanak\", \"racecar\", \"bullub\", \"dahad\")\n",
        "\n",
        "def palindrome(i):\n",
        "  i2 = i[::-1]\n",
        "  if(i2 == i):\n",
        "    print(i, end=\", \")\n",
        "\n",
        "print(f\"number of palindromes in tuple are: {count}\")\n",
        "\n",
        "print(\"Palindromes in the tuple are: \")\n",
        "for i in t:\n",
        "  palindrome(i)"
      ],
      "metadata": {
        "colab": {
          "base_uri": "https://localhost:8080/"
        },
        "id": "vqyUlRQmxKlg",
        "outputId": "4b17db90-15dd-4196-ef91-37917f0910e2"
      },
      "execution_count": null,
      "outputs": [
        {
          "output_type": "stream",
          "name": "stdout",
          "text": [
            "number of palindromes in tuple are: 0\n",
            "Palindromes in the tuple are: \n",
            "kanak, racecar, bullub, dahad, "
          ]
        }
      ]
    },
    {
      "cell_type": "markdown",
      "source": [
        "Ques. Delete a tuple using del keyword"
      ],
      "metadata": {
        "id": "Q_IUQws81Sp9"
      }
    },
    {
      "cell_type": "code",
      "source": [
        "tuple1 = (\"a\", \"b\", \"ab\")\n",
        "del tuple1\n",
        "print(\"tuple has been deleted\")"
      ],
      "metadata": {
        "colab": {
          "base_uri": "https://localhost:8080/"
        },
        "id": "M_P-nsms14-f",
        "outputId": "124522c5-1ea0-43b2-b328-141835d032af"
      },
      "execution_count": null,
      "outputs": [
        {
          "output_type": "stream",
          "name": "stdout",
          "text": [
            "tuple has been deleted\n"
          ]
        }
      ]
    },
    {
      "cell_type": "markdown",
      "source": [
        "Ques. Concatenate two tuples using '+' operator"
      ],
      "metadata": {
        "id": "yAaHtWg215he"
      }
    },
    {
      "cell_type": "code",
      "source": [
        "tuple1 = (\"a\", \"b\", \"c\")\n",
        "tuple2 = (1, 2, 3)\n",
        "\n",
        "tuple3 = tuple1 + tuple2\n",
        "print(tuple3)"
      ],
      "metadata": {
        "colab": {
          "base_uri": "https://localhost:8080/"
        },
        "id": "Q55Vut661_2v",
        "outputId": "f84f7567-0386-42c5-f64d-5be78ff20af3"
      },
      "execution_count": 39,
      "outputs": [
        {
          "output_type": "stream",
          "name": "stdout",
          "text": [
            "('a', 'b', 'c', 1, 2, 3)\n"
          ]
        }
      ]
    },
    {
      "cell_type": "markdown",
      "source": [
        "Ques. Convert a tuple into list and modify it"
      ],
      "metadata": {
        "id": "VqJk6ZgR3a2U"
      }
    },
    {
      "cell_type": "code",
      "source": [
        "t = (1, 2, 3, 4)\n",
        "l = list(t)\n",
        "l[0] = 14\n",
        "print(f\"after typecasting and modifying it, the final list is: {l}\")"
      ],
      "metadata": {
        "colab": {
          "base_uri": "https://localhost:8080/"
        },
        "id": "ppnl3hyC3gPb",
        "outputId": "f7a32578-6e66-44f2-f4ef-c2dd78cd9a38"
      },
      "execution_count": 38,
      "outputs": [
        {
          "output_type": "stream",
          "name": "stdout",
          "text": [
            "after typecasting and modifying it, the final list is: [14, 2, 3, 4]\n"
          ]
        }
      ]
    }
  ]
}