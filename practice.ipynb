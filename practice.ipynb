{
 "cells": [
  {
   "cell_type": "code",
   "execution_count": 2,
   "metadata": {},
   "outputs": [
    {
     "name": "stdout",
     "output_type": "stream",
     "text": [
      "    NUMBERS ALPHABETS\n",
      "0         1         A\n",
      "1         2         B\n",
      "2         3         C\n",
      "3         4         D\n",
      "4         5         E\n",
      "5         6         F\n",
      "6         7         G\n",
      "7         8         H\n",
      "8         9         I\n",
      "9        10         J\n",
      "10       11         K\n",
      "11       12         L\n",
      "12       13         M\n",
      "13       14         N\n",
      "14       15         O\n",
      "15       16         P\n",
      "16       17         Q\n",
      "17       18         R\n",
      "18       19         S\n",
      "19       20         T\n"
     ]
    }
   ],
   "source": [
    "import pandas as pd\n",
    "df = pd.read_csv(\"C:/Users/hp/Downloads/numbers.csv\")\n",
    "print(df)"
   ]
  }
 ],
 "metadata": {
  "kernelspec": {
   "display_name": "Python 3",
   "language": "python",
   "name": "python3"
  },
  "language_info": {
   "codemirror_mode": {
    "name": "ipython",
    "version": 3
   },
   "file_extension": ".py",
   "mimetype": "text/x-python",
   "name": "python",
   "nbconvert_exporter": "python",
   "pygments_lexer": "ipython3",
   "version": "3.10.7"
  },
  "orig_nbformat": 4
 },
 "nbformat": 4,
 "nbformat_minor": 2
}
