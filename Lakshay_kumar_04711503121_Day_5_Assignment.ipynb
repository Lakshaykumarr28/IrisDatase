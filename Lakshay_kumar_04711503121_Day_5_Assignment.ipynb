{
  "nbformat": 4,
  "nbformat_minor": 0,
  "metadata": {
    "colab": {
      "provenance": [],
      "collapsed_sections": [
        "A8R1Nv6hzsSs",
        "HyHyXwWM3bv1",
        "_Wv1jHjMogWV",
        "OnIbLGtG4wtm"
      ]
    },
    "kernelspec": {
      "name": "python3",
      "display_name": "Python 3"
    },
    "language_info": {
      "name": "python"
    }
  },
  "cells": [
    {
      "cell_type": "markdown",
      "source": [
        "# **Day 5 Assignment - NumPy**"
      ],
      "metadata": {
        "id": "A8R1Nv6hzsSs"
      }
    },
    {
      "cell_type": "markdown",
      "source": [
        "q1: Create a 1D array of numbers from 0 to 9"
      ],
      "metadata": {
        "id": "3_7QzPaOy9U8"
      }
    },
    {
      "cell_type": "code",
      "execution_count": null,
      "metadata": {
        "id": "7rjjFETyyure",
        "colab": {
          "base_uri": "https://localhost:8080/"
        },
        "outputId": "a90762b8-c87b-4276-d820-a46e6d989c23"
      },
      "outputs": [
        {
          "output_type": "stream",
          "name": "stdout",
          "text": [
            "array from 0 to 9 is: [0 1 2 3 4 5 6 7 8 9]\n"
          ]
        }
      ],
      "source": [
        "#solution\n",
        "import numpy as np\n",
        "arr = np.arange(0, 10, 1)\n",
        "print(f\"array from 0 to 9 is: {arr}\")"
      ]
    },
    {
      "cell_type": "markdown",
      "source": [
        "q2: Create a 3×3 numpy array of all True’s"
      ],
      "metadata": {
        "id": "lb7k5Okuy_t8"
      }
    },
    {
      "cell_type": "code",
      "source": [
        "#solution\n",
        "import numpy as np\n",
        "\n",
        "arr = np.full((3,3), True, dtype = bool)\n",
        "print(f\"the 3x3 numpy array of all true's is: \\n{arr}\")"
      ],
      "metadata": {
        "id": "o3NfMPeDzEPT",
        "colab": {
          "base_uri": "https://localhost:8080/"
        },
        "outputId": "be00ed84-cd9b-471b-c4d8-a8e0a5a80ca2"
      },
      "execution_count": null,
      "outputs": [
        {
          "output_type": "stream",
          "name": "stdout",
          "text": [
            "the 3x3 numpy array of all true's is: \n",
            "[[ True  True  True]\n",
            " [ True  True  True]\n",
            " [ True  True  True]]\n"
          ]
        }
      ]
    },
    {
      "cell_type": "markdown",
      "source": [
        "q3: Extract all odd numbers from an array of n numbers"
      ],
      "metadata": {
        "id": "5ob95mm-zEpm"
      }
    },
    {
      "cell_type": "code",
      "source": [
        "#solution\n",
        "\n",
        "n = int(input(\"enter number of values in array: \"))\n",
        "arr = np.empty(n, dtype = int)\n",
        "arr2 = []\n",
        "\n",
        "for i in range(n):\n",
        "  arr[i] = int(input(f\"enter {i}th value: \"))\n",
        "  if(arr[i]%2 != 0):\n",
        "    arr2.append(arr[i])\n",
        "\n",
        "print(f\"the odd values are : {arr2}\")"
      ],
      "metadata": {
        "id": "EUAG32JAzNpT",
        "colab": {
          "base_uri": "https://localhost:8080/"
        },
        "outputId": "1e98fc26-310c-4ff5-d0cd-73381e1ece98"
      },
      "execution_count": null,
      "outputs": [
        {
          "output_type": "stream",
          "name": "stdout",
          "text": [
            "enter number of values in array: 5\n",
            "enter 0th value: 1\n",
            "enter 1th value: 2\n",
            "enter 2th value: 3\n",
            "enter 3th value: 4\n",
            "enter 4th value: 5\n",
            "the odd values are : [1, 3, 5]\n"
          ]
        }
      ]
    },
    {
      "cell_type": "markdown",
      "source": [
        "q4: Replace all odd numbers in array with -1"
      ],
      "metadata": {
        "id": "rBu16E5yzORA"
      }
    },
    {
      "cell_type": "code",
      "source": [
        "#solution\n",
        "import numpy as np\n",
        "arr = np.arange(0, 11, 1, dtype = int)\n",
        "\n",
        "for i in range(len(arr)):\n",
        "  if(arr[i] %2 != 0):\n",
        "    arr[i] = -1\n",
        "\n",
        "print(f\"after replacing all odd numbers in array with -1, array becomes: {arr}\")"
      ],
      "metadata": {
        "id": "1-v1CGfgzSzU",
        "colab": {
          "base_uri": "https://localhost:8080/"
        },
        "outputId": "852c3d83-d9dc-418e-ef5f-d9d2d732e6c7"
      },
      "execution_count": null,
      "outputs": [
        {
          "output_type": "stream",
          "name": "stdout",
          "text": [
            "after replacing all odd numbers in array with -1, array becomes: [ 0 -1  2 -1  4 -1  6 -1  8 -1 10]\n"
          ]
        }
      ]
    },
    {
      "cell_type": "markdown",
      "source": [
        "q5: Convert a 1D array to a 2D array with 2 rows\n"
      ],
      "metadata": {
        "id": "cT77E8ehzTFw"
      }
    },
    {
      "cell_type": "code",
      "source": [
        "#solution\n",
        "import numpy as np\n",
        "\n",
        "arr1 = np.array([0, 1, 2, 3, 4, 5])\n",
        "arr1 = arr1.reshape((2,3))\n",
        "\n",
        "print(f\"after reshaping the array in 2D with 2 rows, the array becomes: \\n{arr1}\")"
      ],
      "metadata": {
        "id": "bUBQUhx6zhQJ",
        "colab": {
          "base_uri": "https://localhost:8080/"
        },
        "outputId": "aac1b124-1008-4d84-8882-7e779c688987"
      },
      "execution_count": null,
      "outputs": [
        {
          "output_type": "stream",
          "name": "stdout",
          "text": [
            "after reshaping the array in 2D with 2 rows, the array becomes: \n",
            "[[0 1 2]\n",
            " [3 4 5]]\n"
          ]
        }
      ]
    },
    {
      "cell_type": "markdown",
      "source": [
        "q6: Get the common items between two arrays"
      ],
      "metadata": {
        "id": "2ORqXNXOzhjE"
      }
    },
    {
      "cell_type": "code",
      "source": [
        "#solution\n",
        "import numpy as np\n",
        "arr1 = np.array([1, 2, 3, 5, 4, 85, 15, 36, 24, 59])\n",
        "print(f\"array 1 is: {arr1}\")\n",
        "\n",
        "arr2 = np.array([2, 5, 3, 21, 52 ,15, 64, 36, 75])\n",
        "print(f\"array 2 is: {arr2}\")\n",
        "\n",
        "print(f\"the common elements in array 1 and array 2 are: {np.intersect1d(arr1, arr2)}\")"
      ],
      "metadata": {
        "id": "Lf1mGvGbzyGV",
        "colab": {
          "base_uri": "https://localhost:8080/"
        },
        "outputId": "f0c4ca95-25f9-4267-f137-90489ac92e61"
      },
      "execution_count": null,
      "outputs": [
        {
          "output_type": "stream",
          "name": "stdout",
          "text": [
            "array 1 is: [ 1  2  3  5  4 85 15 36 24 59]\n",
            "array 2 is: [ 2  5  3 21 52 15 64 36 75]\n",
            "the common elements in array 1 and array 2 are: [ 2  3  5 15 36]\n"
          ]
        }
      ]
    },
    {
      "cell_type": "markdown",
      "source": [
        "q7: From array - a remove all items present in array - b"
      ],
      "metadata": {
        "id": "6B2hEd9Dz2i6"
      }
    },
    {
      "cell_type": "code",
      "source": [
        "#solution\n",
        "import numpy as np\n",
        "a = np.array([1, 2, 3, 5, 4, 85, 15, 36, 24, 59])\n",
        "b = np.array([2, 3, 5, 7, 85, 16, 25, 68, 69 ,32])\n",
        "x = np.array([])\n",
        "\n",
        "for i in a:\n",
        "  x= np.where( b == i)\n",
        "\n",
        "print(x)"
      ],
      "metadata": {
        "id": "iRmXPMgnz4km",
        "colab": {
          "base_uri": "https://localhost:8080/"
        },
        "outputId": "5d0b8b96-3727-4258-8360-094e6c83dcdf"
      },
      "execution_count": null,
      "outputs": [
        {
          "output_type": "stream",
          "name": "stdout",
          "text": [
            "(array([], dtype=int64),)\n"
          ]
        }
      ]
    },
    {
      "cell_type": "markdown",
      "source": [
        "# Download the Iris Data CSV File from link - https://drive.google.com/file/d/1KzIR0hK9F17jhzOT3KH2mmWrCoDWpDpQ/view?usp=sharing\n",
        "\n",
        "# And Write Program for following Questions:"
      ],
      "metadata": {
        "id": "HyHyXwWM3bv1"
      }
    },
    {
      "cell_type": "code",
      "source": [
        "from google.colab import drive\n",
        "drive.mount('/content/drive')"
      ],
      "metadata": {
        "colab": {
          "base_uri": "https://localhost:8080/"
        },
        "id": "-56CdvpFgs6J",
        "outputId": "e35c80e1-11d2-4fc6-a1ab-6ee0ca258534"
      },
      "execution_count": 3,
      "outputs": [
        {
          "output_type": "stream",
          "name": "stdout",
          "text": [
            "Mounted at /content/drive\n"
          ]
        }
      ]
    },
    {
      "cell_type": "code",
      "source": [
        "import pandas as pd\n",
        "\n",
        "df = pd.read_csv('/content/drive/MyDrive/Summer Training/Iris.csv')"
      ],
      "metadata": {
        "id": "0T1J0kzH_2_x"
      },
      "execution_count": 4,
      "outputs": []
    },
    {
      "cell_type": "markdown",
      "source": [
        "q8: Find the mean, median, standard deviation of iris's sepallength (1st column)"
      ],
      "metadata": {
        "id": "1OtfhuLQ3vq7"
      }
    },
    {
      "cell_type": "code",
      "source": [
        "#solution\n",
        "df2 = df['SepalLengthCm'].mean()\n",
        "print(f\"mean of SepalLength is: {df2}\")\n",
        "\n",
        "df3 = df['SepalLengthCm'].median()\n",
        "print(f\"median of SepalLength is: {df3}\")\n",
        "\n",
        "df4 = df['SepalLengthCm'].std()\n",
        "print(f\"Standard deviation of SepalLength is: {df4}\")"
      ],
      "metadata": {
        "id": "kT0uLfIX3xp6",
        "colab": {
          "base_uri": "https://localhost:8080/"
        },
        "outputId": "e77a3baf-694a-476c-9c12-d111a736215c"
      },
      "execution_count": 31,
      "outputs": [
        {
          "output_type": "stream",
          "name": "stdout",
          "text": [
            "mean of SepalLength is: 5.843333333333334\n",
            "median of SepalLength is: 5.8\n",
            "Standard deviation of SepalLength is: 0.828066127977863\n"
          ]
        }
      ]
    },
    {
      "cell_type": "markdown",
      "source": [
        "q9: Create a normalized form of iris's sepallength whose values range exactly between 0 and 1 so that the minimum has value 0 and maximum has value 1.\n",
        "\n",
        "Use following Normalization Formula ->\n",
        "\n",
        " x normalized = (x – x minimum) / (x maximum – x minimum)"
      ],
      "metadata": {
        "id": "oEfJu9T131ha"
      }
    },
    {
      "cell_type": "code",
      "source": [
        "#solution\n",
        "min = df[\"SepalLengthCm\"].min()\n",
        "max = df[\"SepalLengthCm\"].max()\n",
        "l2 = []\n",
        "\n",
        "for i in df[\"SepalLengthCm\"]:\n",
        "  val = (i - min) / (max - min)\n",
        "  l2.append(val)\n",
        "\n",
        "print(\"adding a new column to add normalized values.\")\n",
        "df.assign(Sepal_normalized = l2)"
      ],
      "metadata": {
        "id": "XwqzMaNs4RE_",
        "colab": {
          "base_uri": "https://localhost:8080/",
          "height": 441
        },
        "outputId": "790f17c3-86e8-44f0-9993-6d05a5bef556"
      },
      "execution_count": 14,
      "outputs": [
        {
          "output_type": "stream",
          "name": "stdout",
          "text": [
            "adding a new column to add normalized values.\n"
          ]
        },
        {
          "output_type": "execute_result",
          "data": {
            "text/plain": [
              "      Id  SepalLengthCm  SepalWidthCm  PetalLengthCm  PetalWidthCm  \\\n",
              "0      1            5.1           3.5            1.4           0.2   \n",
              "1      2            4.9           3.0            1.4           0.2   \n",
              "2      3            4.7           3.2            1.3           0.2   \n",
              "3      4            4.6           3.1            1.5           0.2   \n",
              "4      5            5.0           3.6            1.4           0.2   \n",
              "..   ...            ...           ...            ...           ...   \n",
              "145  146            6.7           3.0            5.2           2.3   \n",
              "146  147            6.3           2.5            5.0           1.9   \n",
              "147  148            6.5           3.0            5.2           2.0   \n",
              "148  149            6.2           3.4            5.4           2.3   \n",
              "149  150            5.9           3.0            5.1           1.8   \n",
              "\n",
              "            Species  Sepal_normalized  \n",
              "0       Iris-setosa          0.222222  \n",
              "1       Iris-setosa          0.166667  \n",
              "2       Iris-setosa          0.111111  \n",
              "3       Iris-setosa          0.083333  \n",
              "4       Iris-setosa          0.194444  \n",
              "..              ...               ...  \n",
              "145  Iris-virginica          0.666667  \n",
              "146  Iris-virginica          0.555556  \n",
              "147  Iris-virginica          0.611111  \n",
              "148  Iris-virginica          0.527778  \n",
              "149  Iris-virginica          0.444444  \n",
              "\n",
              "[150 rows x 7 columns]"
            ],
            "text/html": [
              "\n",
              "\n",
              "  <div id=\"df-de148893-d001-4e78-9df5-1fe9b2c7d644\">\n",
              "    <div class=\"colab-df-container\">\n",
              "      <div>\n",
              "<style scoped>\n",
              "    .dataframe tbody tr th:only-of-type {\n",
              "        vertical-align: middle;\n",
              "    }\n",
              "\n",
              "    .dataframe tbody tr th {\n",
              "        vertical-align: top;\n",
              "    }\n",
              "\n",
              "    .dataframe thead th {\n",
              "        text-align: right;\n",
              "    }\n",
              "</style>\n",
              "<table border=\"1\" class=\"dataframe\">\n",
              "  <thead>\n",
              "    <tr style=\"text-align: right;\">\n",
              "      <th></th>\n",
              "      <th>Id</th>\n",
              "      <th>SepalLengthCm</th>\n",
              "      <th>SepalWidthCm</th>\n",
              "      <th>PetalLengthCm</th>\n",
              "      <th>PetalWidthCm</th>\n",
              "      <th>Species</th>\n",
              "      <th>Sepal_normalized</th>\n",
              "    </tr>\n",
              "  </thead>\n",
              "  <tbody>\n",
              "    <tr>\n",
              "      <th>0</th>\n",
              "      <td>1</td>\n",
              "      <td>5.1</td>\n",
              "      <td>3.5</td>\n",
              "      <td>1.4</td>\n",
              "      <td>0.2</td>\n",
              "      <td>Iris-setosa</td>\n",
              "      <td>0.222222</td>\n",
              "    </tr>\n",
              "    <tr>\n",
              "      <th>1</th>\n",
              "      <td>2</td>\n",
              "      <td>4.9</td>\n",
              "      <td>3.0</td>\n",
              "      <td>1.4</td>\n",
              "      <td>0.2</td>\n",
              "      <td>Iris-setosa</td>\n",
              "      <td>0.166667</td>\n",
              "    </tr>\n",
              "    <tr>\n",
              "      <th>2</th>\n",
              "      <td>3</td>\n",
              "      <td>4.7</td>\n",
              "      <td>3.2</td>\n",
              "      <td>1.3</td>\n",
              "      <td>0.2</td>\n",
              "      <td>Iris-setosa</td>\n",
              "      <td>0.111111</td>\n",
              "    </tr>\n",
              "    <tr>\n",
              "      <th>3</th>\n",
              "      <td>4</td>\n",
              "      <td>4.6</td>\n",
              "      <td>3.1</td>\n",
              "      <td>1.5</td>\n",
              "      <td>0.2</td>\n",
              "      <td>Iris-setosa</td>\n",
              "      <td>0.083333</td>\n",
              "    </tr>\n",
              "    <tr>\n",
              "      <th>4</th>\n",
              "      <td>5</td>\n",
              "      <td>5.0</td>\n",
              "      <td>3.6</td>\n",
              "      <td>1.4</td>\n",
              "      <td>0.2</td>\n",
              "      <td>Iris-setosa</td>\n",
              "      <td>0.194444</td>\n",
              "    </tr>\n",
              "    <tr>\n",
              "      <th>...</th>\n",
              "      <td>...</td>\n",
              "      <td>...</td>\n",
              "      <td>...</td>\n",
              "      <td>...</td>\n",
              "      <td>...</td>\n",
              "      <td>...</td>\n",
              "      <td>...</td>\n",
              "    </tr>\n",
              "    <tr>\n",
              "      <th>145</th>\n",
              "      <td>146</td>\n",
              "      <td>6.7</td>\n",
              "      <td>3.0</td>\n",
              "      <td>5.2</td>\n",
              "      <td>2.3</td>\n",
              "      <td>Iris-virginica</td>\n",
              "      <td>0.666667</td>\n",
              "    </tr>\n",
              "    <tr>\n",
              "      <th>146</th>\n",
              "      <td>147</td>\n",
              "      <td>6.3</td>\n",
              "      <td>2.5</td>\n",
              "      <td>5.0</td>\n",
              "      <td>1.9</td>\n",
              "      <td>Iris-virginica</td>\n",
              "      <td>0.555556</td>\n",
              "    </tr>\n",
              "    <tr>\n",
              "      <th>147</th>\n",
              "      <td>148</td>\n",
              "      <td>6.5</td>\n",
              "      <td>3.0</td>\n",
              "      <td>5.2</td>\n",
              "      <td>2.0</td>\n",
              "      <td>Iris-virginica</td>\n",
              "      <td>0.611111</td>\n",
              "    </tr>\n",
              "    <tr>\n",
              "      <th>148</th>\n",
              "      <td>149</td>\n",
              "      <td>6.2</td>\n",
              "      <td>3.4</td>\n",
              "      <td>5.4</td>\n",
              "      <td>2.3</td>\n",
              "      <td>Iris-virginica</td>\n",
              "      <td>0.527778</td>\n",
              "    </tr>\n",
              "    <tr>\n",
              "      <th>149</th>\n",
              "      <td>150</td>\n",
              "      <td>5.9</td>\n",
              "      <td>3.0</td>\n",
              "      <td>5.1</td>\n",
              "      <td>1.8</td>\n",
              "      <td>Iris-virginica</td>\n",
              "      <td>0.444444</td>\n",
              "    </tr>\n",
              "  </tbody>\n",
              "</table>\n",
              "<p>150 rows × 7 columns</p>\n",
              "</div>\n",
              "      <button class=\"colab-df-convert\" onclick=\"convertToInteractive('df-de148893-d001-4e78-9df5-1fe9b2c7d644')\"\n",
              "              title=\"Convert this dataframe to an interactive table.\"\n",
              "              style=\"display:none;\">\n",
              "\n",
              "  <svg xmlns=\"http://www.w3.org/2000/svg\" height=\"24px\"viewBox=\"0 0 24 24\"\n",
              "       width=\"24px\">\n",
              "    <path d=\"M0 0h24v24H0V0z\" fill=\"none\"/>\n",
              "    <path d=\"M18.56 5.44l.94 2.06.94-2.06 2.06-.94-2.06-.94-.94-2.06-.94 2.06-2.06.94zm-11 1L8.5 8.5l.94-2.06 2.06-.94-2.06-.94L8.5 2.5l-.94 2.06-2.06.94zm10 10l.94 2.06.94-2.06 2.06-.94-2.06-.94-.94-2.06-.94 2.06-2.06.94z\"/><path d=\"M17.41 7.96l-1.37-1.37c-.4-.4-.92-.59-1.43-.59-.52 0-1.04.2-1.43.59L10.3 9.45l-7.72 7.72c-.78.78-.78 2.05 0 2.83L4 21.41c.39.39.9.59 1.41.59.51 0 1.02-.2 1.41-.59l7.78-7.78 2.81-2.81c.8-.78.8-2.07 0-2.86zM5.41 20L4 18.59l7.72-7.72 1.47 1.35L5.41 20z\"/>\n",
              "  </svg>\n",
              "      </button>\n",
              "\n",
              "\n",
              "\n",
              "    <div id=\"df-fc18500e-bcd0-4da6-8b72-ea6317d9045a\">\n",
              "      <button class=\"colab-df-quickchart\" onclick=\"quickchart('df-fc18500e-bcd0-4da6-8b72-ea6317d9045a')\"\n",
              "              title=\"Suggest charts.\"\n",
              "              style=\"display:none;\">\n",
              "\n",
              "<svg xmlns=\"http://www.w3.org/2000/svg\" height=\"24px\"viewBox=\"0 0 24 24\"\n",
              "     width=\"24px\">\n",
              "    <g>\n",
              "        <path d=\"M19 3H5c-1.1 0-2 .9-2 2v14c0 1.1.9 2 2 2h14c1.1 0 2-.9 2-2V5c0-1.1-.9-2-2-2zM9 17H7v-7h2v7zm4 0h-2V7h2v10zm4 0h-2v-4h2v4z\"/>\n",
              "    </g>\n",
              "</svg>\n",
              "      </button>\n",
              "    </div>\n",
              "\n",
              "<style>\n",
              "  .colab-df-quickchart {\n",
              "    background-color: #E8F0FE;\n",
              "    border: none;\n",
              "    border-radius: 50%;\n",
              "    cursor: pointer;\n",
              "    display: none;\n",
              "    fill: #1967D2;\n",
              "    height: 32px;\n",
              "    padding: 0 0 0 0;\n",
              "    width: 32px;\n",
              "  }\n",
              "\n",
              "  .colab-df-quickchart:hover {\n",
              "    background-color: #E2EBFA;\n",
              "    box-shadow: 0px 1px 2px rgba(60, 64, 67, 0.3), 0px 1px 3px 1px rgba(60, 64, 67, 0.15);\n",
              "    fill: #174EA6;\n",
              "  }\n",
              "\n",
              "  [theme=dark] .colab-df-quickchart {\n",
              "    background-color: #3B4455;\n",
              "    fill: #D2E3FC;\n",
              "  }\n",
              "\n",
              "  [theme=dark] .colab-df-quickchart:hover {\n",
              "    background-color: #434B5C;\n",
              "    box-shadow: 0px 1px 3px 1px rgba(0, 0, 0, 0.15);\n",
              "    filter: drop-shadow(0px 1px 2px rgba(0, 0, 0, 0.3));\n",
              "    fill: #FFFFFF;\n",
              "  }\n",
              "</style>\n",
              "\n",
              "    <script>\n",
              "      async function quickchart(key) {\n",
              "        const containerElement = document.querySelector('#' + key);\n",
              "        const charts = await google.colab.kernel.invokeFunction(\n",
              "            'suggestCharts', [key], {});\n",
              "      }\n",
              "    </script>\n",
              "\n",
              "      <script>\n",
              "\n",
              "function displayQuickchartButton(domScope) {\n",
              "  let quickchartButtonEl =\n",
              "    domScope.querySelector('#df-fc18500e-bcd0-4da6-8b72-ea6317d9045a button.colab-df-quickchart');\n",
              "  quickchartButtonEl.style.display =\n",
              "    google.colab.kernel.accessAllowed ? 'block' : 'none';\n",
              "}\n",
              "\n",
              "        displayQuickchartButton(document);\n",
              "      </script>\n",
              "      <style>\n",
              "    .colab-df-container {\n",
              "      display:flex;\n",
              "      flex-wrap:wrap;\n",
              "      gap: 12px;\n",
              "    }\n",
              "\n",
              "    .colab-df-convert {\n",
              "      background-color: #E8F0FE;\n",
              "      border: none;\n",
              "      border-radius: 50%;\n",
              "      cursor: pointer;\n",
              "      display: none;\n",
              "      fill: #1967D2;\n",
              "      height: 32px;\n",
              "      padding: 0 0 0 0;\n",
              "      width: 32px;\n",
              "    }\n",
              "\n",
              "    .colab-df-convert:hover {\n",
              "      background-color: #E2EBFA;\n",
              "      box-shadow: 0px 1px 2px rgba(60, 64, 67, 0.3), 0px 1px 3px 1px rgba(60, 64, 67, 0.15);\n",
              "      fill: #174EA6;\n",
              "    }\n",
              "\n",
              "    [theme=dark] .colab-df-convert {\n",
              "      background-color: #3B4455;\n",
              "      fill: #D2E3FC;\n",
              "    }\n",
              "\n",
              "    [theme=dark] .colab-df-convert:hover {\n",
              "      background-color: #434B5C;\n",
              "      box-shadow: 0px 1px 3px 1px rgba(0, 0, 0, 0.15);\n",
              "      filter: drop-shadow(0px 1px 2px rgba(0, 0, 0, 0.3));\n",
              "      fill: #FFFFFF;\n",
              "    }\n",
              "  </style>\n",
              "\n",
              "      <script>\n",
              "        const buttonEl =\n",
              "          document.querySelector('#df-de148893-d001-4e78-9df5-1fe9b2c7d644 button.colab-df-convert');\n",
              "        buttonEl.style.display =\n",
              "          google.colab.kernel.accessAllowed ? 'block' : 'none';\n",
              "\n",
              "        async function convertToInteractive(key) {\n",
              "          const element = document.querySelector('#df-de148893-d001-4e78-9df5-1fe9b2c7d644');\n",
              "          const dataTable =\n",
              "            await google.colab.kernel.invokeFunction('convertToInteractive',\n",
              "                                                     [key], {});\n",
              "          if (!dataTable) return;\n",
              "\n",
              "          const docLinkHtml = 'Like what you see? Visit the ' +\n",
              "            '<a target=\"_blank\" href=https://colab.research.google.com/notebooks/data_table.ipynb>data table notebook</a>'\n",
              "            + ' to learn more about interactive tables.';\n",
              "          element.innerHTML = '';\n",
              "          dataTable['output_type'] = 'display_data';\n",
              "          await google.colab.output.renderOutput(dataTable, element);\n",
              "          const docLink = document.createElement('div');\n",
              "          docLink.innerHTML = docLinkHtml;\n",
              "          element.appendChild(docLink);\n",
              "        }\n",
              "      </script>\n",
              "    </div>\n",
              "  </div>\n"
            ]
          },
          "metadata": {},
          "execution_count": 14
        }
      ]
    },
    {
      "cell_type": "markdown",
      "source": [
        "q10: Filter the rows of iris data that has petallength (3rd column) > 1.5 and sepallength (1st column) < 5.0"
      ],
      "metadata": {
        "id": "CDDBt9wh4t_d"
      }
    },
    {
      "cell_type": "code",
      "source": [
        "df3 = df[(df[\"SepalLengthCm\"] < 5.0) & (df['PetalLengthCm'] > 1.5) ]\n",
        "df3"
      ],
      "metadata": {
        "id": "k5XoRbrU49IQ",
        "colab": {
          "base_uri": "https://localhost:8080/",
          "height": 237
        },
        "outputId": "712d7003-525a-4c3d-8baa-33be7054d102"
      },
      "execution_count": 27,
      "outputs": [
        {
          "output_type": "execute_result",
          "data": {
            "text/plain": [
              "      Id  SepalLengthCm  SepalWidthCm  PetalLengthCm  PetalWidthCm  \\\n",
              "11    12            4.8           3.4            1.6           0.2   \n",
              "24    25            4.8           3.4            1.9           0.2   \n",
              "29    30            4.7           3.2            1.6           0.2   \n",
              "30    31            4.8           3.1            1.6           0.2   \n",
              "57    58            4.9           2.4            3.3           1.0   \n",
              "106  107            4.9           2.5            4.5           1.7   \n",
              "\n",
              "             Species  \n",
              "11       Iris-setosa  \n",
              "24       Iris-setosa  \n",
              "29       Iris-setosa  \n",
              "30       Iris-setosa  \n",
              "57   Iris-versicolor  \n",
              "106   Iris-virginica  "
            ],
            "text/html": [
              "\n",
              "\n",
              "  <div id=\"df-0563e38e-521e-411e-8400-1f923f8a63df\">\n",
              "    <div class=\"colab-df-container\">\n",
              "      <div>\n",
              "<style scoped>\n",
              "    .dataframe tbody tr th:only-of-type {\n",
              "        vertical-align: middle;\n",
              "    }\n",
              "\n",
              "    .dataframe tbody tr th {\n",
              "        vertical-align: top;\n",
              "    }\n",
              "\n",
              "    .dataframe thead th {\n",
              "        text-align: right;\n",
              "    }\n",
              "</style>\n",
              "<table border=\"1\" class=\"dataframe\">\n",
              "  <thead>\n",
              "    <tr style=\"text-align: right;\">\n",
              "      <th></th>\n",
              "      <th>Id</th>\n",
              "      <th>SepalLengthCm</th>\n",
              "      <th>SepalWidthCm</th>\n",
              "      <th>PetalLengthCm</th>\n",
              "      <th>PetalWidthCm</th>\n",
              "      <th>Species</th>\n",
              "    </tr>\n",
              "  </thead>\n",
              "  <tbody>\n",
              "    <tr>\n",
              "      <th>11</th>\n",
              "      <td>12</td>\n",
              "      <td>4.8</td>\n",
              "      <td>3.4</td>\n",
              "      <td>1.6</td>\n",
              "      <td>0.2</td>\n",
              "      <td>Iris-setosa</td>\n",
              "    </tr>\n",
              "    <tr>\n",
              "      <th>24</th>\n",
              "      <td>25</td>\n",
              "      <td>4.8</td>\n",
              "      <td>3.4</td>\n",
              "      <td>1.9</td>\n",
              "      <td>0.2</td>\n",
              "      <td>Iris-setosa</td>\n",
              "    </tr>\n",
              "    <tr>\n",
              "      <th>29</th>\n",
              "      <td>30</td>\n",
              "      <td>4.7</td>\n",
              "      <td>3.2</td>\n",
              "      <td>1.6</td>\n",
              "      <td>0.2</td>\n",
              "      <td>Iris-setosa</td>\n",
              "    </tr>\n",
              "    <tr>\n",
              "      <th>30</th>\n",
              "      <td>31</td>\n",
              "      <td>4.8</td>\n",
              "      <td>3.1</td>\n",
              "      <td>1.6</td>\n",
              "      <td>0.2</td>\n",
              "      <td>Iris-setosa</td>\n",
              "    </tr>\n",
              "    <tr>\n",
              "      <th>57</th>\n",
              "      <td>58</td>\n",
              "      <td>4.9</td>\n",
              "      <td>2.4</td>\n",
              "      <td>3.3</td>\n",
              "      <td>1.0</td>\n",
              "      <td>Iris-versicolor</td>\n",
              "    </tr>\n",
              "    <tr>\n",
              "      <th>106</th>\n",
              "      <td>107</td>\n",
              "      <td>4.9</td>\n",
              "      <td>2.5</td>\n",
              "      <td>4.5</td>\n",
              "      <td>1.7</td>\n",
              "      <td>Iris-virginica</td>\n",
              "    </tr>\n",
              "  </tbody>\n",
              "</table>\n",
              "</div>\n",
              "      <button class=\"colab-df-convert\" onclick=\"convertToInteractive('df-0563e38e-521e-411e-8400-1f923f8a63df')\"\n",
              "              title=\"Convert this dataframe to an interactive table.\"\n",
              "              style=\"display:none;\">\n",
              "\n",
              "  <svg xmlns=\"http://www.w3.org/2000/svg\" height=\"24px\"viewBox=\"0 0 24 24\"\n",
              "       width=\"24px\">\n",
              "    <path d=\"M0 0h24v24H0V0z\" fill=\"none\"/>\n",
              "    <path d=\"M18.56 5.44l.94 2.06.94-2.06 2.06-.94-2.06-.94-.94-2.06-.94 2.06-2.06.94zm-11 1L8.5 8.5l.94-2.06 2.06-.94-2.06-.94L8.5 2.5l-.94 2.06-2.06.94zm10 10l.94 2.06.94-2.06 2.06-.94-2.06-.94-.94-2.06-.94 2.06-2.06.94z\"/><path d=\"M17.41 7.96l-1.37-1.37c-.4-.4-.92-.59-1.43-.59-.52 0-1.04.2-1.43.59L10.3 9.45l-7.72 7.72c-.78.78-.78 2.05 0 2.83L4 21.41c.39.39.9.59 1.41.59.51 0 1.02-.2 1.41-.59l7.78-7.78 2.81-2.81c.8-.78.8-2.07 0-2.86zM5.41 20L4 18.59l7.72-7.72 1.47 1.35L5.41 20z\"/>\n",
              "  </svg>\n",
              "      </button>\n",
              "\n",
              "\n",
              "\n",
              "    <div id=\"df-f718c73a-41ae-40e0-9e66-ac27358b311f\">\n",
              "      <button class=\"colab-df-quickchart\" onclick=\"quickchart('df-f718c73a-41ae-40e0-9e66-ac27358b311f')\"\n",
              "              title=\"Suggest charts.\"\n",
              "              style=\"display:none;\">\n",
              "\n",
              "<svg xmlns=\"http://www.w3.org/2000/svg\" height=\"24px\"viewBox=\"0 0 24 24\"\n",
              "     width=\"24px\">\n",
              "    <g>\n",
              "        <path d=\"M19 3H5c-1.1 0-2 .9-2 2v14c0 1.1.9 2 2 2h14c1.1 0 2-.9 2-2V5c0-1.1-.9-2-2-2zM9 17H7v-7h2v7zm4 0h-2V7h2v10zm4 0h-2v-4h2v4z\"/>\n",
              "    </g>\n",
              "</svg>\n",
              "      </button>\n",
              "    </div>\n",
              "\n",
              "<style>\n",
              "  .colab-df-quickchart {\n",
              "    background-color: #E8F0FE;\n",
              "    border: none;\n",
              "    border-radius: 50%;\n",
              "    cursor: pointer;\n",
              "    display: none;\n",
              "    fill: #1967D2;\n",
              "    height: 32px;\n",
              "    padding: 0 0 0 0;\n",
              "    width: 32px;\n",
              "  }\n",
              "\n",
              "  .colab-df-quickchart:hover {\n",
              "    background-color: #E2EBFA;\n",
              "    box-shadow: 0px 1px 2px rgba(60, 64, 67, 0.3), 0px 1px 3px 1px rgba(60, 64, 67, 0.15);\n",
              "    fill: #174EA6;\n",
              "  }\n",
              "\n",
              "  [theme=dark] .colab-df-quickchart {\n",
              "    background-color: #3B4455;\n",
              "    fill: #D2E3FC;\n",
              "  }\n",
              "\n",
              "  [theme=dark] .colab-df-quickchart:hover {\n",
              "    background-color: #434B5C;\n",
              "    box-shadow: 0px 1px 3px 1px rgba(0, 0, 0, 0.15);\n",
              "    filter: drop-shadow(0px 1px 2px rgba(0, 0, 0, 0.3));\n",
              "    fill: #FFFFFF;\n",
              "  }\n",
              "</style>\n",
              "\n",
              "    <script>\n",
              "      async function quickchart(key) {\n",
              "        const containerElement = document.querySelector('#' + key);\n",
              "        const charts = await google.colab.kernel.invokeFunction(\n",
              "            'suggestCharts', [key], {});\n",
              "      }\n",
              "    </script>\n",
              "\n",
              "      <script>\n",
              "\n",
              "function displayQuickchartButton(domScope) {\n",
              "  let quickchartButtonEl =\n",
              "    domScope.querySelector('#df-f718c73a-41ae-40e0-9e66-ac27358b311f button.colab-df-quickchart');\n",
              "  quickchartButtonEl.style.display =\n",
              "    google.colab.kernel.accessAllowed ? 'block' : 'none';\n",
              "}\n",
              "\n",
              "        displayQuickchartButton(document);\n",
              "      </script>\n",
              "      <style>\n",
              "    .colab-df-container {\n",
              "      display:flex;\n",
              "      flex-wrap:wrap;\n",
              "      gap: 12px;\n",
              "    }\n",
              "\n",
              "    .colab-df-convert {\n",
              "      background-color: #E8F0FE;\n",
              "      border: none;\n",
              "      border-radius: 50%;\n",
              "      cursor: pointer;\n",
              "      display: none;\n",
              "      fill: #1967D2;\n",
              "      height: 32px;\n",
              "      padding: 0 0 0 0;\n",
              "      width: 32px;\n",
              "    }\n",
              "\n",
              "    .colab-df-convert:hover {\n",
              "      background-color: #E2EBFA;\n",
              "      box-shadow: 0px 1px 2px rgba(60, 64, 67, 0.3), 0px 1px 3px 1px rgba(60, 64, 67, 0.15);\n",
              "      fill: #174EA6;\n",
              "    }\n",
              "\n",
              "    [theme=dark] .colab-df-convert {\n",
              "      background-color: #3B4455;\n",
              "      fill: #D2E3FC;\n",
              "    }\n",
              "\n",
              "    [theme=dark] .colab-df-convert:hover {\n",
              "      background-color: #434B5C;\n",
              "      box-shadow: 0px 1px 3px 1px rgba(0, 0, 0, 0.15);\n",
              "      filter: drop-shadow(0px 1px 2px rgba(0, 0, 0, 0.3));\n",
              "      fill: #FFFFFF;\n",
              "    }\n",
              "  </style>\n",
              "\n",
              "      <script>\n",
              "        const buttonEl =\n",
              "          document.querySelector('#df-0563e38e-521e-411e-8400-1f923f8a63df button.colab-df-convert');\n",
              "        buttonEl.style.display =\n",
              "          google.colab.kernel.accessAllowed ? 'block' : 'none';\n",
              "\n",
              "        async function convertToInteractive(key) {\n",
              "          const element = document.querySelector('#df-0563e38e-521e-411e-8400-1f923f8a63df');\n",
              "          const dataTable =\n",
              "            await google.colab.kernel.invokeFunction('convertToInteractive',\n",
              "                                                     [key], {});\n",
              "          if (!dataTable) return;\n",
              "\n",
              "          const docLinkHtml = 'Like what you see? Visit the ' +\n",
              "            '<a target=\"_blank\" href=https://colab.research.google.com/notebooks/data_table.ipynb>data table notebook</a>'\n",
              "            + ' to learn more about interactive tables.';\n",
              "          element.innerHTML = '';\n",
              "          dataTable['output_type'] = 'display_data';\n",
              "          await google.colab.output.renderOutput(dataTable, element);\n",
              "          const docLink = document.createElement('div');\n",
              "          docLink.innerHTML = docLinkHtml;\n",
              "          element.appendChild(docLink);\n",
              "        }\n",
              "      </script>\n",
              "    </div>\n",
              "  </div>\n"
            ]
          },
          "metadata": {},
          "execution_count": 27
        }
      ]
    },
    {
      "cell_type": "markdown",
      "source": [
        "q12: Bin the petal length (3rd) column of iris data to form a text array, such that if petal length is:\n",
        "\n",
        "Less than 3 --> 'small'\n",
        "\n",
        "3-5 --> 'medium'\n",
        "\n",
        "->5 --> 'large'\n"
      ],
      "metadata": {
        "id": "Fp-X4IXV49gV"
      }
    },
    {
      "cell_type": "code",
      "source": [
        "#solution\n",
        "l2 = []\n",
        "\n",
        "for i in df[\"PetalLengthCm\"]:\n",
        "  if(i < 3):\n",
        "    l2.append(\"small\")\n",
        "  elif(i < 3.5):\n",
        "    l2.append(\"medium\")\n",
        "  else:\n",
        "    l2.append(\"large\")\n",
        "\n",
        "print(\"adding a new column to add text array for small/medium/large values.\")\n",
        "df.assign(PetalLength = l2)"
      ],
      "metadata": {
        "id": "yTztkOFC5Jn_",
        "colab": {
          "base_uri": "https://localhost:8080/",
          "height": 441
        },
        "outputId": "10c255d7-4d09-4e19-c486-0a7c486f7099"
      },
      "execution_count": 20,
      "outputs": [
        {
          "output_type": "stream",
          "name": "stdout",
          "text": [
            "adding a new column to add text array for small/medium/large values.\n"
          ]
        },
        {
          "output_type": "execute_result",
          "data": {
            "text/plain": [
              "      Id  SepalLengthCm  SepalWidthCm  PetalLengthCm  PetalWidthCm  \\\n",
              "0      1            5.1           3.5            1.4           0.2   \n",
              "1      2            4.9           3.0            1.4           0.2   \n",
              "2      3            4.7           3.2            1.3           0.2   \n",
              "3      4            4.6           3.1            1.5           0.2   \n",
              "4      5            5.0           3.6            1.4           0.2   \n",
              "..   ...            ...           ...            ...           ...   \n",
              "145  146            6.7           3.0            5.2           2.3   \n",
              "146  147            6.3           2.5            5.0           1.9   \n",
              "147  148            6.5           3.0            5.2           2.0   \n",
              "148  149            6.2           3.4            5.4           2.3   \n",
              "149  150            5.9           3.0            5.1           1.8   \n",
              "\n",
              "            Species PetalLength  \n",
              "0       Iris-setosa       small  \n",
              "1       Iris-setosa       small  \n",
              "2       Iris-setosa       small  \n",
              "3       Iris-setosa       small  \n",
              "4       Iris-setosa       small  \n",
              "..              ...         ...  \n",
              "145  Iris-virginica       large  \n",
              "146  Iris-virginica       large  \n",
              "147  Iris-virginica       large  \n",
              "148  Iris-virginica       large  \n",
              "149  Iris-virginica       large  \n",
              "\n",
              "[150 rows x 7 columns]"
            ],
            "text/html": [
              "\n",
              "\n",
              "  <div id=\"df-72cfb71c-28ce-46eb-88ea-a4e86b9d6c74\">\n",
              "    <div class=\"colab-df-container\">\n",
              "      <div>\n",
              "<style scoped>\n",
              "    .dataframe tbody tr th:only-of-type {\n",
              "        vertical-align: middle;\n",
              "    }\n",
              "\n",
              "    .dataframe tbody tr th {\n",
              "        vertical-align: top;\n",
              "    }\n",
              "\n",
              "    .dataframe thead th {\n",
              "        text-align: right;\n",
              "    }\n",
              "</style>\n",
              "<table border=\"1\" class=\"dataframe\">\n",
              "  <thead>\n",
              "    <tr style=\"text-align: right;\">\n",
              "      <th></th>\n",
              "      <th>Id</th>\n",
              "      <th>SepalLengthCm</th>\n",
              "      <th>SepalWidthCm</th>\n",
              "      <th>PetalLengthCm</th>\n",
              "      <th>PetalWidthCm</th>\n",
              "      <th>Species</th>\n",
              "      <th>PetalLength</th>\n",
              "    </tr>\n",
              "  </thead>\n",
              "  <tbody>\n",
              "    <tr>\n",
              "      <th>0</th>\n",
              "      <td>1</td>\n",
              "      <td>5.1</td>\n",
              "      <td>3.5</td>\n",
              "      <td>1.4</td>\n",
              "      <td>0.2</td>\n",
              "      <td>Iris-setosa</td>\n",
              "      <td>small</td>\n",
              "    </tr>\n",
              "    <tr>\n",
              "      <th>1</th>\n",
              "      <td>2</td>\n",
              "      <td>4.9</td>\n",
              "      <td>3.0</td>\n",
              "      <td>1.4</td>\n",
              "      <td>0.2</td>\n",
              "      <td>Iris-setosa</td>\n",
              "      <td>small</td>\n",
              "    </tr>\n",
              "    <tr>\n",
              "      <th>2</th>\n",
              "      <td>3</td>\n",
              "      <td>4.7</td>\n",
              "      <td>3.2</td>\n",
              "      <td>1.3</td>\n",
              "      <td>0.2</td>\n",
              "      <td>Iris-setosa</td>\n",
              "      <td>small</td>\n",
              "    </tr>\n",
              "    <tr>\n",
              "      <th>3</th>\n",
              "      <td>4</td>\n",
              "      <td>4.6</td>\n",
              "      <td>3.1</td>\n",
              "      <td>1.5</td>\n",
              "      <td>0.2</td>\n",
              "      <td>Iris-setosa</td>\n",
              "      <td>small</td>\n",
              "    </tr>\n",
              "    <tr>\n",
              "      <th>4</th>\n",
              "      <td>5</td>\n",
              "      <td>5.0</td>\n",
              "      <td>3.6</td>\n",
              "      <td>1.4</td>\n",
              "      <td>0.2</td>\n",
              "      <td>Iris-setosa</td>\n",
              "      <td>small</td>\n",
              "    </tr>\n",
              "    <tr>\n",
              "      <th>...</th>\n",
              "      <td>...</td>\n",
              "      <td>...</td>\n",
              "      <td>...</td>\n",
              "      <td>...</td>\n",
              "      <td>...</td>\n",
              "      <td>...</td>\n",
              "      <td>...</td>\n",
              "    </tr>\n",
              "    <tr>\n",
              "      <th>145</th>\n",
              "      <td>146</td>\n",
              "      <td>6.7</td>\n",
              "      <td>3.0</td>\n",
              "      <td>5.2</td>\n",
              "      <td>2.3</td>\n",
              "      <td>Iris-virginica</td>\n",
              "      <td>large</td>\n",
              "    </tr>\n",
              "    <tr>\n",
              "      <th>146</th>\n",
              "      <td>147</td>\n",
              "      <td>6.3</td>\n",
              "      <td>2.5</td>\n",
              "      <td>5.0</td>\n",
              "      <td>1.9</td>\n",
              "      <td>Iris-virginica</td>\n",
              "      <td>large</td>\n",
              "    </tr>\n",
              "    <tr>\n",
              "      <th>147</th>\n",
              "      <td>148</td>\n",
              "      <td>6.5</td>\n",
              "      <td>3.0</td>\n",
              "      <td>5.2</td>\n",
              "      <td>2.0</td>\n",
              "      <td>Iris-virginica</td>\n",
              "      <td>large</td>\n",
              "    </tr>\n",
              "    <tr>\n",
              "      <th>148</th>\n",
              "      <td>149</td>\n",
              "      <td>6.2</td>\n",
              "      <td>3.4</td>\n",
              "      <td>5.4</td>\n",
              "      <td>2.3</td>\n",
              "      <td>Iris-virginica</td>\n",
              "      <td>large</td>\n",
              "    </tr>\n",
              "    <tr>\n",
              "      <th>149</th>\n",
              "      <td>150</td>\n",
              "      <td>5.9</td>\n",
              "      <td>3.0</td>\n",
              "      <td>5.1</td>\n",
              "      <td>1.8</td>\n",
              "      <td>Iris-virginica</td>\n",
              "      <td>large</td>\n",
              "    </tr>\n",
              "  </tbody>\n",
              "</table>\n",
              "<p>150 rows × 7 columns</p>\n",
              "</div>\n",
              "      <button class=\"colab-df-convert\" onclick=\"convertToInteractive('df-72cfb71c-28ce-46eb-88ea-a4e86b9d6c74')\"\n",
              "              title=\"Convert this dataframe to an interactive table.\"\n",
              "              style=\"display:none;\">\n",
              "\n",
              "  <svg xmlns=\"http://www.w3.org/2000/svg\" height=\"24px\"viewBox=\"0 0 24 24\"\n",
              "       width=\"24px\">\n",
              "    <path d=\"M0 0h24v24H0V0z\" fill=\"none\"/>\n",
              "    <path d=\"M18.56 5.44l.94 2.06.94-2.06 2.06-.94-2.06-.94-.94-2.06-.94 2.06-2.06.94zm-11 1L8.5 8.5l.94-2.06 2.06-.94-2.06-.94L8.5 2.5l-.94 2.06-2.06.94zm10 10l.94 2.06.94-2.06 2.06-.94-2.06-.94-.94-2.06-.94 2.06-2.06.94z\"/><path d=\"M17.41 7.96l-1.37-1.37c-.4-.4-.92-.59-1.43-.59-.52 0-1.04.2-1.43.59L10.3 9.45l-7.72 7.72c-.78.78-.78 2.05 0 2.83L4 21.41c.39.39.9.59 1.41.59.51 0 1.02-.2 1.41-.59l7.78-7.78 2.81-2.81c.8-.78.8-2.07 0-2.86zM5.41 20L4 18.59l7.72-7.72 1.47 1.35L5.41 20z\"/>\n",
              "  </svg>\n",
              "      </button>\n",
              "\n",
              "\n",
              "\n",
              "    <div id=\"df-9f0d09f8-d597-4bd7-98de-b12a5446133e\">\n",
              "      <button class=\"colab-df-quickchart\" onclick=\"quickchart('df-9f0d09f8-d597-4bd7-98de-b12a5446133e')\"\n",
              "              title=\"Suggest charts.\"\n",
              "              style=\"display:none;\">\n",
              "\n",
              "<svg xmlns=\"http://www.w3.org/2000/svg\" height=\"24px\"viewBox=\"0 0 24 24\"\n",
              "     width=\"24px\">\n",
              "    <g>\n",
              "        <path d=\"M19 3H5c-1.1 0-2 .9-2 2v14c0 1.1.9 2 2 2h14c1.1 0 2-.9 2-2V5c0-1.1-.9-2-2-2zM9 17H7v-7h2v7zm4 0h-2V7h2v10zm4 0h-2v-4h2v4z\"/>\n",
              "    </g>\n",
              "</svg>\n",
              "      </button>\n",
              "    </div>\n",
              "\n",
              "<style>\n",
              "  .colab-df-quickchart {\n",
              "    background-color: #E8F0FE;\n",
              "    border: none;\n",
              "    border-radius: 50%;\n",
              "    cursor: pointer;\n",
              "    display: none;\n",
              "    fill: #1967D2;\n",
              "    height: 32px;\n",
              "    padding: 0 0 0 0;\n",
              "    width: 32px;\n",
              "  }\n",
              "\n",
              "  .colab-df-quickchart:hover {\n",
              "    background-color: #E2EBFA;\n",
              "    box-shadow: 0px 1px 2px rgba(60, 64, 67, 0.3), 0px 1px 3px 1px rgba(60, 64, 67, 0.15);\n",
              "    fill: #174EA6;\n",
              "  }\n",
              "\n",
              "  [theme=dark] .colab-df-quickchart {\n",
              "    background-color: #3B4455;\n",
              "    fill: #D2E3FC;\n",
              "  }\n",
              "\n",
              "  [theme=dark] .colab-df-quickchart:hover {\n",
              "    background-color: #434B5C;\n",
              "    box-shadow: 0px 1px 3px 1px rgba(0, 0, 0, 0.15);\n",
              "    filter: drop-shadow(0px 1px 2px rgba(0, 0, 0, 0.3));\n",
              "    fill: #FFFFFF;\n",
              "  }\n",
              "</style>\n",
              "\n",
              "    <script>\n",
              "      async function quickchart(key) {\n",
              "        const containerElement = document.querySelector('#' + key);\n",
              "        const charts = await google.colab.kernel.invokeFunction(\n",
              "            'suggestCharts', [key], {});\n",
              "      }\n",
              "    </script>\n",
              "\n",
              "      <script>\n",
              "\n",
              "function displayQuickchartButton(domScope) {\n",
              "  let quickchartButtonEl =\n",
              "    domScope.querySelector('#df-9f0d09f8-d597-4bd7-98de-b12a5446133e button.colab-df-quickchart');\n",
              "  quickchartButtonEl.style.display =\n",
              "    google.colab.kernel.accessAllowed ? 'block' : 'none';\n",
              "}\n",
              "\n",
              "        displayQuickchartButton(document);\n",
              "      </script>\n",
              "      <style>\n",
              "    .colab-df-container {\n",
              "      display:flex;\n",
              "      flex-wrap:wrap;\n",
              "      gap: 12px;\n",
              "    }\n",
              "\n",
              "    .colab-df-convert {\n",
              "      background-color: #E8F0FE;\n",
              "      border: none;\n",
              "      border-radius: 50%;\n",
              "      cursor: pointer;\n",
              "      display: none;\n",
              "      fill: #1967D2;\n",
              "      height: 32px;\n",
              "      padding: 0 0 0 0;\n",
              "      width: 32px;\n",
              "    }\n",
              "\n",
              "    .colab-df-convert:hover {\n",
              "      background-color: #E2EBFA;\n",
              "      box-shadow: 0px 1px 2px rgba(60, 64, 67, 0.3), 0px 1px 3px 1px rgba(60, 64, 67, 0.15);\n",
              "      fill: #174EA6;\n",
              "    }\n",
              "\n",
              "    [theme=dark] .colab-df-convert {\n",
              "      background-color: #3B4455;\n",
              "      fill: #D2E3FC;\n",
              "    }\n",
              "\n",
              "    [theme=dark] .colab-df-convert:hover {\n",
              "      background-color: #434B5C;\n",
              "      box-shadow: 0px 1px 3px 1px rgba(0, 0, 0, 0.15);\n",
              "      filter: drop-shadow(0px 1px 2px rgba(0, 0, 0, 0.3));\n",
              "      fill: #FFFFFF;\n",
              "    }\n",
              "  </style>\n",
              "\n",
              "      <script>\n",
              "        const buttonEl =\n",
              "          document.querySelector('#df-72cfb71c-28ce-46eb-88ea-a4e86b9d6c74 button.colab-df-convert');\n",
              "        buttonEl.style.display =\n",
              "          google.colab.kernel.accessAllowed ? 'block' : 'none';\n",
              "\n",
              "        async function convertToInteractive(key) {\n",
              "          const element = document.querySelector('#df-72cfb71c-28ce-46eb-88ea-a4e86b9d6c74');\n",
              "          const dataTable =\n",
              "            await google.colab.kernel.invokeFunction('convertToInteractive',\n",
              "                                                     [key], {});\n",
              "          if (!dataTable) return;\n",
              "\n",
              "          const docLinkHtml = 'Like what you see? Visit the ' +\n",
              "            '<a target=\"_blank\" href=https://colab.research.google.com/notebooks/data_table.ipynb>data table notebook</a>'\n",
              "            + ' to learn more about interactive tables.';\n",
              "          element.innerHTML = '';\n",
              "          dataTable['output_type'] = 'display_data';\n",
              "          await google.colab.output.renderOutput(dataTable, element);\n",
              "          const docLink = document.createElement('div');\n",
              "          docLink.innerHTML = docLinkHtml;\n",
              "          element.appendChild(docLink);\n",
              "        }\n",
              "      </script>\n",
              "    </div>\n",
              "  </div>\n"
            ]
          },
          "metadata": {},
          "execution_count": 20
        }
      ]
    },
    {
      "cell_type": "markdown",
      "source": [
        "q13: Sort the iris dataset based on sepallength column."
      ],
      "metadata": {
        "id": "4bb-PABO5J8H"
      }
    },
    {
      "cell_type": "code",
      "source": [
        "#solution\n",
        "df2 = df.sort_values(\"SepalLengthCm\")\n",
        "df2"
      ],
      "metadata": {
        "id": "Lzt7uNW55SRA",
        "colab": {
          "base_uri": "https://localhost:8080/",
          "height": 424
        },
        "outputId": "7f38cf4c-f72d-4a75-d1c0-212a919628f0"
      },
      "execution_count": 24,
      "outputs": [
        {
          "output_type": "execute_result",
          "data": {
            "text/plain": [
              "      Id  SepalLengthCm  SepalWidthCm  PetalLengthCm  PetalWidthCm  \\\n",
              "13    14            4.3           3.0            1.1           0.1   \n",
              "42    43            4.4           3.2            1.3           0.2   \n",
              "38    39            4.4           3.0            1.3           0.2   \n",
              "8      9            4.4           2.9            1.4           0.2   \n",
              "41    42            4.5           2.3            1.3           0.3   \n",
              "..   ...            ...           ...            ...           ...   \n",
              "122  123            7.7           2.8            6.7           2.0   \n",
              "118  119            7.7           2.6            6.9           2.3   \n",
              "117  118            7.7           3.8            6.7           2.2   \n",
              "135  136            7.7           3.0            6.1           2.3   \n",
              "131  132            7.9           3.8            6.4           2.0   \n",
              "\n",
              "            Species  \n",
              "13      Iris-setosa  \n",
              "42      Iris-setosa  \n",
              "38      Iris-setosa  \n",
              "8       Iris-setosa  \n",
              "41      Iris-setosa  \n",
              "..              ...  \n",
              "122  Iris-virginica  \n",
              "118  Iris-virginica  \n",
              "117  Iris-virginica  \n",
              "135  Iris-virginica  \n",
              "131  Iris-virginica  \n",
              "\n",
              "[150 rows x 6 columns]"
            ],
            "text/html": [
              "\n",
              "\n",
              "  <div id=\"df-2b124147-d503-49ac-b394-5dcff9af7740\">\n",
              "    <div class=\"colab-df-container\">\n",
              "      <div>\n",
              "<style scoped>\n",
              "    .dataframe tbody tr th:only-of-type {\n",
              "        vertical-align: middle;\n",
              "    }\n",
              "\n",
              "    .dataframe tbody tr th {\n",
              "        vertical-align: top;\n",
              "    }\n",
              "\n",
              "    .dataframe thead th {\n",
              "        text-align: right;\n",
              "    }\n",
              "</style>\n",
              "<table border=\"1\" class=\"dataframe\">\n",
              "  <thead>\n",
              "    <tr style=\"text-align: right;\">\n",
              "      <th></th>\n",
              "      <th>Id</th>\n",
              "      <th>SepalLengthCm</th>\n",
              "      <th>SepalWidthCm</th>\n",
              "      <th>PetalLengthCm</th>\n",
              "      <th>PetalWidthCm</th>\n",
              "      <th>Species</th>\n",
              "    </tr>\n",
              "  </thead>\n",
              "  <tbody>\n",
              "    <tr>\n",
              "      <th>13</th>\n",
              "      <td>14</td>\n",
              "      <td>4.3</td>\n",
              "      <td>3.0</td>\n",
              "      <td>1.1</td>\n",
              "      <td>0.1</td>\n",
              "      <td>Iris-setosa</td>\n",
              "    </tr>\n",
              "    <tr>\n",
              "      <th>42</th>\n",
              "      <td>43</td>\n",
              "      <td>4.4</td>\n",
              "      <td>3.2</td>\n",
              "      <td>1.3</td>\n",
              "      <td>0.2</td>\n",
              "      <td>Iris-setosa</td>\n",
              "    </tr>\n",
              "    <tr>\n",
              "      <th>38</th>\n",
              "      <td>39</td>\n",
              "      <td>4.4</td>\n",
              "      <td>3.0</td>\n",
              "      <td>1.3</td>\n",
              "      <td>0.2</td>\n",
              "      <td>Iris-setosa</td>\n",
              "    </tr>\n",
              "    <tr>\n",
              "      <th>8</th>\n",
              "      <td>9</td>\n",
              "      <td>4.4</td>\n",
              "      <td>2.9</td>\n",
              "      <td>1.4</td>\n",
              "      <td>0.2</td>\n",
              "      <td>Iris-setosa</td>\n",
              "    </tr>\n",
              "    <tr>\n",
              "      <th>41</th>\n",
              "      <td>42</td>\n",
              "      <td>4.5</td>\n",
              "      <td>2.3</td>\n",
              "      <td>1.3</td>\n",
              "      <td>0.3</td>\n",
              "      <td>Iris-setosa</td>\n",
              "    </tr>\n",
              "    <tr>\n",
              "      <th>...</th>\n",
              "      <td>...</td>\n",
              "      <td>...</td>\n",
              "      <td>...</td>\n",
              "      <td>...</td>\n",
              "      <td>...</td>\n",
              "      <td>...</td>\n",
              "    </tr>\n",
              "    <tr>\n",
              "      <th>122</th>\n",
              "      <td>123</td>\n",
              "      <td>7.7</td>\n",
              "      <td>2.8</td>\n",
              "      <td>6.7</td>\n",
              "      <td>2.0</td>\n",
              "      <td>Iris-virginica</td>\n",
              "    </tr>\n",
              "    <tr>\n",
              "      <th>118</th>\n",
              "      <td>119</td>\n",
              "      <td>7.7</td>\n",
              "      <td>2.6</td>\n",
              "      <td>6.9</td>\n",
              "      <td>2.3</td>\n",
              "      <td>Iris-virginica</td>\n",
              "    </tr>\n",
              "    <tr>\n",
              "      <th>117</th>\n",
              "      <td>118</td>\n",
              "      <td>7.7</td>\n",
              "      <td>3.8</td>\n",
              "      <td>6.7</td>\n",
              "      <td>2.2</td>\n",
              "      <td>Iris-virginica</td>\n",
              "    </tr>\n",
              "    <tr>\n",
              "      <th>135</th>\n",
              "      <td>136</td>\n",
              "      <td>7.7</td>\n",
              "      <td>3.0</td>\n",
              "      <td>6.1</td>\n",
              "      <td>2.3</td>\n",
              "      <td>Iris-virginica</td>\n",
              "    </tr>\n",
              "    <tr>\n",
              "      <th>131</th>\n",
              "      <td>132</td>\n",
              "      <td>7.9</td>\n",
              "      <td>3.8</td>\n",
              "      <td>6.4</td>\n",
              "      <td>2.0</td>\n",
              "      <td>Iris-virginica</td>\n",
              "    </tr>\n",
              "  </tbody>\n",
              "</table>\n",
              "<p>150 rows × 6 columns</p>\n",
              "</div>\n",
              "      <button class=\"colab-df-convert\" onclick=\"convertToInteractive('df-2b124147-d503-49ac-b394-5dcff9af7740')\"\n",
              "              title=\"Convert this dataframe to an interactive table.\"\n",
              "              style=\"display:none;\">\n",
              "\n",
              "  <svg xmlns=\"http://www.w3.org/2000/svg\" height=\"24px\"viewBox=\"0 0 24 24\"\n",
              "       width=\"24px\">\n",
              "    <path d=\"M0 0h24v24H0V0z\" fill=\"none\"/>\n",
              "    <path d=\"M18.56 5.44l.94 2.06.94-2.06 2.06-.94-2.06-.94-.94-2.06-.94 2.06-2.06.94zm-11 1L8.5 8.5l.94-2.06 2.06-.94-2.06-.94L8.5 2.5l-.94 2.06-2.06.94zm10 10l.94 2.06.94-2.06 2.06-.94-2.06-.94-.94-2.06-.94 2.06-2.06.94z\"/><path d=\"M17.41 7.96l-1.37-1.37c-.4-.4-.92-.59-1.43-.59-.52 0-1.04.2-1.43.59L10.3 9.45l-7.72 7.72c-.78.78-.78 2.05 0 2.83L4 21.41c.39.39.9.59 1.41.59.51 0 1.02-.2 1.41-.59l7.78-7.78 2.81-2.81c.8-.78.8-2.07 0-2.86zM5.41 20L4 18.59l7.72-7.72 1.47 1.35L5.41 20z\"/>\n",
              "  </svg>\n",
              "      </button>\n",
              "\n",
              "\n",
              "\n",
              "    <div id=\"df-1ef3c815-e5bc-4fb3-ae67-2acff1728826\">\n",
              "      <button class=\"colab-df-quickchart\" onclick=\"quickchart('df-1ef3c815-e5bc-4fb3-ae67-2acff1728826')\"\n",
              "              title=\"Suggest charts.\"\n",
              "              style=\"display:none;\">\n",
              "\n",
              "<svg xmlns=\"http://www.w3.org/2000/svg\" height=\"24px\"viewBox=\"0 0 24 24\"\n",
              "     width=\"24px\">\n",
              "    <g>\n",
              "        <path d=\"M19 3H5c-1.1 0-2 .9-2 2v14c0 1.1.9 2 2 2h14c1.1 0 2-.9 2-2V5c0-1.1-.9-2-2-2zM9 17H7v-7h2v7zm4 0h-2V7h2v10zm4 0h-2v-4h2v4z\"/>\n",
              "    </g>\n",
              "</svg>\n",
              "      </button>\n",
              "    </div>\n",
              "\n",
              "<style>\n",
              "  .colab-df-quickchart {\n",
              "    background-color: #E8F0FE;\n",
              "    border: none;\n",
              "    border-radius: 50%;\n",
              "    cursor: pointer;\n",
              "    display: none;\n",
              "    fill: #1967D2;\n",
              "    height: 32px;\n",
              "    padding: 0 0 0 0;\n",
              "    width: 32px;\n",
              "  }\n",
              "\n",
              "  .colab-df-quickchart:hover {\n",
              "    background-color: #E2EBFA;\n",
              "    box-shadow: 0px 1px 2px rgba(60, 64, 67, 0.3), 0px 1px 3px 1px rgba(60, 64, 67, 0.15);\n",
              "    fill: #174EA6;\n",
              "  }\n",
              "\n",
              "  [theme=dark] .colab-df-quickchart {\n",
              "    background-color: #3B4455;\n",
              "    fill: #D2E3FC;\n",
              "  }\n",
              "\n",
              "  [theme=dark] .colab-df-quickchart:hover {\n",
              "    background-color: #434B5C;\n",
              "    box-shadow: 0px 1px 3px 1px rgba(0, 0, 0, 0.15);\n",
              "    filter: drop-shadow(0px 1px 2px rgba(0, 0, 0, 0.3));\n",
              "    fill: #FFFFFF;\n",
              "  }\n",
              "</style>\n",
              "\n",
              "    <script>\n",
              "      async function quickchart(key) {\n",
              "        const containerElement = document.querySelector('#' + key);\n",
              "        const charts = await google.colab.kernel.invokeFunction(\n",
              "            'suggestCharts', [key], {});\n",
              "      }\n",
              "    </script>\n",
              "\n",
              "      <script>\n",
              "\n",
              "function displayQuickchartButton(domScope) {\n",
              "  let quickchartButtonEl =\n",
              "    domScope.querySelector('#df-1ef3c815-e5bc-4fb3-ae67-2acff1728826 button.colab-df-quickchart');\n",
              "  quickchartButtonEl.style.display =\n",
              "    google.colab.kernel.accessAllowed ? 'block' : 'none';\n",
              "}\n",
              "\n",
              "        displayQuickchartButton(document);\n",
              "      </script>\n",
              "      <style>\n",
              "    .colab-df-container {\n",
              "      display:flex;\n",
              "      flex-wrap:wrap;\n",
              "      gap: 12px;\n",
              "    }\n",
              "\n",
              "    .colab-df-convert {\n",
              "      background-color: #E8F0FE;\n",
              "      border: none;\n",
              "      border-radius: 50%;\n",
              "      cursor: pointer;\n",
              "      display: none;\n",
              "      fill: #1967D2;\n",
              "      height: 32px;\n",
              "      padding: 0 0 0 0;\n",
              "      width: 32px;\n",
              "    }\n",
              "\n",
              "    .colab-df-convert:hover {\n",
              "      background-color: #E2EBFA;\n",
              "      box-shadow: 0px 1px 2px rgba(60, 64, 67, 0.3), 0px 1px 3px 1px rgba(60, 64, 67, 0.15);\n",
              "      fill: #174EA6;\n",
              "    }\n",
              "\n",
              "    [theme=dark] .colab-df-convert {\n",
              "      background-color: #3B4455;\n",
              "      fill: #D2E3FC;\n",
              "    }\n",
              "\n",
              "    [theme=dark] .colab-df-convert:hover {\n",
              "      background-color: #434B5C;\n",
              "      box-shadow: 0px 1px 3px 1px rgba(0, 0, 0, 0.15);\n",
              "      filter: drop-shadow(0px 1px 2px rgba(0, 0, 0, 0.3));\n",
              "      fill: #FFFFFF;\n",
              "    }\n",
              "  </style>\n",
              "\n",
              "      <script>\n",
              "        const buttonEl =\n",
              "          document.querySelector('#df-2b124147-d503-49ac-b394-5dcff9af7740 button.colab-df-convert');\n",
              "        buttonEl.style.display =\n",
              "          google.colab.kernel.accessAllowed ? 'block' : 'none';\n",
              "\n",
              "        async function convertToInteractive(key) {\n",
              "          const element = document.querySelector('#df-2b124147-d503-49ac-b394-5dcff9af7740');\n",
              "          const dataTable =\n",
              "            await google.colab.kernel.invokeFunction('convertToInteractive',\n",
              "                                                     [key], {});\n",
              "          if (!dataTable) return;\n",
              "\n",
              "          const docLinkHtml = 'Like what you see? Visit the ' +\n",
              "            '<a target=\"_blank\" href=https://colab.research.google.com/notebooks/data_table.ipynb>data table notebook</a>'\n",
              "            + ' to learn more about interactive tables.';\n",
              "          element.innerHTML = '';\n",
              "          dataTable['output_type'] = 'display_data';\n",
              "          await google.colab.output.renderOutput(dataTable, element);\n",
              "          const docLink = document.createElement('div');\n",
              "          docLink.innerHTML = docLinkHtml;\n",
              "          element.appendChild(docLink);\n",
              "        }\n",
              "      </script>\n",
              "    </div>\n",
              "  </div>\n"
            ]
          },
          "metadata": {},
          "execution_count": 24
        }
      ]
    },
    {
      "cell_type": "markdown",
      "source": [
        "q14: Find the most frequent value of petal length (3rd column) in iris dataset."
      ],
      "metadata": {
        "id": "Rm5dTAz35SgT"
      }
    },
    {
      "cell_type": "code",
      "source": [
        "#solution\n",
        "df5 = df[\"PetalLengthCm\"].mode()\n",
        "print(f\"the most frequent value is: {df5}\")"
      ],
      "metadata": {
        "id": "B9NJRmrN5Tmw",
        "colab": {
          "base_uri": "https://localhost:8080/"
        },
        "outputId": "1cb5d3cc-748f-4b96-f7dd-48296da93958"
      },
      "execution_count": 55,
      "outputs": [
        {
          "output_type": "stream",
          "name": "stdout",
          "text": [
            "the most frequent value is: 0    1.5\n",
            "Name: PetalLengthCm, dtype: float64\n"
          ]
        }
      ]
    },
    {
      "cell_type": "markdown",
      "source": [
        "# Practice Problems"
      ],
      "metadata": {
        "id": "_Wv1jHjMogWV"
      }
    },
    {
      "cell_type": "markdown",
      "source": [
        "Ques. import NumPy"
      ],
      "metadata": {
        "id": "w5y5mpKn09RU"
      }
    },
    {
      "cell_type": "code",
      "source": [
        "import numpy as np\n",
        "import sys\n",
        "\n",
        "li_arr = [i for i in range(10)]        #create list of 10 elements\n",
        "np_arr = np.arange(10)                #create numpy array of 10 elements"
      ],
      "metadata": {
        "id": "6k4V4swi1Bdf"
      },
      "execution_count": null,
      "outputs": []
    },
    {
      "cell_type": "code",
      "source": [
        "#size of 10 elements in numpy array\n",
        "print(np_arr.itemsize * np_arr.size)"
      ],
      "metadata": {
        "colab": {
          "base_uri": "https://localhost:8080/"
        },
        "id": "BCT3aFse2jKE",
        "outputId": "b9857253-3bad-48de-e443-ee8293643617"
      },
      "execution_count": null,
      "outputs": [
        {
          "output_type": "stream",
          "name": "stdout",
          "text": [
            "80\n"
          ]
        }
      ]
    },
    {
      "cell_type": "code",
      "source": [
        "#size of 10 elements in python list\n",
        "print(sys.getsizeof(1)*len(li_arr))"
      ],
      "metadata": {
        "colab": {
          "base_uri": "https://localhost:8080/"
        },
        "id": "_qhE0gkT2jFJ",
        "outputId": "a5c6d2d2-6809-4ca1-9c93-74ac31fd0c13"
      },
      "execution_count": null,
      "outputs": [
        {
          "output_type": "stream",
          "name": "stdout",
          "text": [
            "280\n"
          ]
        }
      ]
    },
    {
      "cell_type": "markdown",
      "source": [
        "Ques. make an array using numpy arange"
      ],
      "metadata": {
        "id": "XmUiUfTuohRV"
      }
    },
    {
      "cell_type": "code",
      "source": [
        "#np.arange(0, 10)\n",
        "np.arange(0,10 ,2)"
      ],
      "metadata": {
        "colab": {
          "base_uri": "https://localhost:8080/"
        },
        "id": "x3Fr8On_ompq",
        "outputId": "436c82b8-4336-4f82-ccf5-fa80139759fa"
      },
      "execution_count": null,
      "outputs": [
        {
          "output_type": "execute_result",
          "data": {
            "text/plain": [
              "array([0, 2, 4, 6, 8])"
            ]
          },
          "metadata": {},
          "execution_count": 9
        }
      ]
    },
    {
      "cell_type": "markdown",
      "source": [
        "Ques. Create a zeroes array using numpy zeroes function"
      ],
      "metadata": {
        "id": "qfOgYRlmpqo6"
      }
    },
    {
      "cell_type": "code",
      "source": [
        "import numpy as np\n",
        "arr = np.zeros((2,3))\n",
        "arr"
      ],
      "metadata": {
        "colab": {
          "base_uri": "https://localhost:8080/"
        },
        "id": "f3_sJTaFp3c1",
        "outputId": "5ff95df4-4d26-4193-da25-44d422f4a218"
      },
      "execution_count": null,
      "outputs": [
        {
          "output_type": "execute_result",
          "data": {
            "text/plain": [
              "array([[0., 0., 0.],\n",
              "       [0., 0., 0.]])"
            ]
          },
          "metadata": {},
          "execution_count": 12
        }
      ]
    },
    {
      "cell_type": "markdown",
      "source": [
        "Ques. Print type of NumPy array"
      ],
      "metadata": {
        "id": "8gL-QJGG5CAA"
      }
    },
    {
      "cell_type": "code",
      "source": [
        "l = [1, 2, 3, '5', 4.5]\n",
        "b = np.array(a*3)\n",
        "print(type(b))"
      ],
      "metadata": {
        "colab": {
          "base_uri": "https://localhost:8080/"
        },
        "id": "EKcQTQw65F13",
        "outputId": "1f89e9d2-3276-4924-92c3-4609fdc268db"
      },
      "execution_count": null,
      "outputs": [
        {
          "output_type": "stream",
          "name": "stdout",
          "text": [
            "<class 'numpy.ndarray'>\n"
          ]
        }
      ]
    },
    {
      "cell_type": "markdown",
      "source": [
        "Ques. Create a Numpy array from list"
      ],
      "metadata": {
        "id": "snNMcVS94vk3"
      }
    },
    {
      "cell_type": "code",
      "source": [
        "a = [1, 2, 3, '5', 4.5]\n",
        "b = np.array(a*3)\n",
        "print(b)"
      ],
      "metadata": {
        "colab": {
          "base_uri": "https://localhost:8080/"
        },
        "id": "_QaaWehh4zuZ",
        "outputId": "1ef5a5c1-d159-4361-bc51-a64ace15a10d"
      },
      "execution_count": null,
      "outputs": [
        {
          "output_type": "stream",
          "name": "stdout",
          "text": [
            "['1' '2' '3' '5' '4.5' '1' '2' '3' '5' '4.5' '1' '2' '3' '5' '4.5']\n"
          ]
        }
      ]
    },
    {
      "cell_type": "code",
      "source": [
        "b = np.ones(3, dtype = int)\n",
        "b"
      ],
      "metadata": {
        "colab": {
          "base_uri": "https://localhost:8080/"
        },
        "id": "XzqVbnwz6ISq",
        "outputId": "01e091b5-0ba6-4556-fc3a-a50a52ef0f80"
      },
      "execution_count": null,
      "outputs": [
        {
          "output_type": "execute_result",
          "data": {
            "text/plain": [
              "array([1, 1, 1])"
            ]
          },
          "metadata": {},
          "execution_count": 10
        }
      ]
    },
    {
      "cell_type": "code",
      "source": [
        "b = np.ones((2,3), dtype = int)\n",
        "b"
      ],
      "metadata": {
        "colab": {
          "base_uri": "https://localhost:8080/"
        },
        "id": "_XHBJ36s6QWW",
        "outputId": "e990fb45-0206-43c5-8d25-f88612e9f8bb"
      },
      "execution_count": null,
      "outputs": [
        {
          "output_type": "execute_result",
          "data": {
            "text/plain": [
              "array([[1, 1, 1],\n",
              "       [1, 1, 1]])"
            ]
          },
          "metadata": {},
          "execution_count": 11
        }
      ]
    },
    {
      "cell_type": "markdown",
      "source": [
        "Ques. Use linspace function"
      ],
      "metadata": {
        "id": "xrfU5urEqMUX"
      }
    },
    {
      "cell_type": "code",
      "source": [
        "np.linspace(0, 30 ,5 )"
      ],
      "metadata": {
        "colab": {
          "base_uri": "https://localhost:8080/"
        },
        "id": "A8dLRyz5qP8H",
        "outputId": "8647c85b-33ec-404a-e136-bf3a5f0b7609"
      },
      "execution_count": null,
      "outputs": [
        {
          "output_type": "execute_result",
          "data": {
            "text/plain": [
              "array([ 0. ,  7.5, 15. , 22.5, 30. ])"
            ]
          },
          "metadata": {},
          "execution_count": 13
        }
      ]
    },
    {
      "cell_type": "markdown",
      "source": [
        "Ques. Creating a ndarray using np.full()"
      ],
      "metadata": {
        "id": "HjRMbHP5-RWH"
      }
    },
    {
      "cell_type": "code",
      "source": [
        "b = np.full((3, 3), 5, dtype = float)\n",
        "b"
      ],
      "metadata": {
        "colab": {
          "base_uri": "https://localhost:8080/"
        },
        "id": "GxnTruDQ-XgH",
        "outputId": "d66af6b1-6d40-47dd-f34c-c8b1eaa6d6a2"
      },
      "execution_count": null,
      "outputs": [
        {
          "output_type": "execute_result",
          "data": {
            "text/plain": [
              "array([[5., 5., 5.],\n",
              "       [5., 5., 5.],\n",
              "       [5., 5., 5.]])"
            ]
          },
          "metadata": {},
          "execution_count": 12
        }
      ]
    },
    {
      "cell_type": "markdown",
      "source": [
        "Ques. Show the difference between np.arange() and np.linspace()"
      ],
      "metadata": {
        "id": "e8HvuqaLAifh"
      }
    },
    {
      "cell_type": "code",
      "source": [
        " np.arange(3, 7, 2, dtype=int)"
      ],
      "metadata": {
        "colab": {
          "base_uri": "https://localhost:8080/"
        },
        "id": "faiQgfmYApq4",
        "outputId": "7208c6c8-c257-46bd-aa62-a019a54a8239"
      },
      "execution_count": 47,
      "outputs": [
        {
          "output_type": "execute_result",
          "data": {
            "text/plain": [
              "array([3, 5])"
            ]
          },
          "metadata": {},
          "execution_count": 47
        }
      ]
    },
    {
      "cell_type": "code",
      "source": [
        "np.linspace(2.0, 3.0,  num = 5)"
      ],
      "metadata": {
        "colab": {
          "base_uri": "https://localhost:8080/"
        },
        "id": "ZXbl5xfHCetm",
        "outputId": "16065fc7-3c32-448f-b02b-25d866047cc3"
      },
      "execution_count": 48,
      "outputs": [
        {
          "output_type": "execute_result",
          "data": {
            "text/plain": [
              "array([2.  , 2.25, 2.5 , 2.75, 3.  ])"
            ]
          },
          "metadata": {},
          "execution_count": 48
        }
      ]
    },
    {
      "cell_type": "markdown",
      "source": [
        "Ques. use randint to create a random number"
      ],
      "metadata": {
        "id": "xkPBqg8NDypR"
      }
    },
    {
      "cell_type": "code",
      "source": [
        "import random\n",
        "a = random.randint(0, 10)\n",
        "print(f\"a random number from 0 to 10 is: {a}\")"
      ],
      "metadata": {
        "id": "94H-p4oUD9F1",
        "colab": {
          "base_uri": "https://localhost:8080/"
        },
        "outputId": "b4bc7cdd-606c-4736-e013-0f55e9c92632"
      },
      "execution_count": 38,
      "outputs": [
        {
          "output_type": "stream",
          "name": "stdout",
          "text": [
            "a random number from 0 to 10 is: 8\n"
          ]
        }
      ]
    },
    {
      "cell_type": "markdown",
      "source": [
        "Ques. WAP to replace all even numbers by 2"
      ],
      "metadata": {
        "id": "ebAKdUUTD9dd"
      }
    },
    {
      "cell_type": "code",
      "source": [
        "import numpy as np\n",
        "arr = np.arange(0, 11, 1, dtype = int)\n",
        "\n",
        "for i in range(len(arr)):\n",
        "  if(arr[i] %2 == 0):\n",
        "    arr[i] = 2\n",
        "\n",
        "print(arr)"
      ],
      "metadata": {
        "colab": {
          "base_uri": "https://localhost:8080/"
        },
        "id": "jYvJqBNWEIkP",
        "outputId": "e52c9580-a3a1-48e0-cc89-9e22e07cf008"
      },
      "execution_count": null,
      "outputs": [
        {
          "output_type": "stream",
          "name": "stdout",
          "text": [
            "[2 1 2 3 2 5 2 7 2 9 2]\n"
          ]
        }
      ]
    },
    {
      "cell_type": "markdown",
      "source": [
        "Ques. using brackets for indexing and selection in numpy array"
      ],
      "metadata": {
        "id": "tRBDLyoSiK5G"
      }
    },
    {
      "cell_type": "code",
      "source": [
        "#getting value at position 4 using brackets\n",
        "import numpy as np\n",
        "arr = np.arange(0, 11, 1, dtype = int)\n",
        "arr[4]"
      ],
      "metadata": {
        "colab": {
          "base_uri": "https://localhost:8080/"
        },
        "id": "Ps1Cf3CKiPZf",
        "outputId": "867b3bf5-a1c2-4a12-b8fa-8883e176cbe3"
      },
      "execution_count": null,
      "outputs": [
        {
          "output_type": "execute_result",
          "data": {
            "text/plain": [
              "4"
            ]
          },
          "metadata": {},
          "execution_count": 4
        }
      ]
    },
    {
      "cell_type": "code",
      "source": [
        "#getting values from a range selection\n",
        "arr[:4]"
      ],
      "metadata": {
        "colab": {
          "base_uri": "https://localhost:8080/"
        },
        "id": "Sxa9SaxJipPB",
        "outputId": "09588d75-3251-4035-af69-08e6b9bb2d56"
      },
      "execution_count": null,
      "outputs": [
        {
          "output_type": "execute_result",
          "data": {
            "text/plain": [
              "array([0, 1, 2, 3])"
            ]
          },
          "metadata": {},
          "execution_count": 5
        }
      ]
    },
    {
      "cell_type": "code",
      "source": [
        "#getting values from specific index positions\n",
        "arr[[0, 4, 7]]"
      ],
      "metadata": {
        "colab": {
          "base_uri": "https://localhost:8080/"
        },
        "id": "8xddDjGeixal",
        "outputId": "f3f44a51-11f7-4454-9696-431dd3d4e5b9"
      },
      "execution_count": null,
      "outputs": [
        {
          "output_type": "execute_result",
          "data": {
            "text/plain": [
              "array([0, 4, 7])"
            ]
          },
          "metadata": {},
          "execution_count": 6
        }
      ]
    },
    {
      "cell_type": "markdown",
      "source": [
        "Ques. WAP to find index of arrays where two elements match. eg: take two array as input and match their index values, if same print index."
      ],
      "metadata": {
        "id": "kW2go8gxGU6o"
      }
    },
    {
      "cell_type": "code",
      "source": [
        "import math\n",
        "import numpy as np\n",
        "arr = np.array([])\n",
        "arr2 = np.array([])\n",
        "idx = np.array([])\n",
        "\n",
        "n = int(input(\"enter number of values for first list: \"))\n",
        "\n",
        "for i in range(n):\n",
        "  x = int(input(f\"enter {i}th value: \"))\n",
        "  arr = np.append(arr, x)\n",
        "\n",
        "n1 = int(input(\"enter number of values for first list: \"))\n",
        "\n",
        "for i in range(n1):\n",
        "  x1 = int(input(f\"enter {i}th value: \"))\n",
        "  arr2 = np.append(arr2, x1)\n",
        "\n",
        "for i in range(n):\n",
        "  if(arr[i] == arr2[i]):\n",
        "    idx = np.append(idx, i)\n",
        "\n",
        "print(f\"the common indices are: {idx}\")"
      ],
      "metadata": {
        "colab": {
          "base_uri": "https://localhost:8080/"
        },
        "id": "E8btAdL8Gjxs",
        "outputId": "b044b4f1-f9ba-4293-ad68-1fb69db8f7d7"
      },
      "execution_count": 46,
      "outputs": [
        {
          "output_type": "stream",
          "name": "stdout",
          "text": [
            "enter number of values for first list: 3\n",
            "enter 0th value: 1\n",
            "enter 1th value: 2\n",
            "enter 2th value: 3\n",
            "enter number of values for first list: 3\n",
            "enter 0th value: 2\n",
            "enter 1th value: 2\n",
            "enter 2th value: 3\n",
            "the common indices are: [1. 2.]\n"
          ]
        }
      ]
    },
    {
      "cell_type": "markdown",
      "source": [
        "Ques. Find max, min, argmax, argmin in a numpy array"
      ],
      "metadata": {
        "id": "pi9LWrlhgG0B"
      }
    },
    {
      "cell_type": "code",
      "source": [
        "import numpy as np\n",
        "l = np.array([1, 5, 3, 5, 15, 45, 25, 16])\n",
        "\n",
        "max = np.max(l)\n",
        "min = np.min(l)\n",
        "\n",
        "argmax = np.argmax(l)\n",
        "argmin = np.argmin(l)\n",
        "\n",
        "print(f\"maximum value in array is: {max}\")\n",
        "print(f\"index of maximum value in array is: {argmax}\")\n",
        "print(f\"minimum value in array is: {min}\")\n",
        "print(f\"index of minimum value in array is: {argmin}\")"
      ],
      "metadata": {
        "colab": {
          "base_uri": "https://localhost:8080/"
        },
        "id": "TxK2Fpw2gSiH",
        "outputId": "3bd36c4d-4484-40ea-cb4d-0695c43e1a81"
      },
      "execution_count": null,
      "outputs": [
        {
          "output_type": "stream",
          "name": "stdout",
          "text": [
            "maximum value in array is: 45\n",
            "index of maximum value in array is: 5\n",
            "minimum value in array is: 1\n",
            "index of minimum value in array is: 0\n"
          ]
        }
      ]
    },
    {
      "cell_type": "markdown",
      "source": [
        "Ques. Create a list and use normalize it."
      ],
      "metadata": {
        "id": "u5h7L4zvexJW"
      }
    },
    {
      "cell_type": "code",
      "source": [
        "import numpy as np\n",
        "l = np.array([22, 23, 24 ,35, 36, 40, 39, 52, 58, 65])\n",
        "l2 = []\n",
        "max = np.max(l)\n",
        "min = np.min(l)\n",
        "\n",
        "den = max - min\n",
        "\n",
        "for i in range(len(l)):\n",
        "  val = (l[i] - min) / (den)\n",
        "  l2.append(val)\n",
        "\n",
        "l2"
      ],
      "metadata": {
        "colab": {
          "base_uri": "https://localhost:8080/"
        },
        "id": "iVd_ngJ9e-TQ",
        "outputId": "3e97f9fa-dc48-484b-ed83-e56d8e5ded5c"
      },
      "execution_count": null,
      "outputs": [
        {
          "output_type": "execute_result",
          "data": {
            "text/plain": [
              "[0.0,\n",
              " 0.023255813953488372,\n",
              " 0.046511627906976744,\n",
              " 0.3023255813953488,\n",
              " 0.32558139534883723,\n",
              " 0.4186046511627907,\n",
              " 0.3953488372093023,\n",
              " 0.6976744186046512,\n",
              " 0.8372093023255814,\n",
              " 1.0]"
            ]
          },
          "metadata": {},
          "execution_count": 1
        }
      ]
    },
    {
      "cell_type": "markdown",
      "metadata": {
        "id": "OnIbLGtG4wtm"
      },
      "source": [
        "# IN CLASS LAB EXERCISES - 01"
      ]
    },
    {
      "cell_type": "markdown",
      "metadata": {
        "id": "CgjE9Bp94wtp"
      },
      "source": [
        "#### Import NumPy package as np"
      ]
    },
    {
      "cell_type": "code",
      "execution_count": 49,
      "metadata": {
        "collapsed": true,
        "id": "x-qeM27t4wts"
      },
      "outputs": [],
      "source": [
        "import numpy as np"
      ]
    },
    {
      "cell_type": "markdown",
      "metadata": {
        "id": "rxLvnFmC4wtu"
      },
      "source": [
        "####  01.  Create an empty array of 20 0's and replace the 4th object with the number 5"
      ]
    },
    {
      "cell_type": "code",
      "execution_count": 53,
      "metadata": {
        "id": "sHI_bBRH4wtw",
        "colab": {
          "base_uri": "https://localhost:8080/"
        },
        "outputId": "08b23218-ed72-42d0-cfcd-ffb238f163a7"
      },
      "outputs": [
        {
          "output_type": "execute_result",
          "data": {
            "text/plain": [
              "array([0., 0., 0., 5., 0., 0., 0., 0., 0., 0., 0., 0., 0., 0., 0., 0., 0.,\n",
              "       0., 0., 0.])"
            ]
          },
          "metadata": {},
          "execution_count": 53
        }
      ],
      "source": [
        "arr = np.zeros(20)\n",
        "arr[3] = 5\n",
        "arr"
      ]
    },
    {
      "cell_type": "markdown",
      "metadata": {
        "id": "vS5tUGKs4wtz"
      },
      "source": [
        "#### 02. Create an array of 20 1's and store it as a variable named array_master. Copy the same array into another variable named array_copy"
      ]
    },
    {
      "cell_type": "code",
      "execution_count": 54,
      "metadata": {
        "id": "icMI8Oja4wtz",
        "colab": {
          "base_uri": "https://localhost:8080/"
        },
        "outputId": "fc3da6db-7dcd-4346-fd37-7756e1d0e7e6"
      },
      "outputs": [
        {
          "output_type": "stream",
          "name": "stdout",
          "text": [
            "[1. 1. 1. 1. 1. 1. 1. 1. 1. 1. 1. 1. 1. 1. 1. 1. 1. 1. 1. 1.]\n"
          ]
        }
      ],
      "source": [
        "array_master = np.ones(20)\n",
        "array_copy = np.copy(array_master)\n",
        "\n",
        "print(array_copy)"
      ]
    },
    {
      "cell_type": "markdown",
      "metadata": {
        "id": "kZCSMKdE4wt5"
      },
      "source": [
        "#### 03.Create an array containing 30 1's and broadcast all the one's to the value 100"
      ]
    },
    {
      "cell_type": "code",
      "execution_count": 65,
      "metadata": {
        "id": "JdpVmIp94wt6",
        "colab": {
          "base_uri": "https://localhost:8080/"
        },
        "outputId": "3eec2ef1-592c-4e81-e858-4110a7283e29"
      },
      "outputs": [
        {
          "output_type": "stream",
          "name": "stdout",
          "text": [
            "after broadcasting all elements to value 100, [100. 100. 100. 100. 100. 100. 100. 100. 100. 100. 100. 100. 100. 100.\n",
            " 100. 100. 100. 100. 100. 100. 100. 100. 100. 100. 100. 100. 100. 100.\n",
            " 100. 100.]\n"
          ]
        }
      ],
      "source": [
        "arr = np.ones(30)\n",
        "arr[:] = 100\n",
        "print(f\"after broadcasting all elements to value 100, {arr}\")"
      ]
    },
    {
      "cell_type": "markdown",
      "metadata": {
        "id": "KmdDCxgU4wt7"
      },
      "source": [
        "#### 04. Create an array of integers starting from 21 until 31 and name it as array1\n",
        "\n",
        "####  ---     Create an array of integers starting from 11 until 21 and name it array2\n",
        "\n",
        "####  ---    Calculate the difference between array1 and array2"
      ]
    },
    {
      "cell_type": "code",
      "execution_count": 60,
      "metadata": {
        "id": "FipuMqIV4wt8",
        "colab": {
          "base_uri": "https://localhost:8080/"
        },
        "outputId": "adb976a1-e345-4f42-aa59-fb18b8fd486c"
      },
      "outputs": [
        {
          "output_type": "stream",
          "name": "stdout",
          "text": [
            "the difference between the two arrays is: [10 10 10 10 10 10 10 10 10 10 10]\n"
          ]
        }
      ],
      "source": [
        "array1 = np.arange(21,32,1)\n",
        "array2 = np.arange(11, 22, 1)\n",
        "diff = array1 - array2\n",
        "print(f\"the difference between the two arrays is: {diff}\")"
      ]
    },
    {
      "cell_type": "markdown",
      "metadata": {
        "id": "2ZW_mM5V4wt9"
      },
      "source": [
        "#### 05. Create an array of all even integers from 2 to 10 and name it a1\n",
        "\n",
        "#### --   Create an array of all even integers from 22 to 30 and name it a2\n",
        "\n",
        "####    a) Use the 2 arrays as rows and create a matrix [ Hint - Use stack function from numpy ]"
      ]
    },
    {
      "cell_type": "code",
      "execution_count": 62,
      "metadata": {
        "id": "qHEo5ZCY4wt-",
        "colab": {
          "base_uri": "https://localhost:8080/"
        },
        "outputId": "7320da20-a671-4ae5-d454-6b012bd79e77"
      },
      "outputs": [
        {
          "output_type": "stream",
          "name": "stdout",
          "text": [
            "[[ 2  4  6  8 10]\n",
            " [22 24 26 28 30]]\n"
          ]
        }
      ],
      "source": [
        "a1 = np.arange(2, 11, 2)\n",
        "a2 = np.arange(22, 31, 2)\n",
        "a3 = np.stack((a1,a2))\n",
        "print(a3)"
      ]
    },
    {
      "cell_type": "markdown",
      "metadata": {
        "id": "yg-wGZHq4wuA"
      },
      "source": [
        "####  b) Use the 2 arrays as columns and create a matrix [ Hint - Use column_stack function from numpy ]"
      ]
    },
    {
      "cell_type": "code",
      "execution_count": 64,
      "metadata": {
        "id": "dwGosIl74wuB",
        "colab": {
          "base_uri": "https://localhost:8080/"
        },
        "outputId": "affa0196-502a-4d31-e107-45dfd99571e3"
      },
      "outputs": [
        {
          "output_type": "stream",
          "name": "stdout",
          "text": [
            "[[ 2 22]\n",
            " [ 4 24]\n",
            " [ 6 26]\n",
            " [ 8 28]\n",
            " [10 30]]\n"
          ]
        }
      ],
      "source": [
        "a4 = np.column_stack((a1,a2))\n",
        "print(a4)"
      ]
    },
    {
      "cell_type": "markdown",
      "metadata": {
        "id": "CMzAEhuv4wuC"
      },
      "source": [
        "#### 06. Create a 5x6 matrix with values ranging from 0 to 29 and retrieve the value intersecting at 2nd row and 3rd column"
      ]
    },
    {
      "cell_type": "code",
      "execution_count": 73,
      "metadata": {
        "id": "GPrl7V5-4wuD",
        "colab": {
          "base_uri": "https://localhost:8080/"
        },
        "outputId": "8fbfee8b-932a-45f7-848d-73d25ff9d4e2"
      },
      "outputs": [
        {
          "output_type": "stream",
          "name": "stdout",
          "text": [
            "[[ 0  1  2  3  4  5]\n",
            " [ 6  7  8  9 10 11]\n",
            " [12 13 14 15 16 17]\n",
            " [18 19 20 21 22 23]\n",
            " [24 25 26 27 28 29]]\n",
            "element intersecting at 2nd row and 3rd column is: 8\n"
          ]
        }
      ],
      "source": [
        "arr = np.arange(0, 30, 1).reshape(5,6)\n",
        "print(arr)\n",
        "print(f\"element intersecting at 2nd row and 3rd column is: {arr[1][2]}\")"
      ]
    },
    {
      "cell_type": "markdown",
      "metadata": {
        "id": "B7fwow234wuF"
      },
      "source": [
        "#### 07. Create an identity matrix of shape 10x10 and replace the 0's with the value 21"
      ]
    },
    {
      "cell_type": "code",
      "execution_count": 99,
      "metadata": {
        "id": "NpfIyy6K4wuF",
        "colab": {
          "base_uri": "https://localhost:8080/"
        },
        "outputId": "c4ce497d-eeac-4992-ff03-cad6b61c73d8"
      },
      "outputs": [
        {
          "output_type": "stream",
          "name": "stdout",
          "text": [
            "after changing values of 0's to 21: \n",
            "[[ 1. 21. 21. 21. 21. 21. 21. 21. 21. 21.]\n",
            " [21.  1. 21. 21. 21. 21. 21. 21. 21. 21.]\n",
            " [21. 21.  1. 21. 21. 21. 21. 21. 21. 21.]\n",
            " [21. 21. 21.  1. 21. 21. 21. 21. 21. 21.]\n",
            " [21. 21. 21. 21.  1. 21. 21. 21. 21. 21.]\n",
            " [21. 21. 21. 21. 21.  1. 21. 21. 21. 21.]\n",
            " [21. 21. 21. 21. 21. 21.  1. 21. 21. 21.]\n",
            " [21. 21. 21. 21. 21. 21. 21.  1. 21. 21.]\n",
            " [21. 21. 21. 21. 21. 21. 21. 21.  1. 21.]\n",
            " [21. 21. 21. 21. 21. 21. 21. 21. 21.  1.]]\n"
          ]
        }
      ],
      "source": [
        "arr = np.eye(10)\n",
        "\n",
        "for i in range(10):\n",
        "  for j in range(10):\n",
        "    if (arr[i][j] == 0):\n",
        "      arr[i][j] = 21\n",
        "\n",
        "print(f\"after changing values of 0's to 21: \\n{arr}\")"
      ]
    },
    {
      "cell_type": "markdown",
      "metadata": {
        "id": "TJQI78OE4wuH"
      },
      "source": [
        "#### Use NumPy to generate a random set of 10 numbers between 0 and 1\n",
        "\n",
        "#### 08. Display a boolean array output where all values > 0.2 are True, rest are marked as False"
      ]
    },
    {
      "cell_type": "code",
      "execution_count": 93,
      "metadata": {
        "id": "3ThuX_4r4wuI",
        "colab": {
          "base_uri": "https://localhost:8080/"
        },
        "outputId": "b12e3060-6d70-44fe-e173-9a684b345fc1"
      },
      "outputs": [
        {
          "output_type": "stream",
          "name": "stdout",
          "text": [
            "[1. 0. 1. 1. 1. 1. 1. 0. 1. 1.]\n"
          ]
        }
      ],
      "source": [
        "import random\n",
        "\n",
        "arr = np.random.rand(10)\n",
        "arr2 = np.array([])\n",
        "\n",
        "for i in arr:\n",
        "  if ( i>0.2 ):\n",
        "    arr2 = np.append(arr2, True)\n",
        "  else:\n",
        "    arr2 = np.append(arr2, False)\n",
        "\n",
        "print(arr2)"
      ]
    },
    {
      "cell_type": "markdown",
      "metadata": {
        "id": "JzDAEpiz4wuJ"
      },
      "source": [
        "#### 09. Use NumPy to generate an array matrix of 5x2 random numbers sampled from a standard normal distribution"
      ]
    },
    {
      "cell_type": "code",
      "execution_count": 87,
      "metadata": {
        "id": "wLGsMkSR4wuK",
        "colab": {
          "base_uri": "https://localhost:8080/"
        },
        "outputId": "fdc9747c-e687-4da3-da50-74dae778f11d"
      },
      "outputs": [
        {
          "output_type": "stream",
          "name": "stdout",
          "text": [
            "an array matrix of 5x2 random numbers sampled from a standard normal distribution is: \n",
            "[[-0.7834457   0.15418196]\n",
            " [-0.71799319  0.04792871]\n",
            " [-0.70529795  0.71233153]\n",
            " [ 1.19938883  2.07828634]\n",
            " [-0.23222985  0.12527288]]\n"
          ]
        }
      ],
      "source": [
        "import random\n",
        "\n",
        "arr = np.random.randn(5,2)\n",
        "print(f\"an array matrix of 5x2 random numbers sampled from a standard normal distribution is: \\n{arr}\")"
      ]
    },
    {
      "cell_type": "markdown",
      "metadata": {
        "id": "UI5X-UdK4wuM"
      },
      "source": [
        "#### 10. Create an array of 30 linearly spaced points between 0 and 100:"
      ]
    },
    {
      "cell_type": "code",
      "execution_count": 101,
      "metadata": {
        "id": "aoVWfpF04wuN",
        "colab": {
          "base_uri": "https://localhost:8080/"
        },
        "outputId": "30fb247d-a8e8-4072-e703-465fd71a7de8"
      },
      "outputs": [
        {
          "output_type": "stream",
          "name": "stdout",
          "text": [
            "array of 30 linearly spaced elements between 0 and 100 is: \n",
            "[  0.           3.44827586   6.89655172  10.34482759  13.79310345\n",
            "  17.24137931  20.68965517  24.13793103  27.5862069   31.03448276\n",
            "  34.48275862  37.93103448  41.37931034  44.82758621  48.27586207\n",
            "  51.72413793  55.17241379  58.62068966  62.06896552  65.51724138\n",
            "  68.96551724  72.4137931   75.86206897  79.31034483  82.75862069\n",
            "  86.20689655  89.65517241  93.10344828  96.55172414 100.        ] \n"
          ]
        }
      ],
      "source": [
        "arr = np.linspace(0, 100, 30)\n",
        "print(f\"array of 30 linearly spaced elements between 0 and 100 is: \\n{arr} \")"
      ]
    },
    {
      "cell_type": "markdown",
      "metadata": {
        "id": "BqyISfTV4wuO"
      },
      "source": [
        "## Numpy Indexing and Selections\n",
        "\n",
        "#### 11. Using the below given Matrix, generate the output for the below questions."
      ]
    },
    {
      "cell_type": "code",
      "execution_count": 128,
      "metadata": {
        "id": "laYNyxcD4wuO",
        "colab": {
          "base_uri": "https://localhost:8080/"
        },
        "outputId": "1f378a88-204d-4790-f2a9-3e77795e39ec"
      },
      "outputs": [
        {
          "output_type": "execute_result",
          "data": {
            "text/plain": [
              "array([[ 1,  2,  3,  4,  5,  6],\n",
              "       [ 2, 11,  8,  6,  9,  7],\n",
              "       [12, 10, 55, 35, 62, 14],\n",
              "       [24, 35, 68, 24, 35, 15],\n",
              "       [24, 57, 68, 20, 43, 18],\n",
              "       [12, 10, 55, 35, 62, 14]])"
            ]
          },
          "metadata": {},
          "execution_count": 128
        }
      ],
      "source": [
        "arr= np.array([[1, 2, 3, 4, 5, 6],\n",
        "      [2, 11, 8, 6, 9, 7],\n",
        "      [12, 10, 55, 35, 62, 14],\n",
        "      [24, 35, 68, 24 ,35, 15],\n",
        "      [24, 57, 68 ,20 ,43 ,18],\n",
        "      [12, 10, 55, 35, 62, 14]\n",
        "     ])\n",
        "arr"
      ]
    },
    {
      "cell_type": "markdown",
      "metadata": {
        "collapsed": true,
        "id": "EzeOHMLI4wuP"
      },
      "source": [
        "#### a) Retrieve the last 2 rows and first 3 column values of the above matrix using index & selection technique"
      ]
    },
    {
      "cell_type": "code",
      "execution_count": 129,
      "metadata": {
        "id": "bSpn5Lgz4wuQ",
        "colab": {
          "base_uri": "https://localhost:8080/"
        },
        "outputId": "27107bc6-ceb3-46b3-a8bb-51a534e387df"
      },
      "outputs": [
        {
          "output_type": "stream",
          "name": "stdout",
          "text": [
            "the last two rows and 3 columns are: [[12 10 55 35 62 14]\n",
            " [24 35 68 24 35 15]\n",
            " [24 57 68 20 43 18]]\n"
          ]
        }
      ],
      "source": [
        "print(f\"the last two rows and 3 columns are: {arr[2:][:3]}\")"
      ]
    },
    {
      "cell_type": "markdown",
      "metadata": {
        "collapsed": true,
        "id": "cAPCfAMT4wuR"
      },
      "source": [
        "#### b) Retrieve the value 55 from the above matrix using index & selection technique"
      ]
    },
    {
      "cell_type": "code",
      "execution_count": 130,
      "metadata": {
        "id": "az-hoMXl4wuS",
        "colab": {
          "base_uri": "https://localhost:8080/"
        },
        "outputId": "1ff153fd-68a5-4c74-dfa5-7d32a59bd4b9"
      },
      "outputs": [
        {
          "output_type": "stream",
          "name": "stdout",
          "text": [
            "value at arr[2][2]: 55\n"
          ]
        }
      ],
      "source": [
        "print(f\"value at arr[2][2]: {arr[2][2]}\")"
      ]
    },
    {
      "cell_type": "markdown",
      "metadata": {
        "collapsed": true,
        "id": "QuvrNL_q4wuS"
      },
      "source": [
        "#### c) Retrieve the values from the 3rd column in the above matrix"
      ]
    },
    {
      "cell_type": "code",
      "execution_count": 131,
      "metadata": {
        "id": "m20uX2cr4wuT",
        "colab": {
          "base_uri": "https://localhost:8080/"
        },
        "outputId": "e46d165e-2fd4-467a-9e5e-af423101a29d"
      },
      "outputs": [
        {
          "output_type": "execute_result",
          "data": {
            "text/plain": [
              "array([24, 35, 68, 24, 35, 15])"
            ]
          },
          "metadata": {},
          "execution_count": 131
        }
      ],
      "source": [
        "arr[:][3]"
      ]
    },
    {
      "cell_type": "markdown",
      "metadata": {
        "collapsed": true,
        "id": "m8IdLZp74wuU"
      },
      "source": [
        "#### d) Retrieve the values from the 4th row in the above matrix"
      ]
    },
    {
      "cell_type": "code",
      "execution_count": 132,
      "metadata": {
        "id": "bSRm2LXA4wuU",
        "colab": {
          "base_uri": "https://localhost:8080/"
        },
        "outputId": "0518fb51-f57a-455e-ab51-2e7bf293e274"
      },
      "outputs": [
        {
          "output_type": "execute_result",
          "data": {
            "text/plain": [
              "array([24, 57, 68, 20, 43, 18])"
            ]
          },
          "metadata": {},
          "execution_count": 132
        }
      ],
      "source": [
        "arr[4][:]"
      ]
    },
    {
      "cell_type": "markdown",
      "metadata": {
        "collapsed": true,
        "id": "h7Z4vcyz4wuV"
      },
      "source": [
        "#### e) Retrieve values from the 2nd & 4th rows in the above matrix"
      ]
    },
    {
      "cell_type": "code",
      "execution_count": 135,
      "metadata": {
        "id": "E7KdRiCC4wuW",
        "colab": {
          "base_uri": "https://localhost:8080/"
        },
        "outputId": "02cb63e2-17fa-49eb-cc2f-cf9048531546"
      },
      "outputs": [
        {
          "output_type": "execute_result",
          "data": {
            "text/plain": [
              "array([[12, 10, 55, 35, 62, 14],\n",
              "       [24, 57, 68, 20, 43, 18]])"
            ]
          },
          "metadata": {},
          "execution_count": 135
        }
      ],
      "source": [
        "arr[2:5:2][:]"
      ]
    },
    {
      "cell_type": "markdown",
      "metadata": {
        "id": "5xzfi6rg4wuX"
      },
      "source": [
        "### Calculate the following values for the given matrix"
      ]
    },
    {
      "cell_type": "code",
      "source": [
        "import numpy as np\n",
        "\n",
        "arr= np.array([[1, 2, 3, 4, 5, 6],\n",
        "      [2, 11, 8, 6, 9, 7],\n",
        "      [12, 10, 55, 35, 62, 14],\n",
        "      [24, 35, 68, 24 ,35, 15]\n",
        "     ])\n",
        "arr"
      ],
      "metadata": {
        "colab": {
          "base_uri": "https://localhost:8080/"
        },
        "id": "D2SAWyLCQ3XB",
        "outputId": "27166958-12a3-479e-bdb5-ca3b4843e10a"
      },
      "execution_count": 136,
      "outputs": [
        {
          "output_type": "execute_result",
          "data": {
            "text/plain": [
              "array([[ 1,  2,  3,  4,  5,  6],\n",
              "       [ 2, 11,  8,  6,  9,  7],\n",
              "       [12, 10, 55, 35, 62, 14],\n",
              "       [24, 35, 68, 24, 35, 15]])"
            ]
          },
          "metadata": {},
          "execution_count": 136
        }
      ]
    },
    {
      "cell_type": "markdown",
      "metadata": {
        "id": "DQubiPr44wuX"
      },
      "source": [
        "#### a) Calculate sum of all the values in the matrix"
      ]
    },
    {
      "cell_type": "code",
      "execution_count": 137,
      "metadata": {
        "id": "T2pH0Ok04wuY",
        "colab": {
          "base_uri": "https://localhost:8080/"
        },
        "outputId": "8e292f29-b2d8-4a5a-fc04-7554631f4587"
      },
      "outputs": [
        {
          "output_type": "execute_result",
          "data": {
            "text/plain": [
              "453"
            ]
          },
          "metadata": {},
          "execution_count": 137
        }
      ],
      "source": [
        "sum = np.sum(arr)\n",
        "sum"
      ]
    },
    {
      "cell_type": "markdown",
      "metadata": {
        "id": "amCwg3f44wuY"
      },
      "source": [
        "#### b) Calculate standard deviation of all the values in the matrix"
      ]
    },
    {
      "cell_type": "code",
      "execution_count": 138,
      "metadata": {
        "id": "UU6k3Qmn4wuY",
        "colab": {
          "base_uri": "https://localhost:8080/"
        },
        "outputId": "f3cda1fe-2070-4d1c-f026-dcf2e083bdc0"
      },
      "outputs": [
        {
          "output_type": "execute_result",
          "data": {
            "text/plain": [
              "19.236060970652662"
            ]
          },
          "metadata": {},
          "execution_count": 138
        }
      ],
      "source": [
        "st = np.std(arr)\n",
        "st"
      ]
    },
    {
      "cell_type": "markdown",
      "metadata": {
        "id": "wyvga_1y4wuZ"
      },
      "source": [
        "#### c) Calculate the variance of all values in the matrix"
      ]
    },
    {
      "cell_type": "code",
      "execution_count": 144,
      "metadata": {
        "id": "YlU2hGBV4wuZ",
        "colab": {
          "base_uri": "https://localhost:8080/"
        },
        "outputId": "baac604d-71bb-4893-ae4d-ce8d577c19d8"
      },
      "outputs": [
        {
          "output_type": "stream",
          "name": "stdout",
          "text": [
            "variance is: 370.0260416666667\n"
          ]
        }
      ],
      "source": [
        "var = np.var(arr)\n",
        "print(f\"variance is: {var}\")"
      ]
    },
    {
      "cell_type": "markdown",
      "metadata": {
        "collapsed": true,
        "id": "3hP34ANX4wub"
      },
      "source": [
        "#### d) Calculate the mean of all values in the matrix"
      ]
    },
    {
      "cell_type": "code",
      "execution_count": 140,
      "metadata": {
        "id": "ZRV_ikr14wub",
        "colab": {
          "base_uri": "https://localhost:8080/"
        },
        "outputId": "a3ad295c-9e36-4eaf-d7d2-99dab374bdf8"
      },
      "outputs": [
        {
          "output_type": "execute_result",
          "data": {
            "text/plain": [
              "18.875"
            ]
          },
          "metadata": {},
          "execution_count": 140
        }
      ],
      "source": [
        "mean = np.mean(arr)\n",
        "mean"
      ]
    },
    {
      "cell_type": "markdown",
      "metadata": {
        "id": "DW-ZedST4wub"
      },
      "source": [
        "#### e) Retrieve the largest number from the matrix"
      ]
    },
    {
      "cell_type": "code",
      "execution_count": 142,
      "metadata": {
        "id": "w7ZCEfN64wuc",
        "colab": {
          "base_uri": "https://localhost:8080/"
        },
        "outputId": "4502ed61-39a3-42c2-c3fc-3570e7e5eb45"
      },
      "outputs": [
        {
          "output_type": "execute_result",
          "data": {
            "text/plain": [
              "68"
            ]
          },
          "metadata": {},
          "execution_count": 142
        }
      ],
      "source": [
        "max = np.max(arr)\n",
        "max"
      ]
    },
    {
      "cell_type": "markdown",
      "metadata": {
        "id": "SNZQjj-B4wud"
      },
      "source": [
        "#### f) Retrieve the smallest number from the matrix"
      ]
    },
    {
      "cell_type": "code",
      "execution_count": 143,
      "metadata": {
        "id": "W-tDVBC54wud",
        "colab": {
          "base_uri": "https://localhost:8080/"
        },
        "outputId": "008d1a0b-d800-41a5-8396-e1f67f971c16"
      },
      "outputs": [
        {
          "output_type": "execute_result",
          "data": {
            "text/plain": [
              "1"
            ]
          },
          "metadata": {},
          "execution_count": 143
        }
      ],
      "source": [
        "min = np.min(arr)\n",
        "min"
      ]
    }
  ]
}