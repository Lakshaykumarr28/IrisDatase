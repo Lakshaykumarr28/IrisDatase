{
  "cells": [
    {
      "cell_type": "markdown",
      "metadata": {
        "id": "qNtKrJ3tecQu"
      },
      "source": [
        "# **Day 4 :- Assignment On Sets, Dictionaries**\n",
        "\n",
        "**Save the File with Your Name_RollNumber and Upload on Classroom**"
      ]
    },
    {
      "cell_type": "markdown",
      "metadata": {
        "id": "dkCKLBzTpUf6"
      },
      "source": [
        "q1: Write a Python program to return a new set with unique items from both sets by removing duplicates."
      ]
    },
    {
      "cell_type": "code",
      "execution_count": null,
      "metadata": {
        "colab": {
          "base_uri": "https://localhost:8080/"
        },
        "id": "MRv0FmdEpFOS",
        "outputId": "fb2094e9-6ab2-4e6b-ec18-ad57114e7365"
      },
      "outputs": [
        {
          "name": "stdout",
          "output_type": "stream",
          "text": [
            "the new set created using two sets is: {0, 1, 65, 3, 36, 5, 2, 7, 45, 15, 25}\n"
          ]
        }
      ],
      "source": [
        "#solution\n",
        "s1 = {1, 5, 3 , 7, 25, 36, 45}\n",
        "s2 = {2, 3 , 5, 15 , 0, 65, 45}\n",
        "s = set()\n",
        "\n",
        "s.update(s1)\n",
        "s.update(s2)\n",
        "\n",
        "print(f\"the new set created using two sets is: {s}\")"
      ]
    },
    {
      "cell_type": "markdown",
      "metadata": {
        "id": "zbdKzIAppbcZ"
      },
      "source": [
        "q2: Given two Python sets, write a Python program to update the first set with items that exist only in the first set and not in the second set."
      ]
    },
    {
      "cell_type": "code",
      "execution_count": null,
      "metadata": {
        "colab": {
          "base_uri": "https://localhost:8080/"
        },
        "id": "fKLtMx_ppKTb",
        "outputId": "4c5d51f8-ce4e-49c4-b2b4-5712a933acb9"
      },
      "outputs": [
        {
          "name": "stdout",
          "output_type": "stream",
          "text": [
            "after updating set 1 with only elements that are in set 1 and not in set 2: {1, 2, 36, 7, 45, 62}\n"
          ]
        }
      ],
      "source": [
        "#solution\n",
        "s1 = {1, 2, 3, 5, 6, 7, 25, 36, 95, 45, 62}\n",
        "s2 = {5, 3, 6, 42, 65, 95, 32, 25, 15}\n",
        "\n",
        "s1 = (s1 - s2)\n",
        "print(f\"after updating set 1 with only elements that are in set 1 and not in set 2: {s1}\")"
      ]
    },
    {
      "cell_type": "markdown",
      "metadata": {
        "id": "FGOmlfnxppcb"
      },
      "source": [
        "q3: WAP to Check if two sets have any elements in common. If yes, display the common elements"
      ]
    },
    {
      "cell_type": "code",
      "execution_count": null,
      "metadata": {
        "colab": {
          "base_uri": "https://localhost:8080/"
        },
        "id": "IITJ_mG_pLxW",
        "outputId": "d6751d48-2665-48c2-9599-e594e6b20dda"
      },
      "outputs": [
        {
          "name": "stdout",
          "output_type": "stream",
          "text": [
            "the common elements are: \n",
            "3, 5, 6, 25, 95, "
          ]
        }
      ],
      "source": [
        "#solution\n",
        "s1 = {1, 2, 3, 5, 6, 7, 25, 36, 95, 45, 62}\n",
        "s2 = {5, 3, 6, 42, 65, 95, 32, 25, 15}\n",
        "\n",
        "print(\"the common elements are: \")\n",
        "for i in s1:\n",
        "  if i in s2:\n",
        "    print(i,end =\", \")"
      ]
    },
    {
      "cell_type": "markdown",
      "metadata": {
        "id": "dHKHaWwQpu54"
      },
      "source": [
        "q4: WAP to Update set1 by adding items from set2, except common items"
      ]
    },
    {
      "cell_type": "code",
      "execution_count": null,
      "metadata": {
        "colab": {
          "base_uri": "https://localhost:8080/"
        },
        "id": "ggBTnY5MqJa2",
        "outputId": "e9311fd3-0ce6-4fb0-d430-2fb7cfa188fa"
      },
      "outputs": [
        {
          "name": "stdout",
          "output_type": "stream",
          "text": [
            "updating set1 by adding items from set2, except common items, the set1 becomes: {32, 65, 1, 2, 36, 7, 42, 45, 15, 62}\n"
          ]
        }
      ],
      "source": [
        "#solution\n",
        "s1 = {1, 2, 3, 5, 6, 7, 25, 36, 95, 45, 62}\n",
        "s2 = {5, 3, 6, 42, 65, 95, 32, 25, 15}\n",
        "\n",
        "s1 = (s1.union(s2)) - (s1.intersection(s2))\n",
        "print(f\"updating set1 by adding items from set2, except common items, the set1 becomes: {s1}\")"
      ]
    },
    {
      "cell_type": "markdown",
      "metadata": {
        "id": "rda6CKIJqPZL"
      },
      "source": [
        "q5: WAP to get the maximum and minimum element in a set in Python, using the built-in functions of Python"
      ]
    },
    {
      "cell_type": "code",
      "execution_count": null,
      "metadata": {
        "colab": {
          "base_uri": "https://localhost:8080/"
        },
        "id": "eZKsBISCqM3R",
        "outputId": "9bda4250-4edb-4167-951a-43c699d2ebec"
      },
      "outputs": [
        {
          "name": "stdout",
          "output_type": "stream",
          "text": [
            "maximum element in the set is: 95\n",
            "minimum element in the set is: 1\n"
          ]
        }
      ],
      "source": [
        "#solution\n",
        "s1 = {1, 2, 3, 5, 6, 7, 25, 36, 95, 45, 62}\n",
        "max = max(s1)\n",
        "min = min(s1)\n",
        "\n",
        "print(f\"maximum element in the set is: {max}\")\n",
        "print(f\"minimum element in the set is: {min}\")"
      ]
    },
    {
      "cell_type": "markdown",
      "metadata": {
        "id": "t4Yh0UkwqloK"
      },
      "source": [
        "q6: Below are the two lists. Write a Python program to convert them into a dictionary in a way that item from list1 is the key and item from list2 is the value\n",
        "\n",
        "keys = ['Ten', 'Twenty', 'Thirty']\n",
        "\n",
        "values = [10, 20, 30]"
      ]
    },
    {
      "cell_type": "code",
      "execution_count": null,
      "metadata": {
        "colab": {
          "base_uri": "https://localhost:8080/"
        },
        "id": "G93vTKYzqnaA",
        "outputId": "769a36b9-9408-487a-dec1-0b1604f20341"
      },
      "outputs": [
        {
          "name": "stdout",
          "output_type": "stream",
          "text": [
            "creating the dictionary from keys and values list is: {'Ten': 10, 'Twenty': 20, 'Thirty': 30}\n"
          ]
        }
      ],
      "source": [
        "#solution\n",
        "keys = ['Ten', 'Twenty', 'Thirty']\n",
        "values = [10, 20, 30]\n",
        "\n",
        "dict = {}\n",
        "for i in range(len(keys)):\n",
        "  dict[keys[i]] = values[i]\n",
        "\n",
        "print(f\"creating the dictionary from keys and values list is: {dict}\")\n"
      ]
    },
    {
      "cell_type": "markdown",
      "metadata": {
        "id": "JOCIhG3nrxo6"
      },
      "source": [
        "q7: Write a Python program to create a dictionary from a string.\n",
        "Note: Track the count of the letters from the string.\n",
        "\n",
        "Sample string : 'AIMLTraining'\n",
        "\n",
        "Expected output: {'A': 1, 'I': 1, 'M': 1, 'L': 1, 'T': 1, 'r': 1, 'a': 1, 'i': 2, 'n': 2, 'g': 1}\n"
      ]
    },
    {
      "cell_type": "code",
      "execution_count": null,
      "metadata": {
        "colab": {
          "base_uri": "https://localhost:8080/"
        },
        "id": "Uj36wraAsFlG",
        "outputId": "5a941e58-3b02-4483-ba08-7546ee10abf5"
      },
      "outputs": [
        {
          "name": "stdout",
          "output_type": "stream",
          "text": [
            "{'G': 2, 'o': 2, 'd': 2, 'r': 1, 'e': 2, 'y': 1}\n"
          ]
        }
      ],
      "source": [
        "#solution\n",
        "s = \"GoodGreedy\"\n",
        "dict = {}\n",
        "\n",
        "for i in s:\n",
        "  if i in dict:\n",
        "    dict[i] = dict[i] + 1\n",
        "  else:\n",
        "    dict[i] = 1\n",
        "\n",
        "print(dict)"
      ]
    },
    {
      "cell_type": "markdown",
      "metadata": {
        "id": "qCyd8s6zsJ_z"
      },
      "source": [
        "q8: Write a Python program to get the top three items in a shop.\n",
        "Sample data: {'item1': 45.50, 'item2':35, 'item3': 41.30, 'item4':55, 'item5': 24}\n",
        "\n",
        "Expected Output:\n",
        "\n",
        "item4 55\n",
        "\n",
        "item1 45.5\n",
        "\n",
        "item3 41.3"
      ]
    },
    {
      "cell_type": "code",
      "execution_count": null,
      "metadata": {
        "colab": {
          "base_uri": "https://localhost:8080/"
        },
        "id": "bcdb3Ow-sMlQ",
        "outputId": "d4f4400a-0ffb-4881-b92d-1895b1bb5b30"
      },
      "outputs": [
        {
          "name": "stdout",
          "output_type": "stream",
          "text": [
            "the top three items are: \n",
            "the  item is: ('item1', 100)\n",
            "the  item is: ('item5', 90)\n",
            "the  item is: ('item4', 75)\n"
          ]
        }
      ],
      "source": [
        "#solution\n",
        "dict = {\"item1\" : 100, \"item2\": 10, \"item3\" : 56, \"item4\" : 75, \"item5\" : 90}\n",
        "\n",
        "dict2 = sorted(dict.items(), key = lambda x:x[1])\n",
        "\n",
        "print(\"the top three items are: \")\n",
        "for i in range(3) :\n",
        "  print(f\"the  item is: {dict2[-(i+1)]}\")"
      ]
    },
    {
      "cell_type": "markdown",
      "metadata": {
        "id": "rnZAGJ2XsbEc"
      },
      "source": [
        "q9:Write a Python program to filter a dictionary based on values.\n",
        "\n",
        "Original Dictionary:\n",
        "\n",
        "{'Cierra Vega': 175, 'Alden Cantrell': 180, 'Kierra Gentry': 165, 'Pierre Cox': 190}\n",
        "\n",
        "Marks greater than 170:\n",
        "\n",
        "{'Cierra Vega': 175, 'Alden Cantrell': 180, 'Pierre Cox': 190}"
      ]
    },
    {
      "cell_type": "code",
      "execution_count": null,
      "metadata": {
        "colab": {
          "base_uri": "https://localhost:8080/"
        },
        "id": "ZuAsI7ncse4D",
        "outputId": "b98551b2-01f2-4661-bb43-1a7681332425"
      },
      "outputs": [
        {
          "name": "stdout",
          "output_type": "stream",
          "text": [
            "enter the least value to search in dictionary: 175\n",
            "\n",
            "values greater than 175 are: \n",
            "('Cierra Vega', 175)\n",
            "('Alden Cantrell', 180)\n",
            "('Pierre Cox', 190)\n"
          ]
        }
      ],
      "source": [
        "#solution\n",
        "dict1 = {'Cierra Vega': 175, 'Alden Cantrell': 180, 'Kierra Gentry': 165, 'Pierre Cox': 190}\n",
        "\n",
        "dict2 = sorted(dict1.items(), key = lambda x:x[1])\n",
        "\n",
        "n = int(input(\"enter the least value to search in dictionary: \"))\n",
        "print(f\"\\nvalues greater than {n} are: \")\n",
        "for i in dict2:\n",
        "  if( i[1] >= n ):\n",
        "    print(i)"
      ]
    },
    {
      "cell_type": "markdown",
      "metadata": {
        "id": "rfyUw-ssQQAs"
      },
      "source": [
        "# Practice Problems"
      ]
    },
    {
      "cell_type": "markdown",
      "metadata": {
        "id": "8YW5AFXK48yT"
      },
      "source": [
        "Ques. print a set and check if duplicates are stored"
      ]
    },
    {
      "cell_type": "code",
      "execution_count": null,
      "metadata": {
        "colab": {
          "base_uri": "https://localhost:8080/"
        },
        "id": "AuVWyvSl5Eku",
        "outputId": "1aa8f195-c71e-4f5a-8531-59acf254fba1"
      },
      "outputs": [
        {
          "data": {
            "text/plain": [
              "{1, 2, 3, 4, 7, 'hi'}"
            ]
          },
          "execution_count": 36,
          "metadata": {},
          "output_type": "execute_result"
        }
      ],
      "source": [
        "s = {7, 2, 3, 4, \"hi\", 1}\n",
        "s"
      ]
    },
    {
      "cell_type": "markdown",
      "metadata": {
        "id": "eubE2tRC5RXH"
      },
      "source": [
        "Ques. Check if a element is in set"
      ]
    },
    {
      "cell_type": "code",
      "execution_count": null,
      "metadata": {
        "colab": {
          "base_uri": "https://localhost:8080/"
        },
        "id": "leaXecMG5VRQ",
        "outputId": "35a6eec6-bf21-4bef-cd44-a57a65692fad"
      },
      "outputs": [
        {
          "name": "stdout",
          "output_type": "stream",
          "text": [
            "it is in set\n"
          ]
        }
      ],
      "source": [
        "if( 3 in s):\n",
        "  print(\"it is in set\")"
      ]
    },
    {
      "cell_type": "markdown",
      "metadata": {
        "id": "j8vUgL1k6dYI"
      },
      "source": [
        "Ques. Updating a set"
      ]
    },
    {
      "cell_type": "code",
      "execution_count": null,
      "metadata": {
        "colab": {
          "base_uri": "https://localhost:8080/"
        },
        "id": "MeVZVikK6xpv",
        "outputId": "f8b28a0d-5adc-4ea1-f884-ef981384a896"
      },
      "outputs": [
        {
          "data": {
            "text/plain": [
              "{1, 14, 15, 16, 2, 3, 4, 7, 'hi'}"
            ]
          },
          "execution_count": 39,
          "metadata": {},
          "output_type": "execute_result"
        }
      ],
      "source": [
        "s.update({14, 15, 16})\n",
        "s"
      ]
    },
    {
      "cell_type": "markdown",
      "metadata": {
        "id": "ctv5cw0i7d6g"
      },
      "source": [
        "Ques. create a dictionary and print it."
      ]
    },
    {
      "cell_type": "code",
      "execution_count": null,
      "metadata": {
        "colab": {
          "base_uri": "https://localhost:8080/"
        },
        "id": "gk4nJOxt7jVX",
        "outputId": "344624b0-31c6-4121-d131-e0614aac68cc"
      },
      "outputs": [
        {
          "name": "stdout",
          "output_type": "stream",
          "text": [
            "{'price': 30, 'item': 'pen', 'year': 2000}\n"
          ]
        }
      ],
      "source": [
        "dict = { \"price\": 30 ,\n",
        "         \"item\" : \"pen\",\n",
        "         \"year\" : 2000\n",
        "      }\n",
        "\n",
        "print(dict)"
      ]
    },
    {
      "cell_type": "markdown",
      "metadata": {
        "id": "z5Muv4Te-GsO"
      },
      "source": [
        "Ques. Change value of a specific item by refering to its key in the dictionary"
      ]
    },
    {
      "cell_type": "code",
      "execution_count": null,
      "metadata": {
        "colab": {
          "base_uri": "https://localhost:8080/"
        },
        "id": "OJNOtyZe-NcS",
        "outputId": "3dbfe2fd-65db-4254-bc6e-3aa6556a72e7"
      },
      "outputs": [
        {
          "name": "stdout",
          "output_type": "stream",
          "text": [
            "enter key: price\n",
            "enter new value: 40\n",
            "{'price': '40', 'item': 'pen', 'year': 2000}\n"
          ]
        }
      ],
      "source": [
        "dict = { \"price\" : 30 , \"item\" : \"pen\" , \"year\" : 2000}\n",
        "key = input(\"enter key: \")\n",
        "v = input(\"enter new value: \")\n",
        "\n",
        "if key in dict:\n",
        "  dict[key] = v\n",
        "\n",
        "print(dict)"
      ]
    },
    {
      "cell_type": "markdown",
      "metadata": {
        "id": "U0yk6AiN-TRw"
      },
      "source": [
        "Ques. Check if a item in a dictionary. #it can be done using keys not values"
      ]
    },
    {
      "cell_type": "code",
      "execution_count": null,
      "metadata": {
        "colab": {
          "base_uri": "https://localhost:8080/"
        },
        "id": "rqATbuLW-aCb",
        "outputId": "32dcfbb0-d5b6-402d-a717-7070662cb62f"
      },
      "outputs": [
        {
          "name": "stdout",
          "output_type": "stream",
          "text": [
            "enter key to search: price\n",
            "yes, the item is in dictionary and value of price in dict is: 30\n"
          ]
        }
      ],
      "source": [
        "dict = { \"price\" : 30 , \"item\" : \"pen\" , \"year\" : 2000}\n",
        "\n",
        "key = input(\"enter key to search: \")\n",
        "\n",
        "if(key in dict):\n",
        "  print(f\"yes, the item is in dictionary and value of {key} in dict is: {dict[key]}\")"
      ]
    },
    {
      "cell_type": "markdown",
      "metadata": {
        "id": "9JdDWOTA_JbA"
      },
      "source": [
        "Ques. Make use of following keywords\n",
        "1. del()\n",
        "2. clear()\n",
        "3. pop()\n"
      ]
    },
    {
      "cell_type": "code",
      "execution_count": null,
      "metadata": {
        "colab": {
          "base_uri": "https://localhost:8080/"
        },
        "id": "ApsZYhjpd1Jk",
        "outputId": "2788dc25-5d20-4006-aa16-69cba6de138d"
      },
      "outputs": [
        {
          "name": "stdout",
          "output_type": "stream",
          "text": [
            "after deleting price from dictionary, it is{'item': 'pen', 'year': 2000}\n",
            "after deleting item from dictionary. it is {'year': 2000}\n",
            "after clearing the dictionary, it is {}\n"
          ]
        }
      ],
      "source": [
        "dict = { \"price\" : 30 , \"item\" : \"pen\" , \"year\" : 2000}\n",
        "\n",
        "del dict[\"price\"]\n",
        "\n",
        "print(f\"after deleting price from dictionary, it is{dict}\")\n",
        "\n",
        "dict.pop(\"item\")\n",
        "print(f\"after deleting item from dictionary. it is {dict}\")\n",
        "\n",
        "dict.clear()\n",
        "print(f\"after clearing the dictionary, it is {dict}\")"
      ]
    }
  ],
  "metadata": {
    "colab": {
      "provenance": []
    },
    "kernelspec": {
      "display_name": "Python 3",
      "name": "python3"
    },
    "language_info": {
      "name": "python",
      "version": "3.10.7"
    }
  },
  "nbformat": 4,
  "nbformat_minor": 0
}
