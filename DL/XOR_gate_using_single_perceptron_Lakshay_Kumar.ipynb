{
  "nbformat": 4,
  "nbformat_minor": 0,
  "metadata": {
    "colab": {
      "provenance": [],
      "authorship_tag": "ABX9TyPDsSYzlAsgrLy1y3jRj0+L",
      "include_colab_link": true
    },
    "kernelspec": {
      "name": "python3",
      "display_name": "Python 3"
    },
    "language_info": {
      "name": "python"
    }
  },
  "cells": [
    {
      "cell_type": "markdown",
      "metadata": {
        "id": "view-in-github",
        "colab_type": "text"
      },
      "source": [
        "<a href=\"https://colab.research.google.com/github/Lakshaykumarr28/Machine-Learning-using-Python/blob/main/DL/XOR_gate_using_single_perceptron_Lakshay_Kumar.ipynb\" target=\"_parent\"><img src=\"https://colab.research.google.com/assets/colab-badge.svg\" alt=\"Open In Colab\"/></a>"
      ]
    },
    {
      "cell_type": "markdown",
      "source": [
        "Implementing XOR gate using single level perceptron."
      ],
      "metadata": {
        "id": "SsaxAsx7b4_f"
      }
    },
    {
      "cell_type": "code",
      "execution_count": null,
      "metadata": {
        "id": "IG-9qhF9QLgb"
      },
      "outputs": [],
      "source": [
        "import numpy as np\n",
        "from tensorflow import keras"
      ]
    },
    {
      "cell_type": "code",
      "source": [
        "X_train = [[1,0], [1,1],[0,0], [0,1]]\n",
        "y_train = [[1],[0], [0], [1]]"
      ],
      "metadata": {
        "id": "ap27TY3CQdgC"
      },
      "execution_count": null,
      "outputs": []
    },
    {
      "cell_type": "code",
      "source": [
        "model = keras.Sequential()\n",
        "model.add(keras.layers.Dense(units=2, input_dim=2, activation='sigmoid'))\n",
        "model.add(keras.layers.Dense(units=1, activation='sigmoid'))"
      ],
      "metadata": {
        "id": "OFbwOyB8YLQz"
      },
      "execution_count": null,
      "outputs": []
    },
    {
      "cell_type": "code",
      "source": [
        "model.compile(loss='binary_crossentropy', optimizer='adam', metrics=['accuracy'])"
      ],
      "metadata": {
        "id": "N4i4-d1GYrSd"
      },
      "execution_count": null,
      "outputs": []
    },
    {
      "cell_type": "code",
      "source": [
        "model.fit(X_train, y_train, epochs=2000, verbose=0)"
      ],
      "metadata": {
        "colab": {
          "base_uri": "https://localhost:8080/"
        },
        "id": "Y3KaBDNBYtaA",
        "outputId": "8a5914f1-1ffd-4fad-854d-ef78b4acca80"
      },
      "execution_count": null,
      "outputs": [
        {
          "output_type": "execute_result",
          "data": {
            "text/plain": [
              "<keras.callbacks.History at 0x7dc86e6634c0>"
            ]
          },
          "metadata": {},
          "execution_count": 36
        }
      ]
    },
    {
      "cell_type": "code",
      "source": [
        "loss, accuracy = model.evaluate(X_train, y_train)\n",
        "print(f\"Loss: {loss:.4f}, Accuracy: {accuracy:.4f}\")"
      ],
      "metadata": {
        "colab": {
          "base_uri": "https://localhost:8080/"
        },
        "id": "bbnSPwLZYzgm",
        "outputId": "495f816f-56c5-4f56-9f8c-a7ab103abc10"
      },
      "execution_count": null,
      "outputs": [
        {
          "output_type": "stream",
          "name": "stdout",
          "text": [
            "1/1 [==============================] - 0s 204ms/step - loss: 0.4836 - accuracy: 0.5000\n",
            "Loss: 0.4836, Accuracy: 0.5000\n"
          ]
        }
      ]
    },
    {
      "cell_type": "code",
      "source": [
        "print(f'input: [1,0], predicted output: {model.predict([[1,0]])}')"
      ],
      "metadata": {
        "colab": {
          "base_uri": "https://localhost:8080/"
        },
        "id": "d0epS36zaSYb",
        "outputId": "7637b413-8e3f-40d5-a0eb-a71a4e01a9e2"
      },
      "execution_count": null,
      "outputs": [
        {
          "output_type": "stream",
          "name": "stdout",
          "text": [
            "1/1 [==============================] - 0s 83ms/step\n",
            "input: [1,0], predicted output: [[0.8244527]]\n"
          ]
        }
      ]
    }
  ]
}